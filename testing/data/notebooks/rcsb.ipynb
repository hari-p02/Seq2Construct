{
 "cells": [
  {
   "cell_type": "markdown",
   "metadata": {
    "id": "AJXOqX4REsIg"
   },
   "source": [
    "# Install & Import Dependencies"
   ]
  },
  {
   "cell_type": "code",
   "execution_count": null,
   "metadata": {
    "colab": {
     "base_uri": "https://localhost:8080/"
    },
    "id": "27v0JDTnquLs",
    "outputId": "9b4f1f62-c7fd-4183-d716-00df54a85276"
   },
   "outputs": [],
   "source": [
    "# ! pip install rcsb-api\n",
    "# ! pip install biopython\n",
    "# ! pip install swifter"
   ]
  },
  {
   "cell_type": "code",
   "execution_count": null,
   "metadata": {
    "id": "woskpRn3qwwr"
   },
   "outputs": [],
   "source": [
    "from rcsbapi.data import DataQuery as Query\n",
    "import json\n",
    "from rcsbapi.search import search_attributes as attrs\n",
    "import pandas as pd\n",
    "# from Bio.Align.PairwiseAligner import pairwise2\n",
    "from Bio.Seq import Seq\n",
    "# from Bio.Align import substitution_matrices\n",
    "import re\n",
    "# from Bio.pairwise2 import format_alignment\n",
    "import os\n",
    "import subprocess\n",
    "import swifter\n",
    "from concurrent.futures import ProcessPoolExecutor, as_completed\n",
    "# blosum62_matrix = substitution_matrices.load(\"BLOSUM62\")\n",
    "import time\n",
    "from Bio.Align import PairwiseAligner, substitution_matrices\n",
    "\n",
    "# Initialize aligner once (outside the function for performance)\n",
    "aligner = PairwiseAligner()\n",
    "aligner.substitution_matrix = substitution_matrices.load(\"BLOSUM62\")\n",
    "aligner.mode = \"global\"  # Equivalent to globalds\n",
    "aligner.open_gap_score = -10      # Gap open penalty\n",
    "aligner.extend_gap_score = -0.5   # Gap extension penalty\n",
    "# Equivalent to penalize_end_gaps=False in pairwise2\n",
    "aligner.target_end_gap_score = 0.0  # No penalty for gaps at end of target\n",
    "aligner.query_end_gap_score = 0.0   # No penalty for gaps at end of query\n",
    "# blosum62"
   ]
  },
  {
   "cell_type": "code",
   "execution_count": null,
   "metadata": {
    "id": "rH09MH7GPT8a"
   },
   "outputs": [],
   "source": [
    "# import os\n",
    "# num_cores = os.cpu_count()\n",
    "# if num_cores is not None:\n",
    "#     print(f\"Number of logical CPU cores: {num_cores}\")\n",
    "# else:\n",
    "#     print(\"Could not determine CPU count.\")"
   ]
  },
  {
   "cell_type": "markdown",
   "metadata": {
    "id": "KhLMj__GEwcq"
   },
   "source": [
    "# RCSB Search Query"
   ]
  },
  {
   "cell_type": "code",
   "execution_count": null,
   "metadata": {
    "id": "Ea5gicQGrUMK"
   },
   "outputs": [],
   "source": [
    "q1 = attrs.rcsb_entity_source_organism.scientific_name == \"Homo sapiens\"\n",
    "q2 = attrs.exptl.method == \"X-RAY DIFFRACTION\""
   ]
  },
  {
   "cell_type": "code",
   "execution_count": null,
   "metadata": {
    "id": "zYfvI7n3rx1N"
   },
   "outputs": [],
   "source": [
    "query = q1 & q2"
   ]
  },
  {
   "cell_type": "code",
   "execution_count": null,
   "metadata": {
    "id": "2eXIImQ6r1Hr"
   },
   "outputs": [],
   "source": [
    "results = query()\n",
    "output = list()\n",
    "for rid in results:\n",
    "    output.append(rid)"
   ]
  },
  {
   "cell_type": "code",
   "execution_count": null,
   "metadata": {
    "colab": {
     "base_uri": "https://localhost:8080/"
    },
    "id": "PF9KsR6-sA9b",
    "outputId": "eec26b1c-9b29-442d-8384-ccdf0ea5a66a"
   },
   "outputs": [],
   "source": [
    "len(output)"
   ]
  },
  {
   "cell_type": "markdown",
   "metadata": {
    "id": "sxOeYh8LEzzy"
   },
   "source": [
    "# RCSB Data Query"
   ]
  },
  {
   "cell_type": "code",
   "execution_count": null,
   "metadata": {
    "colab": {
     "base_uri": "https://localhost:8080/"
    },
    "id": "GO5aCMVYtJ4j",
    "outputId": "67d49d5c-89d9-4fe6-e7a5-c959eabbefe7"
   },
   "outputs": [],
   "source": [
    "query = Query(\n",
    "    input_type=\"entries\",\n",
    "    input_ids=output,\n",
    "    return_data_list=[\n",
    "        \"exptl.method\",\n",
    "        \"polymer_entities.polymer_entity_instances.rcsb_polymer_entity_instance_container_identifiers.entity_id\",\n",
    "        \"polymer_entities.uniprots.rcsb_uniprot_protein.sequence\",\n",
    "        \"polymer_entities.entity_poly.pdbx_seq_one_letter_code\",\n",
    "        \"polymer_entities.uniprots.rcsb_uniprot_protein.source_organism\"\n",
    "    ]\n",
    ")\n",
    "query.exec(progress_bar=True)\n",
    "response_data = query.get_response()\n",
    "# response_data"
   ]
  },
  {
   "cell_type": "code",
   "execution_count": null,
   "metadata": {
    "colab": {
     "base_uri": "https://localhost:8080/"
    },
    "id": "hmMLzwyQz3Qn",
    "outputId": "8fc214a7-28a0-49f8-dc55-1f1c306b2f3f"
   },
   "outputs": [],
   "source": [
    "len(response_data['data']['entries'])"
   ]
  },
  {
   "cell_type": "markdown",
   "metadata": {
    "id": "_0FIBoLUE4tX"
   },
   "source": [
    "# Creating Pandas DF"
   ]
  },
  {
   "cell_type": "code",
   "execution_count": null,
   "metadata": {
    "id": "6M9o86RBuA3G"
   },
   "outputs": [],
   "source": [
    "rcsb_ids = list()\n",
    "rcsb_entity_ids = list()\n",
    "uniprot_seqs = list()\n",
    "pbd_ids = list()\n",
    "\n",
    "for result in response_data['data']['entries']:\n",
    "  for entity in result['polymer_entities']:\n",
    "    if entity['uniprots']:\n",
    "      for uniprot in entity['uniprots']:\n",
    "        if uniprot['rcsb_uniprot_protein']['source_organism']['taxonomy_id'] == 9606:\n",
    "          rcsb_ids.append(result['rcsb_id'])\n",
    "          rcsb_entity_ids.append(entity['polymer_entity_instances'][0]['rcsb_polymer_entity_instance_container_identifiers']['entity_id'])\n",
    "          uniprot_seqs.append(uniprot['rcsb_uniprot_protein']['sequence'])\n",
    "          pbd_ids.append(entity['entity_poly']['pdbx_seq_one_letter_code'])"
   ]
  },
  {
   "cell_type": "code",
   "execution_count": null,
   "metadata": {
    "colab": {
     "base_uri": "https://localhost:8080/"
    },
    "id": "57yMjWsYz9jt",
    "outputId": "364377ee-5fe1-4085-c1c8-6651794a1a27"
   },
   "outputs": [],
   "source": [
    "len(rcsb_ids), len(rcsb_entity_ids), len(uniprot_seqs), len(pbd_ids)"
   ]
  },
  {
   "cell_type": "code",
   "execution_count": null,
   "metadata": {
    "id": "mD_P7CbEvLoF"
   },
   "outputs": [],
   "source": [
    "df = pd.DataFrame(\n",
    "    data = {'rcsb_id': rcsb_ids, 'rcsb_entity_ids': rcsb_entity_ids, 'uniprot_seq': uniprot_seqs, 'pbd_id': pbd_ids}\n",
    ")"
   ]
  },
  {
   "cell_type": "code",
   "execution_count": null,
   "metadata": {
    "colab": {
     "base_uri": "https://localhost:8080/",
     "height": 676
    },
    "id": "UKTntrNmvbN2",
    "outputId": "45cf768d-489b-4b0e-925e-84a020051f07"
   },
   "outputs": [],
   "source": [
    "df.head()"
   ]
  },
  {
   "cell_type": "code",
   "execution_count": null,
   "metadata": {
    "id": "J2Gjtls7vdy3"
   },
   "outputs": [],
   "source": [
    "df.to_excel(\"/Users/haripat/Desktop/SF/protein/data/protein_constructs.xlsx\")"
   ]
  },
  {
   "cell_type": "code",
   "execution_count": null,
   "metadata": {
    "colab": {
     "base_uri": "https://localhost:8080/"
    },
    "id": "4J-pLPPs732e",
    "outputId": "8f665407-1634-4332-c624-d6f60e8cd06c"
   },
   "outputs": [],
   "source": [
    "df.shape"
   ]
  },
  {
   "cell_type": "code",
   "execution_count": null,
   "metadata": {
    "id": "eF0k99lWIGLF"
   },
   "outputs": [],
   "source": [
    "# df = pd.read_excel('/Users/haripat/Desktop/SF/protein/data/protein_constructs.xlsx')\n",
    "df = pd.read_excel('/Users/haripat/Desktop/SF/protein/data/protein_constructs_w_label_masks.xlsx')"
   ]
  },
  {
   "cell_type": "code",
   "execution_count": null,
   "metadata": {},
   "outputs": [],
   "source": [
    "df.head()"
   ]
  },
  {
   "cell_type": "code",
   "execution_count": null,
   "metadata": {},
   "outputs": [],
   "source": [
    "df[df['label_mask'].isna()].shape"
   ]
  },
  {
   "cell_type": "markdown",
   "metadata": {
    "id": "cPzTy3rhIGln"
   },
   "source": [
    "# Cleaning Data"
   ]
  },
  {
   "cell_type": "code",
   "execution_count": null,
   "metadata": {
    "id": "RQpR-MEmMG3x"
   },
   "outputs": [],
   "source": [
    "def sanitize_sequence_advanced(sequence: str) -> str:\n",
    "    if not isinstance(sequence, str):\n",
    "        return \"\" \n",
    "\n",
    "    ptm_replacements = {\n",
    "        \"(MSE)\": \"M\",  # Selenomethionine -> Methionine\n",
    "        \"(SEP)\": \"S\",  # Phosphoserine -> Serine\n",
    "        \"(TPO)\": \"T\",  # Phosphothreonine -> Threonine\n",
    "        \"(PTR)\": \"Y\",  # Phosphotyrosine -> Tyrosine\n",
    "        \"(NEP)\": \"K\",  # N-Epsilon-Phospholysine -> Lysine\n",
    "        \"(MLY)\": \"K\",  # Monomethyllysine -> Lysine\n",
    "        \"(M2L)\": \"K\",  # Dimethyllysine -> Lysine\n",
    "        \"(M3L)\": \"K\",  # Trimethyllysine -> Lysine\n",
    "        \"(ALY)\": \"K\",  # Acetyllysine -> Lysine\n",
    "        \"(HLY)\": \"K\",  # Hydroxylysine -> Lysine\n",
    "        \"(M1G)\": \"R\",  # Monomethylarginine -> Arginine\n",
    "        \"(M2G)\": \"R\",  # Dimethylarginine -> Arginine\n",
    "        \"(CIR)\": \"R\",  # Citrulline -> Arginine\n",
    "        \"(HYP)\": \"P\",  # Hydroxyproline -> Proline\n",
    "        \"(CGU)\": \"E\",  # Gamma-carboxyglutamate -> Glutamate\n",
    "        \"(NH2)\": \"\",   # C-Terminal Amidation -> Remove\n",
    "        \"(ACE)\": \"\",   # N-Acetyl Group -> Remove\n",
    "    }\n",
    "\n",
    "    processed_seq = sequence\n",
    "    for mod_code, standard_aa in ptm_replacements.items():\n",
    "        processed_seq = processed_seq.replace(mod_code, standard_aa)\n",
    "    valid_chars = \"ACDEFGHIKLMNPQRSTVWY\"\n",
    "    sanitized_seq = re.sub(f\"[^{valid_chars}]\", \"X\", processed_seq.upper())\n",
    "    return sanitized_seq"
   ]
  },
  {
   "cell_type": "code",
   "execution_count": null,
   "metadata": {
    "id": "hYgcR39OII5T"
   },
   "outputs": [],
   "source": [
    "# df['pbd_id'] = df['pbd_id'].str.replace(\"(MSE)\", \"M\")\n",
    "# df['pbd_id'] = df['pbd_id'].str.replace(\"(TPO)\", \"T\")\n",
    "# df['pbd_id'] = df['pbd_id'].str.replace(\"(SEP)\", \"S\")\n",
    "# df['pbd_id'] = df['pbd_id'].str.replace(\"(NH2)\", \"\")\n",
    "# df['pbd_id'] = df['pbd_id'].str.replace(\"(PTR)\", \"Y\")\n",
    "# df['pbd_id'] = df['pbd_id'].str.replace(\"(M3L)\", \"K\")\n",
    "# df['pbd_id'] = df['pbd_id'].str.replace(\"(NEP)\", \"K\")\n",
    "df['pdb_sequence_sanitized'] = df['pbd_id'].apply(sanitize_sequence_advanced)\n",
    "df['pdb_sequence_sanitized'] = df['pdb_sequence_sanitized'].str.replace(\"U\", \"C\")\n",
    "df['uniprot_seq'] = df['uniprot_seq'].str.replace(\"U\", \"C\")"
   ]
  },
  {
   "cell_type": "code",
   "execution_count": null,
   "metadata": {
    "id": "dRhEcpAoKP4w"
   },
   "outputs": [],
   "source": [
    "# df[df['pbd_id'].str.contains(\"\\(\")]['pbd_id']"
   ]
  },
  {
   "cell_type": "markdown",
   "metadata": {
    "id": "o2u5v71QE7Wc"
   },
   "source": [
    "# Labeling Data"
   ]
  },
  {
   "cell_type": "code",
   "execution_count": null,
   "metadata": {
    "id": "kDv0JLqZGlRx"
   },
   "outputs": [],
   "source": [
    "# df = pd.read_csv('project_data_v3.csv')"
   ]
  },
  {
   "cell_type": "code",
   "execution_count": null,
   "metadata": {
    "colab": {
     "base_uri": "https://localhost:8080/",
     "height": 206
    },
    "id": "rqI4ocZyGxK9",
    "outputId": "9b9767cc-bfb2-4398-dc16-e0c562952784"
   },
   "outputs": [],
   "source": [
    "df.head()"
   ]
  },
  {
   "cell_type": "code",
   "execution_count": null,
   "metadata": {
    "id": "YVvfsjdM4I03"
   },
   "outputs": [],
   "source": [
    "def create_multi_class_mask_v1(uniprot_sequence: str, pdb_construct_sequence: str) -> list[int] | None:\n",
    "    \"\"\"\n",
    "    Generates a multi-class modification mask by globally aligning a UniProt\n",
    "    sequence with a PDB construct sequence.\n",
    "\n",
    "    The mask is the same length as the UniProt sequence. Each position is labeled:\n",
    "    - 0: Maintained (the residue is the same in both sequences)\n",
    "    - 1: Deleted (the residue is in UniProt but absent in the PDB construct)\n",
    "    - 2: Mutated (the residue is present but changed to a different amino acid)\n",
    "\n",
    "    Args:\n",
    "        uniprot_sequence: The full-length, canonical protein sequence.\n",
    "        pdb_construct_sequence: The engineered sequence from the PDB.\n",
    "\n",
    "    Returns:\n",
    "        A list of integers (0, 1, or 2) representing the modification mask,\n",
    "        or None if no alignment can be generated.\n",
    "    \"\"\"\n",
    "    # try:\n",
    "      # print(\"--- Performing Global Alignment ---\")\n",
    "\n",
    "    # Perform the alignment\n",
    "    alignments = aligner.align(uniprot_sequence, pdb_construct_sequence)\n",
    "\n",
    "    if not alignments:\n",
    "        return None\n",
    "\n",
    "    # Best alignment is the first one\n",
    "    best_alignment = alignments[0]\n",
    "\n",
    "    # print('best_alignment', best_alignment)\n",
    "\n",
    "    # Convert alignment object to strings\n",
    "    aligned_uniprot = best_alignment.aligned[0]\n",
    "    aligned_pdb = best_alignment.aligned[1]\n",
    "\n",
    "    # Build the full aligned sequences\n",
    "    seq1_aligned = []\n",
    "    seq2_aligned = []\n",
    "\n",
    "    idx_uniprot, idx_pdb = 0, 0\n",
    "    for (start1, end1), (start2, end2) in zip(aligned_uniprot, aligned_pdb):\n",
    "        # Handle gaps in UniProt\n",
    "        while idx_uniprot < start1:\n",
    "            seq1_aligned.append(uniprot_sequence[idx_uniprot])\n",
    "            seq2_aligned.append(\"-\")\n",
    "            idx_uniprot += 1\n",
    "\n",
    "        # Handle gaps in PDB\n",
    "        while idx_pdb < start2:\n",
    "            seq1_aligned.append(\"-\")\n",
    "            seq2_aligned.append(pdb_construct_sequence[idx_pdb])\n",
    "            idx_pdb += 1\n",
    "\n",
    "        # Add aligned region\n",
    "        for i in range(end1 - start1):\n",
    "            seq1_aligned.append(uniprot_sequence[start1 + i])\n",
    "            seq2_aligned.append(pdb_construct_sequence[start2 + i])\n",
    "\n",
    "        idx_uniprot = end1\n",
    "        idx_pdb = end2\n",
    "\n",
    "    # Build modification mask\n",
    "    modification_mask = []\n",
    "    for u_char, p_char in zip(seq1_aligned, seq2_aligned):\n",
    "        if u_char == \"-\":\n",
    "            continue  # Ignore gaps in UniProt\n",
    "        if p_char == \"-\":\n",
    "            modification_mask.append(1)  # Deleted\n",
    "        elif u_char == p_char:\n",
    "            modification_mask.append(0)  # Maintained\n",
    "        else:\n",
    "            modification_mask.append(2)  # Mutated\n",
    "\n",
    "    # Validation check\n",
    "    if len(modification_mask) != len(uniprot_sequence):\n",
    "        \n",
    "        return None\n",
    "\n",
    "    return modification_mask\n",
    "    # except:\n",
    "    #   return None, None\n",
    "\n",
    "def format_alignment_for_display(alignment):\n",
    "    \"\"\"Helper function to print the alignment nicely.\"\"\"\n",
    "    uniprot_alg, pdb_alg, score, begin, end = alignment\n",
    "\n",
    "    connector = \"\"\n",
    "    for u_char, p_char in zip(uniprot_alg, pdb_alg):\n",
    "        if u_char == p_char:\n",
    "            connector += \"|\"\n",
    "        elif u_char == '-' or p_char == '-':\n",
    "            connector += \" \"\n",
    "        else:\n",
    "            connector += \".\"\n",
    "\n",
    "    return (\n",
    "        f\"Score: {score}\\n\\n\"\n",
    "        f\"UniProt: {uniprot_alg}\\n\"\n",
    "        f\"         {connector}\\n\"\n",
    "        f\"PDB    : {pdb_alg}\"\n",
    "    )"
   ]
  },
  {
   "cell_type": "code",
   "execution_count": null,
   "metadata": {
    "id": "xyIW50VX3y_E"
   },
   "outputs": [],
   "source": [
    "i = 3\n",
    "pdb_sequence = df.loc[i]['pdb_sequence_sanitized'] #df[df['pbd_id'].str.contains('HHHHHH')].loc[i]['pbd_id']\n",
    "uniprot_sequence = df.loc[i]['uniprot_seq'] #df[df['pbd_id'].str.contains('HHHHHH')].loc[i]['uniprot_seq']"
   ]
  },
  {
   "cell_type": "code",
   "execution_count": null,
   "metadata": {
    "colab": {
     "base_uri": "https://localhost:8080/",
     "height": 36
    },
    "id": "xMzm09sfHeqy",
    "outputId": "80f6b776-b37b-4fe5-bd56-556ee428f627"
   },
   "outputs": [],
   "source": [
    "pdb_sequence"
   ]
  },
  {
   "cell_type": "code",
   "execution_count": null,
   "metadata": {
    "colab": {
     "base_uri": "https://localhost:8080/",
     "height": 36
    },
    "id": "OjW_YQe9HhT_",
    "outputId": "4d0373bf-27e3-494c-ee33-04d14c844092"
   },
   "outputs": [],
   "source": [
    "uniprot_sequence"
   ]
  },
  {
   "cell_type": "code",
   "execution_count": null,
   "metadata": {
    "id": "7bwQZ90yDGJk"
   },
   "outputs": [],
   "source": [
    "pdb_seq = pdb_sequence\n",
    "uniprot_seq = uniprot_sequence\n",
    "\n",
    "result = create_multi_class_mask_v1(uniprot_seq, pdb_seq)\n",
    "\n",
    "# if result:\n",
    "#     mask, alignment = result\n",
    "\n",
    "#     print(\"\\n\" + \"=\"*80)\n",
    "#     print(\"RESULTS\")\n",
    "#     print(\"=\"*80)\n",
    "\n",
    "#     # print(\"\\n--- Visual Alignment ---\")\n",
    "#     # print(format_alignment_for_display(alignment))\n",
    "\n",
    "#     print(f\"\\n--- Multi-Class Mask (first 100 values) ---\")\n",
    "#     print(mask)\n",
    "\n",
    "#     # --- Statistics ---\n",
    "#     maintained_count = mask.count(0)\n",
    "#     deleted_count = mask.count(1)\n",
    "#     mutated_count = mask.count(2)\n",
    "\n",
    "#     print(\"\\n--- Summary ---\")\n",
    "#     print(f\"UniProt Sequence Length: {len(uniprot_seq)}\")\n",
    "#     print(f\"Mask Length:             {len(mask)}\")\n",
    "#     print(f\"Residues Maintained (0): {maintained_count}\")\n",
    "#     print(f\"Residues Deleted (1):    {deleted_count}\")\n",
    "#     print(f\"Residues Mutated (2):    {mutated_count}\")\n",
    "print(result)"
   ]
  },
  {
   "cell_type": "code",
   "execution_count": null,
   "metadata": {
    "id": "BYFD-LXdQAS1"
   },
   "outputs": [],
   "source": [
    "# df['label_mask'] = df.swifter.apply(lambda row: create_multi_class_mask(row['uniprot_seq'], row['pdb_sequence_sanitized'])[0], axis=1)"
   ]
  },
  {
   "cell_type": "code",
   "execution_count": null,
   "metadata": {},
   "outputs": [],
   "source": [
    "# df['label_mask'] = [\n",
    "#     create_multi_class_mask(row['uniprot_seq'], row['pdb_sequence_sanitized'])[0]\n",
    "#     for _, row in df.iterrows()\n",
    "# ]"
   ]
  },
  {
   "cell_type": "code",
   "execution_count": null,
   "metadata": {},
   "outputs": [],
   "source": [
    "def create_multi_class_mask(uniprot_sequence: str, pdb_construct_sequence: str) -> list[int] | None:\n",
    "    \"\"\"\n",
    "    Generates a multi-class modification mask by globally aligning a UniProt\n",
    "    sequence with a PDB construct sequence.\n",
    "\n",
    "    The mask is the same length as the UniProt sequence. Each position is labeled:\n",
    "    - 0: Maintained (the residue is the same in both sequences)\n",
    "    - 1: Deleted (the residue is in UniProt but absent in the PDB construct)\n",
    "    - 2: Mutated (the residue is present but changed to a different amino acid)\n",
    "\n",
    "    Args:\n",
    "        uniprot_sequence: The full-length, canonical protein sequence.\n",
    "        pdb_construct_sequence: The engineered sequence from the PDB.\n",
    "\n",
    "    Returns:\n",
    "        A list of integers (0, 1, or 2) representing the modification mask,\n",
    "        or None if no alignment can be generated.\n",
    "    \"\"\"\n",
    "    # print(\"--- Performing Global Alignment ---\")\n",
    "\n",
    "\n",
    "    alignments = pairwise2.align.globalds(\n",
    "        uniprot_sequence,\n",
    "        pdb_construct_sequence,\n",
    "        blosum62,\n",
    "        -10,  # Gap open penalty\n",
    "        -0.5  # Gap extend penalty\n",
    "    )\n",
    "\n",
    "    if not alignments:\n",
    "        print(\"Error: Could not generate an alignment.\")\n",
    "        return None\n",
    "\n",
    "    best_alignment = alignments[0]\n",
    "    aligned_uniprot, aligned_pdb, score, begin, end = best_alignment\n",
    "\n",
    "\n",
    "    modification_mask = []\n",
    "\n",
    "    for uniprot_char, pdb_char in zip(aligned_uniprot, aligned_pdb):\n",
    "        if uniprot_char == '-':\n",
    "            # This case means there's an insertion in the PDB sequence (e.g., a tag).\n",
    "            # It doesn't correspond to a position in the UniProt sequence, so we skip it.\n",
    "            continue\n",
    "\n",
    "        if pdb_char == '-':\n",
    "            # A gap in the PDB sequence means the UniProt residue was deleted.\n",
    "            modification_mask.append(1) # 1 = Deleted\n",
    "        elif uniprot_char == pdb_char:\n",
    "            # The characters match, so the residue was maintained.\n",
    "            modification_mask.append(0) # 0 = Maintained\n",
    "        else:\n",
    "            # The characters are different, so the residue was mutated.\n",
    "            modification_mask.append(2) # 2 = Mutated\n",
    "\n",
    "    if len(modification_mask) != len(uniprot_sequence):\n",
    "        print(f\"Error: Mask length ({len(modification_mask)}) does not match UniProt sequence length ({len(uniprot_sequence)}).\")\n",
    "        return None\n",
    "\n",
    "    return modification_mask"
   ]
  },
  {
   "cell_type": "code",
   "execution_count": null,
   "metadata": {},
   "outputs": [],
   "source": [
    "for i, row in df[500:5000].iterrows():\n",
    "    print(\"-----\")\n",
    "    print(f\"IN ROW {i}\")\n",
    "    create_multi_class_mask(row['uniprot_seq'], row['pdb_sequence_sanitized'])"
   ]
  },
  {
   "cell_type": "code",
   "execution_count": null,
   "metadata": {},
   "outputs": [],
   "source": [
    "def process_group(group_df):\n",
    "    ret = dict()\n",
    "    for i, row in group_df.iterrows():\n",
    "        ret[i] = create_multi_class_mask(row['uniprot_seq'], row['pdb_sequence_sanitized'])\n",
    "    return ret\n",
    "\n",
    "def process_groups(groups):\n",
    "    ret = dict()\n",
    "    for group_df in groups:\n",
    "        op = process_group(group_df=group_df)\n",
    "        ret.update(op)\n",
    "    return ret\n",
    "\n",
    "def partition_dataframe(df, chunk_size=100, list_size=10):\n",
    "    all_chunked_dfs = []\n",
    "    num_chunks = (len(df) + chunk_size - 1) // chunk_size\n",
    "\n",
    "    for i in range(num_chunks):\n",
    "        start_index = i * chunk_size\n",
    "        end_index = min((i + 1) * chunk_size, len(df))\n",
    "        all_chunked_dfs.append(df.iloc[start_index:end_index])\n",
    "\n",
    "    final_partitions = []\n",
    "    num_sublists = (len(all_chunked_dfs) + list_size - 1) // list_size\n",
    "\n",
    "    for i in range(num_sublists):\n",
    "        start_index_sublist = i * list_size\n",
    "        end_index_sublist = min((i + 1) * list_size, len(all_chunked_dfs))\n",
    "        final_partitions.append(all_chunked_dfs[start_index_sublist:end_index_sublist])\n",
    "\n",
    "    return final_partitions\n"
   ]
  },
  {
   "cell_type": "code",
   "execution_count": null,
   "metadata": {},
   "outputs": [],
   "source": [
    "def prcoess_data_cc(df, blosum62_mat):\n",
    "    global blosum62\n",
    "    blosum62 = blosum62_mat\n",
    "    gps = partition_dataframe(df)\n",
    "    ops = dict()\n",
    "    with ProcessPoolExecutor(4) as executor:\n",
    "        results = executor.map(process_groups, gps)\n",
    "        for result in results:\n",
    "            ops.update(result)"
   ]
  },
  {
   "cell_type": "code",
   "execution_count": null,
   "metadata": {},
   "outputs": [],
   "source": [
    "df[0:1000].shape"
   ]
  },
  {
   "cell_type": "code",
   "execution_count": null,
   "metadata": {},
   "outputs": [],
   "source": [
    "prcoess_data_cc(df[0:1000], blosum62_mat=blosum62_matrix)"
   ]
  },
  {
   "cell_type": "code",
   "execution_count": null,
   "metadata": {},
   "outputs": [],
   "source": []
  }
 ],
 "metadata": {
  "colab": {
   "provenance": []
  },
  "kernelspec": {
   "display_name": "protein",
   "language": "python",
   "name": "python3"
  },
  "language_info": {
   "codemirror_mode": {
    "name": "ipython",
    "version": 3
   },
   "file_extension": ".py",
   "mimetype": "text/x-python",
   "name": "python",
   "nbconvert_exporter": "python",
   "pygments_lexer": "ipython3",
   "version": "3.12.10"
  }
 },
 "nbformat": 4,
 "nbformat_minor": 0
}
