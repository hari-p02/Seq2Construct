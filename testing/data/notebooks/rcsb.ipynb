{
  "cells": [
    {
      "cell_type": "markdown",
      "metadata": {
        "id": "AJXOqX4REsIg"
      },
      "source": [
        "# Install & Import Dependencies"
      ]
    },
    {
      "cell_type": "code",
      "execution_count": 1,
      "metadata": {
        "colab": {
          "base_uri": "https://localhost:8080/"
        },
        "id": "27v0JDTnquLs",
        "outputId": "9b4f1f62-c7fd-4183-d716-00df54a85276"
      },
      "outputs": [],
      "source": [
        "# ! pip install rcsb-api\n",
        "# ! pip install biopython\n",
        "# ! pip install swifter"
      ]
    },
    {
      "cell_type": "code",
      "execution_count": 58,
      "metadata": {
        "id": "woskpRn3qwwr"
      },
      "outputs": [],
      "source": [
        "from rcsbapi.data import DataQuery as Query\n",
        "import json\n",
        "from rcsbapi.search import search_attributes as attrs\n",
        "import pandas as pd\n",
        "# from Bio.Align.PairwiseAligner import pairwise2\n",
        "from Bio.Seq import Seq\n",
        "# from Bio.Align import substitution_matrices\n",
        "import re\n",
        "# from Bio.pairwise2 import format_alignment\n",
        "import os\n",
        "import subprocess\n",
        "import swifter\n",
        "from concurrent.futures import ProcessPoolExecutor, as_completed\n",
        "# blosum62_matrix = substitution_matrices.load(\"BLOSUM62\")\n",
        "import time\n",
        "from Bio.Align import PairwiseAligner, substitution_matrices\n",
        "\n",
        "# Initialize aligner once (outside the function for performance)\n",
        "aligner = PairwiseAligner()\n",
        "aligner.substitution_matrix = substitution_matrices.load(\"BLOSUM62\")\n",
        "aligner.mode = \"global\"  # Equivalent to globalds\n",
        "aligner.open_gap_score = -10      # Gap open penalty\n",
        "aligner.extend_gap_score = -0.5   # Gap extension penalty\n",
        "# Equivalent to penalize_end_gaps=False in pairwise2\n",
        "aligner.target_end_gap_score = 0.0  # No penalty for gaps at end of target\n",
        "aligner.query_end_gap_score = 0.0   # No penalty for gaps at end of query\n",
        "# blosum62"
      ]
    },
    {
      "cell_type": "code",
      "execution_count": 59,
      "metadata": {
        "id": "rH09MH7GPT8a"
      },
      "outputs": [],
      "source": [
        "# import os\n",
        "# num_cores = os.cpu_count()\n",
        "# if num_cores is not None:\n",
        "#     print(f\"Number of logical CPU cores: {num_cores}\")\n",
        "# else:\n",
        "#     print(\"Could not determine CPU count.\")"
      ]
    },
    {
      "cell_type": "markdown",
      "metadata": {
        "id": "KhLMj__GEwcq"
      },
      "source": [
        "# RCSB Search Query"
      ]
    },
    {
      "cell_type": "code",
      "execution_count": 60,
      "metadata": {
        "id": "Ea5gicQGrUMK"
      },
      "outputs": [],
      "source": [
        "q1 = attrs.rcsb_entity_source_organism.scientific_name == \"Homo sapiens\"\n",
        "q2 = attrs.exptl.method == \"X-RAY DIFFRACTION\""
      ]
    },
    {
      "cell_type": "code",
      "execution_count": 5,
      "metadata": {
        "id": "zYfvI7n3rx1N"
      },
      "outputs": [],
      "source": [
        "query = q1 & q2"
      ]
    },
    {
      "cell_type": "code",
      "execution_count": 6,
      "metadata": {
        "id": "2eXIImQ6r1Hr"
      },
      "outputs": [],
      "source": [
        "results = query()\n",
        "output = list()\n",
        "for rid in results:\n",
        "    output.append(rid)"
      ]
    },
    {
      "cell_type": "code",
      "execution_count": 7,
      "metadata": {
        "colab": {
          "base_uri": "https://localhost:8080/"
        },
        "id": "PF9KsR6-sA9b",
        "outputId": "eec26b1c-9b29-442d-8384-ccdf0ea5a66a"
      },
      "outputs": [
        {
          "data": {
            "text/plain": [
              "59477"
            ]
          },
          "execution_count": 7,
          "metadata": {},
          "output_type": "execute_result"
        }
      ],
      "source": [
        "len(output)"
      ]
    },
    {
      "cell_type": "markdown",
      "metadata": {
        "id": "sxOeYh8LEzzy"
      },
      "source": [
        "# RCSB Data Query"
      ]
    },
    {
      "cell_type": "code",
      "execution_count": 8,
      "metadata": {
        "colab": {
          "base_uri": "https://localhost:8080/"
        },
        "id": "GO5aCMVYtJ4j",
        "outputId": "67d49d5c-89d9-4fe6-e7a5-c959eabbefe7"
      },
      "outputs": [
        {
          "name": "stderr",
          "output_type": "stream",
          "text": [
            "WARNING: More than 50000 IDs were provided as input. Query may take several minutes to complete.\n",
            "100%|██████████| 199/199 [03:07<00:00,  1.06it/s]\n"
          ]
        }
      ],
      "source": [
        "query = Query(\n",
        "    input_type=\"entries\",\n",
        "    input_ids=output,\n",
        "    return_data_list=[\n",
        "        \"exptl.method\",\n",
        "        \"polymer_entities.polymer_entity_instances.rcsb_polymer_entity_instance_container_identifiers.entity_id\",\n",
        "        \"polymer_entities.uniprots.rcsb_uniprot_protein.sequence\",\n",
        "        \"polymer_entities.entity_poly.pdbx_seq_one_letter_code\",\n",
        "        \"polymer_entities.uniprots.rcsb_uniprot_protein.source_organism\"\n",
        "    ]\n",
        ")\n",
        "query.exec(progress_bar=True)\n",
        "response_data = query.get_response()\n",
        "# response_data"
      ]
    },
    {
      "cell_type": "code",
      "execution_count": 9,
      "metadata": {
        "colab": {
          "base_uri": "https://localhost:8080/"
        },
        "id": "hmMLzwyQz3Qn",
        "outputId": "8fc214a7-28a0-49f8-dc55-1f1c306b2f3f"
      },
      "outputs": [
        {
          "data": {
            "text/plain": [
              "59477"
            ]
          },
          "execution_count": 9,
          "metadata": {},
          "output_type": "execute_result"
        }
      ],
      "source": [
        "len(response_data['data']['entries'])"
      ]
    },
    {
      "cell_type": "markdown",
      "metadata": {
        "id": "_0FIBoLUE4tX"
      },
      "source": [
        "# Creating Pandas DF"
      ]
    },
    {
      "cell_type": "code",
      "execution_count": 10,
      "metadata": {
        "id": "6M9o86RBuA3G"
      },
      "outputs": [],
      "source": [
        "rcsb_ids = list()\n",
        "rcsb_entity_ids = list()\n",
        "uniprot_seqs = list()\n",
        "pbd_ids = list()\n",
        "\n",
        "for result in response_data['data']['entries']:\n",
        "  for entity in result['polymer_entities']:\n",
        "    if entity['uniprots']:\n",
        "      for uniprot in entity['uniprots']:\n",
        "        if uniprot['rcsb_uniprot_protein']['source_organism']['taxonomy_id'] == 9606:\n",
        "          rcsb_ids.append(result['rcsb_id'])\n",
        "          rcsb_entity_ids.append(entity['polymer_entity_instances'][0]['rcsb_polymer_entity_instance_container_identifiers']['entity_id'])\n",
        "          uniprot_seqs.append(uniprot['rcsb_uniprot_protein']['sequence'])\n",
        "          pbd_ids.append(entity['entity_poly']['pdbx_seq_one_letter_code'])"
      ]
    },
    {
      "cell_type": "code",
      "execution_count": 11,
      "metadata": {
        "colab": {
          "base_uri": "https://localhost:8080/"
        },
        "id": "57yMjWsYz9jt",
        "outputId": "364377ee-5fe1-4085-c1c8-6651794a1a27"
      },
      "outputs": [
        {
          "data": {
            "text/plain": [
              "(70732, 70732, 70732, 70732)"
            ]
          },
          "execution_count": 11,
          "metadata": {},
          "output_type": "execute_result"
        }
      ],
      "source": [
        "len(rcsb_ids), len(rcsb_entity_ids), len(uniprot_seqs), len(pbd_ids)"
      ]
    },
    {
      "cell_type": "code",
      "execution_count": 12,
      "metadata": {
        "id": "mD_P7CbEvLoF"
      },
      "outputs": [],
      "source": [
        "df = pd.DataFrame(\n",
        "    data = {'rcsb_id': rcsb_ids, 'rcsb_entity_ids': rcsb_entity_ids, 'uniprot_seq': uniprot_seqs, 'pbd_id': pbd_ids}\n",
        ")"
      ]
    },
    {
      "cell_type": "code",
      "execution_count": 13,
      "metadata": {
        "colab": {
          "base_uri": "https://localhost:8080/",
          "height": 676
        },
        "id": "UKTntrNmvbN2",
        "outputId": "45cf768d-489b-4b0e-925e-84a020051f07"
      },
      "outputs": [
        {
          "data": {
            "text/html": [
              "<div>\n",
              "<style scoped>\n",
              "    .dataframe tbody tr th:only-of-type {\n",
              "        vertical-align: middle;\n",
              "    }\n",
              "\n",
              "    .dataframe tbody tr th {\n",
              "        vertical-align: top;\n",
              "    }\n",
              "\n",
              "    .dataframe thead th {\n",
              "        text-align: right;\n",
              "    }\n",
              "</style>\n",
              "<table border=\"1\" class=\"dataframe\">\n",
              "  <thead>\n",
              "    <tr style=\"text-align: right;\">\n",
              "      <th></th>\n",
              "      <th>rcsb_id</th>\n",
              "      <th>rcsb_entity_ids</th>\n",
              "      <th>uniprot_seq</th>\n",
              "      <th>pbd_id</th>\n",
              "    </tr>\n",
              "  </thead>\n",
              "  <tbody>\n",
              "    <tr>\n",
              "      <th>0</th>\n",
              "      <td>2GD8</td>\n",
              "      <td>1</td>\n",
              "      <td>MSHHWGYGKHNGPEHWHKDFPIAKGERQSPVDIDTHTAKYDPSLKP...</td>\n",
              "      <td>SHHWGYGKHNGPEHWHKDFPIAKGERQSPVDIDTHTAKYDPSLKPL...</td>\n",
              "    </tr>\n",
              "    <tr>\n",
              "      <th>1</th>\n",
              "      <td>2GDD</td>\n",
              "      <td>1</td>\n",
              "      <td>MLNLLLLALPVLASRAYAAPAPGQALQRVGIVGGQEAPRSKWPWQV...</td>\n",
              "      <td>IVGGQEAPRSKWPWQVSLRVHGPYWMHFCGGSLIHPQWVLTAAHCV...</td>\n",
              "    </tr>\n",
              "    <tr>\n",
              "      <th>2</th>\n",
              "      <td>2GDE</td>\n",
              "      <td>1</td>\n",
              "      <td>MAHVRGLQLPGCLALAALCSLVHSQHVFLAPQQARSLLQRVRRANT...</td>\n",
              "      <td>TFGSGEADCGLRPLFEKKSLEDKTERELLESYIDGR</td>\n",
              "    </tr>\n",
              "    <tr>\n",
              "      <th>3</th>\n",
              "      <td>2GDE</td>\n",
              "      <td>2</td>\n",
              "      <td>MAHVRGLQLPGCLALAALCSLVHSQHVFLAPQQARSLLQRVRRANT...</td>\n",
              "      <td>IVEGSDAEIGMSPWQVMLFRKSPQELLCGASLISDRWVLTAAHCLL...</td>\n",
              "    </tr>\n",
              "    <tr>\n",
              "      <th>4</th>\n",
              "      <td>2GDO</td>\n",
              "      <td>1</td>\n",
              "      <td>MAVPFVEDWDLVQTLGEGAYGEVQLAVNRVTEEAVAVKIVDMKRAV...</td>\n",
              "      <td>MAVPFVEDWDLVQTLGEGAYGEVQLAVNRVTEEAVAVKIVDMKRAV...</td>\n",
              "    </tr>\n",
              "  </tbody>\n",
              "</table>\n",
              "</div>"
            ],
            "text/plain": [
              "  rcsb_id rcsb_entity_ids                                        uniprot_seq  \\\n",
              "0    2GD8               1  MSHHWGYGKHNGPEHWHKDFPIAKGERQSPVDIDTHTAKYDPSLKP...   \n",
              "1    2GDD               1  MLNLLLLALPVLASRAYAAPAPGQALQRVGIVGGQEAPRSKWPWQV...   \n",
              "2    2GDE               1  MAHVRGLQLPGCLALAALCSLVHSQHVFLAPQQARSLLQRVRRANT...   \n",
              "3    2GDE               2  MAHVRGLQLPGCLALAALCSLVHSQHVFLAPQQARSLLQRVRRANT...   \n",
              "4    2GDO               1  MAVPFVEDWDLVQTLGEGAYGEVQLAVNRVTEEAVAVKIVDMKRAV...   \n",
              "\n",
              "                                              pbd_id  \n",
              "0  SHHWGYGKHNGPEHWHKDFPIAKGERQSPVDIDTHTAKYDPSLKPL...  \n",
              "1  IVGGQEAPRSKWPWQVSLRVHGPYWMHFCGGSLIHPQWVLTAAHCV...  \n",
              "2               TFGSGEADCGLRPLFEKKSLEDKTERELLESYIDGR  \n",
              "3  IVEGSDAEIGMSPWQVMLFRKSPQELLCGASLISDRWVLTAAHCLL...  \n",
              "4  MAVPFVEDWDLVQTLGEGAYGEVQLAVNRVTEEAVAVKIVDMKRAV...  "
            ]
          },
          "execution_count": 13,
          "metadata": {},
          "output_type": "execute_result"
        }
      ],
      "source": [
        "df.head()"
      ]
    },
    {
      "cell_type": "code",
      "execution_count": 42,
      "metadata": {
        "id": "J2Gjtls7vdy3"
      },
      "outputs": [],
      "source": [
        "df.to_excel(\"/Users/haripat/Desktop/SF/protein/data/protein_constructs.xlsx\")"
      ]
    },
    {
      "cell_type": "code",
      "execution_count": 43,
      "metadata": {
        "colab": {
          "base_uri": "https://localhost:8080/"
        },
        "id": "4J-pLPPs732e",
        "outputId": "8f665407-1634-4332-c624-d6f60e8cd06c"
      },
      "outputs": [
        {
          "data": {
            "text/plain": [
              "(70732, 6)"
            ]
          },
          "execution_count": 43,
          "metadata": {},
          "output_type": "execute_result"
        }
      ],
      "source": [
        "df.shape"
      ]
    },
    {
      "cell_type": "code",
      "execution_count": 106,
      "metadata": {
        "id": "eF0k99lWIGLF"
      },
      "outputs": [],
      "source": [
        "# df = pd.read_excel('/Users/haripat/Desktop/SF/protein/data/protein_constructs.xlsx')\n",
        "df = pd.read_excel('/Users/haripat/Desktop/SF/protein/data/protein_constructs_w_label_masks.xlsx')"
      ]
    },
    {
      "cell_type": "code",
      "execution_count": 107,
      "metadata": {},
      "outputs": [
        {
          "data": {
            "text/html": [
              "<div>\n",
              "<style scoped>\n",
              "    .dataframe tbody tr th:only-of-type {\n",
              "        vertical-align: middle;\n",
              "    }\n",
              "\n",
              "    .dataframe tbody tr th {\n",
              "        vertical-align: top;\n",
              "    }\n",
              "\n",
              "    .dataframe thead th {\n",
              "        text-align: right;\n",
              "    }\n",
              "</style>\n",
              "<table border=\"1\" class=\"dataframe\">\n",
              "  <thead>\n",
              "    <tr style=\"text-align: right;\">\n",
              "      <th></th>\n",
              "      <th>Unnamed: 0.2</th>\n",
              "      <th>Unnamed: 0.1</th>\n",
              "      <th>Unnamed: 0</th>\n",
              "      <th>rcsb_id</th>\n",
              "      <th>rcsb_entity_ids</th>\n",
              "      <th>uniprot_seq</th>\n",
              "      <th>pbd_id</th>\n",
              "      <th>pdb_sequence_sanitized</th>\n",
              "      <th>label_mask</th>\n",
              "    </tr>\n",
              "  </thead>\n",
              "  <tbody>\n",
              "    <tr>\n",
              "      <th>0</th>\n",
              "      <td>0</td>\n",
              "      <td>0</td>\n",
              "      <td>0</td>\n",
              "      <td>2GD8</td>\n",
              "      <td>1</td>\n",
              "      <td>MSHHWGYGKHNGPEHWHKDFPIAKGERQSPVDIDTHTAKYDPSLKP...</td>\n",
              "      <td>SHHWGYGKHNGPEHWHKDFPIAKGERQSPVDIDTHTAKYDPSLKPL...</td>\n",
              "      <td>SHHWGYGKHNGPEHWHKDFPIAKGERQSPVDIDTHTAKYDPSLKPL...</td>\n",
              "      <td>[1, 0, 0, 0, 0, 0, 0, 0, 0, 0, 0, 0, 0, 0, 0, ...</td>\n",
              "    </tr>\n",
              "    <tr>\n",
              "      <th>1</th>\n",
              "      <td>1</td>\n",
              "      <td>1</td>\n",
              "      <td>1</td>\n",
              "      <td>2GDD</td>\n",
              "      <td>1</td>\n",
              "      <td>MLNLLLLALPVLASRAYAAPAPGQALQRVGIVGGQEAPRSKWPWQV...</td>\n",
              "      <td>IVGGQEAPRSKWPWQVSLRVHGPYWMHFCGGSLIHPQWVLTAAHCV...</td>\n",
              "      <td>IVGGQEAPRSKWPWQVSLRVHGPYWMHFCGGSLIHPQWVLTAAHCV...</td>\n",
              "      <td>[1, 1, 1, 1, 1, 1, 1, 1, 1, 1, 1, 1, 1, 1, 1, ...</td>\n",
              "    </tr>\n",
              "    <tr>\n",
              "      <th>2</th>\n",
              "      <td>2</td>\n",
              "      <td>2</td>\n",
              "      <td>2</td>\n",
              "      <td>2GDE</td>\n",
              "      <td>1</td>\n",
              "      <td>MAHVRGLQLPGCLALAALCSLVHSQHVFLAPQQARSLLQRVRRANT...</td>\n",
              "      <td>TFGSGEADCGLRPLFEKKSLEDKTERELLESYIDGR</td>\n",
              "      <td>TFGSGEADCGLRPLFEKKSLEDKTERELLESYIDGR</td>\n",
              "      <td>[1, 1, 1, 1, 1, 1, 1, 1, 1, 1, 1, 1, 1, 1, 1, ...</td>\n",
              "    </tr>\n",
              "    <tr>\n",
              "      <th>3</th>\n",
              "      <td>3</td>\n",
              "      <td>3</td>\n",
              "      <td>3</td>\n",
              "      <td>2GDE</td>\n",
              "      <td>2</td>\n",
              "      <td>MAHVRGLQLPGCLALAALCSLVHSQHVFLAPQQARSLLQRVRRANT...</td>\n",
              "      <td>IVEGSDAEIGMSPWQVMLFRKSPQELLCGASLISDRWVLTAAHCLL...</td>\n",
              "      <td>IVEGSDAEIGMSPWQVMLFRKSPQELLCGASLISDRWVLTAAHCLL...</td>\n",
              "      <td>[1, 1, 1, 1, 1, 1, 1, 1, 1, 1, 1, 1, 1, 1, 1, ...</td>\n",
              "    </tr>\n",
              "    <tr>\n",
              "      <th>4</th>\n",
              "      <td>4</td>\n",
              "      <td>4</td>\n",
              "      <td>4</td>\n",
              "      <td>2GDO</td>\n",
              "      <td>1</td>\n",
              "      <td>MAVPFVEDWDLVQTLGEGAYGEVQLAVNRVTEEAVAVKIVDMKRAV...</td>\n",
              "      <td>MAVPFVEDWDLVQTLGEGAYGEVQLAVNRVTEEAVAVKIVDMKRAV...</td>\n",
              "      <td>MAVPFVEDWDLVQTLGEGAYGEVQLAVNRVTEEAVAVKIVDMKRAV...</td>\n",
              "      <td>[0, 0, 0, 0, 0, 0, 0, 0, 0, 0, 0, 0, 0, 0, 0, ...</td>\n",
              "    </tr>\n",
              "  </tbody>\n",
              "</table>\n",
              "</div>"
            ],
            "text/plain": [
              "   Unnamed: 0.2  Unnamed: 0.1  Unnamed: 0 rcsb_id  rcsb_entity_ids  \\\n",
              "0             0             0           0    2GD8                1   \n",
              "1             1             1           1    2GDD                1   \n",
              "2             2             2           2    2GDE                1   \n",
              "3             3             3           3    2GDE                2   \n",
              "4             4             4           4    2GDO                1   \n",
              "\n",
              "                                         uniprot_seq  \\\n",
              "0  MSHHWGYGKHNGPEHWHKDFPIAKGERQSPVDIDTHTAKYDPSLKP...   \n",
              "1  MLNLLLLALPVLASRAYAAPAPGQALQRVGIVGGQEAPRSKWPWQV...   \n",
              "2  MAHVRGLQLPGCLALAALCSLVHSQHVFLAPQQARSLLQRVRRANT...   \n",
              "3  MAHVRGLQLPGCLALAALCSLVHSQHVFLAPQQARSLLQRVRRANT...   \n",
              "4  MAVPFVEDWDLVQTLGEGAYGEVQLAVNRVTEEAVAVKIVDMKRAV...   \n",
              "\n",
              "                                              pbd_id  \\\n",
              "0  SHHWGYGKHNGPEHWHKDFPIAKGERQSPVDIDTHTAKYDPSLKPL...   \n",
              "1  IVGGQEAPRSKWPWQVSLRVHGPYWMHFCGGSLIHPQWVLTAAHCV...   \n",
              "2               TFGSGEADCGLRPLFEKKSLEDKTERELLESYIDGR   \n",
              "3  IVEGSDAEIGMSPWQVMLFRKSPQELLCGASLISDRWVLTAAHCLL...   \n",
              "4  MAVPFVEDWDLVQTLGEGAYGEVQLAVNRVTEEAVAVKIVDMKRAV...   \n",
              "\n",
              "                              pdb_sequence_sanitized  \\\n",
              "0  SHHWGYGKHNGPEHWHKDFPIAKGERQSPVDIDTHTAKYDPSLKPL...   \n",
              "1  IVGGQEAPRSKWPWQVSLRVHGPYWMHFCGGSLIHPQWVLTAAHCV...   \n",
              "2               TFGSGEADCGLRPLFEKKSLEDKTERELLESYIDGR   \n",
              "3  IVEGSDAEIGMSPWQVMLFRKSPQELLCGASLISDRWVLTAAHCLL...   \n",
              "4  MAVPFVEDWDLVQTLGEGAYGEVQLAVNRVTEEAVAVKIVDMKRAV...   \n",
              "\n",
              "                                          label_mask  \n",
              "0  [1, 0, 0, 0, 0, 0, 0, 0, 0, 0, 0, 0, 0, 0, 0, ...  \n",
              "1  [1, 1, 1, 1, 1, 1, 1, 1, 1, 1, 1, 1, 1, 1, 1, ...  \n",
              "2  [1, 1, 1, 1, 1, 1, 1, 1, 1, 1, 1, 1, 1, 1, 1, ...  \n",
              "3  [1, 1, 1, 1, 1, 1, 1, 1, 1, 1, 1, 1, 1, 1, 1, ...  \n",
              "4  [0, 0, 0, 0, 0, 0, 0, 0, 0, 0, 0, 0, 0, 0, 0, ...  "
            ]
          },
          "execution_count": 107,
          "metadata": {},
          "output_type": "execute_result"
        }
      ],
      "source": [
        "df.head()"
      ]
    },
    {
      "cell_type": "code",
      "execution_count": 108,
      "metadata": {},
      "outputs": [
        {
          "data": {
            "text/plain": [
              "(0, 9)"
            ]
          },
          "execution_count": 108,
          "metadata": {},
          "output_type": "execute_result"
        }
      ],
      "source": [
        "df[df['label_mask'].isna()].shape"
      ]
    },
    {
      "cell_type": "markdown",
      "metadata": {
        "id": "cPzTy3rhIGln"
      },
      "source": [
        "# Cleaning Data"
      ]
    },
    {
      "cell_type": "code",
      "execution_count": 73,
      "metadata": {
        "id": "RQpR-MEmMG3x"
      },
      "outputs": [],
      "source": [
        "def sanitize_sequence_advanced(sequence: str) -> str:\n",
        "    if not isinstance(sequence, str):\n",
        "        return \"\" \n",
        "\n",
        "    ptm_replacements = {\n",
        "        \"(MSE)\": \"M\",  # Selenomethionine -> Methionine\n",
        "        \"(SEP)\": \"S\",  # Phosphoserine -> Serine\n",
        "        \"(TPO)\": \"T\",  # Phosphothreonine -> Threonine\n",
        "        \"(PTR)\": \"Y\",  # Phosphotyrosine -> Tyrosine\n",
        "        \"(NEP)\": \"K\",  # N-Epsilon-Phospholysine -> Lysine\n",
        "        \"(MLY)\": \"K\",  # Monomethyllysine -> Lysine\n",
        "        \"(M2L)\": \"K\",  # Dimethyllysine -> Lysine\n",
        "        \"(M3L)\": \"K\",  # Trimethyllysine -> Lysine\n",
        "        \"(ALY)\": \"K\",  # Acetyllysine -> Lysine\n",
        "        \"(HLY)\": \"K\",  # Hydroxylysine -> Lysine\n",
        "        \"(M1G)\": \"R\",  # Monomethylarginine -> Arginine\n",
        "        \"(M2G)\": \"R\",  # Dimethylarginine -> Arginine\n",
        "        \"(CIR)\": \"R\",  # Citrulline -> Arginine\n",
        "        \"(HYP)\": \"P\",  # Hydroxyproline -> Proline\n",
        "        \"(CGU)\": \"E\",  # Gamma-carboxyglutamate -> Glutamate\n",
        "        \"(NH2)\": \"\",   # C-Terminal Amidation -> Remove\n",
        "        \"(ACE)\": \"\",   # N-Acetyl Group -> Remove\n",
        "    }\n",
        "\n",
        "    processed_seq = sequence\n",
        "    for mod_code, standard_aa in ptm_replacements.items():\n",
        "        processed_seq = processed_seq.replace(mod_code, standard_aa)\n",
        "    valid_chars = \"ACDEFGHIKLMNPQRSTVWY\"\n",
        "    sanitized_seq = re.sub(f\"[^{valid_chars}]\", \"X\", processed_seq.upper())\n",
        "    return sanitized_seq"
      ]
    },
    {
      "cell_type": "code",
      "execution_count": 74,
      "metadata": {
        "id": "hYgcR39OII5T"
      },
      "outputs": [],
      "source": [
        "# df['pbd_id'] = df['pbd_id'].str.replace(\"(MSE)\", \"M\")\n",
        "# df['pbd_id'] = df['pbd_id'].str.replace(\"(TPO)\", \"T\")\n",
        "# df['pbd_id'] = df['pbd_id'].str.replace(\"(SEP)\", \"S\")\n",
        "# df['pbd_id'] = df['pbd_id'].str.replace(\"(NH2)\", \"\")\n",
        "# df['pbd_id'] = df['pbd_id'].str.replace(\"(PTR)\", \"Y\")\n",
        "# df['pbd_id'] = df['pbd_id'].str.replace(\"(M3L)\", \"K\")\n",
        "# df['pbd_id'] = df['pbd_id'].str.replace(\"(NEP)\", \"K\")\n",
        "df['pdb_sequence_sanitized'] = df['pbd_id'].apply(sanitize_sequence_advanced)\n",
        "df['pdb_sequence_sanitized'] = df['pdb_sequence_sanitized'].str.replace(\"U\", \"C\")\n",
        "df['uniprot_seq'] = df['uniprot_seq'].str.replace(\"U\", \"C\")"
      ]
    },
    {
      "cell_type": "code",
      "execution_count": 75,
      "metadata": {
        "id": "dRhEcpAoKP4w"
      },
      "outputs": [],
      "source": [
        "# df[df['pbd_id'].str.contains(\"\\(\")]['pbd_id']"
      ]
    },
    {
      "cell_type": "markdown",
      "metadata": {
        "id": "o2u5v71QE7Wc"
      },
      "source": [
        "# Labeling Data"
      ]
    },
    {
      "cell_type": "code",
      "execution_count": 76,
      "metadata": {
        "id": "kDv0JLqZGlRx"
      },
      "outputs": [],
      "source": [
        "# df = pd.read_csv('project_data_v3.csv')"
      ]
    },
    {
      "cell_type": "code",
      "execution_count": 77,
      "metadata": {
        "colab": {
          "base_uri": "https://localhost:8080/",
          "height": 206
        },
        "id": "rqI4ocZyGxK9",
        "outputId": "9b9767cc-bfb2-4398-dc16-e0c562952784"
      },
      "outputs": [
        {
          "data": {
            "text/html": [
              "<div>\n",
              "<style scoped>\n",
              "    .dataframe tbody tr th:only-of-type {\n",
              "        vertical-align: middle;\n",
              "    }\n",
              "\n",
              "    .dataframe tbody tr th {\n",
              "        vertical-align: top;\n",
              "    }\n",
              "\n",
              "    .dataframe thead th {\n",
              "        text-align: right;\n",
              "    }\n",
              "</style>\n",
              "<table border=\"1\" class=\"dataframe\">\n",
              "  <thead>\n",
              "    <tr style=\"text-align: right;\">\n",
              "      <th></th>\n",
              "      <th>Unnamed: 0.1</th>\n",
              "      <th>Unnamed: 0</th>\n",
              "      <th>rcsb_id</th>\n",
              "      <th>rcsb_entity_ids</th>\n",
              "      <th>uniprot_seq</th>\n",
              "      <th>pbd_id</th>\n",
              "      <th>pdb_sequence_sanitized</th>\n",
              "    </tr>\n",
              "  </thead>\n",
              "  <tbody>\n",
              "    <tr>\n",
              "      <th>0</th>\n",
              "      <td>0</td>\n",
              "      <td>0</td>\n",
              "      <td>2GD8</td>\n",
              "      <td>1</td>\n",
              "      <td>MSHHWGYGKHNGPEHWHKDFPIAKGERQSPVDIDTHTAKYDPSLKP...</td>\n",
              "      <td>SHHWGYGKHNGPEHWHKDFPIAKGERQSPVDIDTHTAKYDPSLKPL...</td>\n",
              "      <td>SHHWGYGKHNGPEHWHKDFPIAKGERQSPVDIDTHTAKYDPSLKPL...</td>\n",
              "    </tr>\n",
              "    <tr>\n",
              "      <th>1</th>\n",
              "      <td>1</td>\n",
              "      <td>1</td>\n",
              "      <td>2GDD</td>\n",
              "      <td>1</td>\n",
              "      <td>MLNLLLLALPVLASRAYAAPAPGQALQRVGIVGGQEAPRSKWPWQV...</td>\n",
              "      <td>IVGGQEAPRSKWPWQVSLRVHGPYWMHFCGGSLIHPQWVLTAAHCV...</td>\n",
              "      <td>IVGGQEAPRSKWPWQVSLRVHGPYWMHFCGGSLIHPQWVLTAAHCV...</td>\n",
              "    </tr>\n",
              "    <tr>\n",
              "      <th>2</th>\n",
              "      <td>2</td>\n",
              "      <td>2</td>\n",
              "      <td>2GDE</td>\n",
              "      <td>1</td>\n",
              "      <td>MAHVRGLQLPGCLALAALCSLVHSQHVFLAPQQARSLLQRVRRANT...</td>\n",
              "      <td>TFGSGEADCGLRPLFEKKSLEDKTERELLESYIDGR</td>\n",
              "      <td>TFGSGEADCGLRPLFEKKSLEDKTERELLESYIDGR</td>\n",
              "    </tr>\n",
              "    <tr>\n",
              "      <th>3</th>\n",
              "      <td>3</td>\n",
              "      <td>3</td>\n",
              "      <td>2GDE</td>\n",
              "      <td>2</td>\n",
              "      <td>MAHVRGLQLPGCLALAALCSLVHSQHVFLAPQQARSLLQRVRRANT...</td>\n",
              "      <td>IVEGSDAEIGMSPWQVMLFRKSPQELLCGASLISDRWVLTAAHCLL...</td>\n",
              "      <td>IVEGSDAEIGMSPWQVMLFRKSPQELLCGASLISDRWVLTAAHCLL...</td>\n",
              "    </tr>\n",
              "    <tr>\n",
              "      <th>4</th>\n",
              "      <td>4</td>\n",
              "      <td>4</td>\n",
              "      <td>2GDO</td>\n",
              "      <td>1</td>\n",
              "      <td>MAVPFVEDWDLVQTLGEGAYGEVQLAVNRVTEEAVAVKIVDMKRAV...</td>\n",
              "      <td>MAVPFVEDWDLVQTLGEGAYGEVQLAVNRVTEEAVAVKIVDMKRAV...</td>\n",
              "      <td>MAVPFVEDWDLVQTLGEGAYGEVQLAVNRVTEEAVAVKIVDMKRAV...</td>\n",
              "    </tr>\n",
              "  </tbody>\n",
              "</table>\n",
              "</div>"
            ],
            "text/plain": [
              "   Unnamed: 0.1  Unnamed: 0 rcsb_id  rcsb_entity_ids  \\\n",
              "0             0           0    2GD8                1   \n",
              "1             1           1    2GDD                1   \n",
              "2             2           2    2GDE                1   \n",
              "3             3           3    2GDE                2   \n",
              "4             4           4    2GDO                1   \n",
              "\n",
              "                                         uniprot_seq  \\\n",
              "0  MSHHWGYGKHNGPEHWHKDFPIAKGERQSPVDIDTHTAKYDPSLKP...   \n",
              "1  MLNLLLLALPVLASRAYAAPAPGQALQRVGIVGGQEAPRSKWPWQV...   \n",
              "2  MAHVRGLQLPGCLALAALCSLVHSQHVFLAPQQARSLLQRVRRANT...   \n",
              "3  MAHVRGLQLPGCLALAALCSLVHSQHVFLAPQQARSLLQRVRRANT...   \n",
              "4  MAVPFVEDWDLVQTLGEGAYGEVQLAVNRVTEEAVAVKIVDMKRAV...   \n",
              "\n",
              "                                              pbd_id  \\\n",
              "0  SHHWGYGKHNGPEHWHKDFPIAKGERQSPVDIDTHTAKYDPSLKPL...   \n",
              "1  IVGGQEAPRSKWPWQVSLRVHGPYWMHFCGGSLIHPQWVLTAAHCV...   \n",
              "2               TFGSGEADCGLRPLFEKKSLEDKTERELLESYIDGR   \n",
              "3  IVEGSDAEIGMSPWQVMLFRKSPQELLCGASLISDRWVLTAAHCLL...   \n",
              "4  MAVPFVEDWDLVQTLGEGAYGEVQLAVNRVTEEAVAVKIVDMKRAV...   \n",
              "\n",
              "                              pdb_sequence_sanitized  \n",
              "0  SHHWGYGKHNGPEHWHKDFPIAKGERQSPVDIDTHTAKYDPSLKPL...  \n",
              "1  IVGGQEAPRSKWPWQVSLRVHGPYWMHFCGGSLIHPQWVLTAAHCV...  \n",
              "2               TFGSGEADCGLRPLFEKKSLEDKTERELLESYIDGR  \n",
              "3  IVEGSDAEIGMSPWQVMLFRKSPQELLCGASLISDRWVLTAAHCLL...  \n",
              "4  MAVPFVEDWDLVQTLGEGAYGEVQLAVNRVTEEAVAVKIVDMKRAV...  "
            ]
          },
          "execution_count": 77,
          "metadata": {},
          "output_type": "execute_result"
        }
      ],
      "source": [
        "df.head()"
      ]
    },
    {
      "cell_type": "code",
      "execution_count": 91,
      "metadata": {
        "id": "YVvfsjdM4I03"
      },
      "outputs": [],
      "source": [
        "def create_multi_class_mask_v1(uniprot_sequence: str, pdb_construct_sequence: str) -> list[int] | None:\n",
        "    \"\"\"\n",
        "    Generates a multi-class modification mask by globally aligning a UniProt\n",
        "    sequence with a PDB construct sequence.\n",
        "\n",
        "    The mask is the same length as the UniProt sequence. Each position is labeled:\n",
        "    - 0: Maintained (the residue is the same in both sequences)\n",
        "    - 1: Deleted (the residue is in UniProt but absent in the PDB construct)\n",
        "    - 2: Mutated (the residue is present but changed to a different amino acid)\n",
        "\n",
        "    Args:\n",
        "        uniprot_sequence: The full-length, canonical protein sequence.\n",
        "        pdb_construct_sequence: The engineered sequence from the PDB.\n",
        "\n",
        "    Returns:\n",
        "        A list of integers (0, 1, or 2) representing the modification mask,\n",
        "        or None if no alignment can be generated.\n",
        "    \"\"\"\n",
        "    # try:\n",
        "      # print(\"--- Performing Global Alignment ---\")\n",
        "\n",
        "    # Perform the alignment\n",
        "    alignments = aligner.align(uniprot_sequence, pdb_construct_sequence)\n",
        "\n",
        "    if not alignments:\n",
        "        return None\n",
        "\n",
        "    # Best alignment is the first one\n",
        "    best_alignment = alignments[0]\n",
        "\n",
        "    # print('best_alignment', best_alignment)\n",
        "\n",
        "    # Convert alignment object to strings\n",
        "    aligned_uniprot = best_alignment.aligned[0]\n",
        "    aligned_pdb = best_alignment.aligned[1]\n",
        "\n",
        "    # Build the full aligned sequences\n",
        "    seq1_aligned = []\n",
        "    seq2_aligned = []\n",
        "\n",
        "    idx_uniprot, idx_pdb = 0, 0\n",
        "    for (start1, end1), (start2, end2) in zip(aligned_uniprot, aligned_pdb):\n",
        "        # Handle gaps in UniProt\n",
        "        while idx_uniprot < start1:\n",
        "            seq1_aligned.append(uniprot_sequence[idx_uniprot])\n",
        "            seq2_aligned.append(\"-\")\n",
        "            idx_uniprot += 1\n",
        "\n",
        "        # Handle gaps in PDB\n",
        "        while idx_pdb < start2:\n",
        "            seq1_aligned.append(\"-\")\n",
        "            seq2_aligned.append(pdb_construct_sequence[idx_pdb])\n",
        "            idx_pdb += 1\n",
        "\n",
        "        # Add aligned region\n",
        "        for i in range(end1 - start1):\n",
        "            seq1_aligned.append(uniprot_sequence[start1 + i])\n",
        "            seq2_aligned.append(pdb_construct_sequence[start2 + i])\n",
        "\n",
        "        idx_uniprot = end1\n",
        "        idx_pdb = end2\n",
        "\n",
        "    # Build modification mask\n",
        "    modification_mask = []\n",
        "    for u_char, p_char in zip(seq1_aligned, seq2_aligned):\n",
        "        if u_char == \"-\":\n",
        "            continue  # Ignore gaps in UniProt\n",
        "        if p_char == \"-\":\n",
        "            modification_mask.append(1)  # Deleted\n",
        "        elif u_char == p_char:\n",
        "            modification_mask.append(0)  # Maintained\n",
        "        else:\n",
        "            modification_mask.append(2)  # Mutated\n",
        "\n",
        "    # Validation check\n",
        "    if len(modification_mask) != len(uniprot_sequence):\n",
        "        \n",
        "        return None\n",
        "\n",
        "    return modification_mask\n",
        "    # except:\n",
        "    #   return None, None\n",
        "\n",
        "def format_alignment_for_display(alignment):\n",
        "    \"\"\"Helper function to print the alignment nicely.\"\"\"\n",
        "    uniprot_alg, pdb_alg, score, begin, end = alignment\n",
        "\n",
        "    connector = \"\"\n",
        "    for u_char, p_char in zip(uniprot_alg, pdb_alg):\n",
        "        if u_char == p_char:\n",
        "            connector += \"|\"\n",
        "        elif u_char == '-' or p_char == '-':\n",
        "            connector += \" \"\n",
        "        else:\n",
        "            connector += \".\"\n",
        "\n",
        "    return (\n",
        "        f\"Score: {score}\\n\\n\"\n",
        "        f\"UniProt: {uniprot_alg}\\n\"\n",
        "        f\"         {connector}\\n\"\n",
        "        f\"PDB    : {pdb_alg}\"\n",
        "    )"
      ]
    },
    {
      "cell_type": "code",
      "execution_count": 96,
      "metadata": {
        "id": "xyIW50VX3y_E"
      },
      "outputs": [],
      "source": [
        "i = 3\n",
        "pdb_sequence = df.loc[i]['pdb_sequence_sanitized'] #df[df['pbd_id'].str.contains('HHHHHH')].loc[i]['pbd_id']\n",
        "uniprot_sequence = df.loc[i]['uniprot_seq'] #df[df['pbd_id'].str.contains('HHHHHH')].loc[i]['uniprot_seq']"
      ]
    },
    {
      "cell_type": "code",
      "execution_count": 97,
      "metadata": {
        "colab": {
          "base_uri": "https://localhost:8080/",
          "height": 36
        },
        "id": "xMzm09sfHeqy",
        "outputId": "80f6b776-b37b-4fe5-bd56-556ee428f627"
      },
      "outputs": [
        {
          "data": {
            "text/plain": [
              "'IVEGSDAEIGMSPWQVMLFRKSPQELLCGASLISDRWVLTAAHCLLYPPWDKNFTENDLLVRIGKHSRTRYERNIEKISMLEKIYIHPRYNWRENLDRDIALMKLKKPVAFSDYIHPVCLPDRETAASLLQAGYKGRVTGWGNLKETWTANVGKGQPSVLQVVNLPIVERPVCKDSTRIRITDNMFCAGYKPDEGKRGDACEGDSGGPFVMKSPFNNRWYQMGIVSWGEGCDRDGKYGFYTHVFRLKKWIQKVIDQFGE'"
            ]
          },
          "execution_count": 97,
          "metadata": {},
          "output_type": "execute_result"
        }
      ],
      "source": [
        "pdb_sequence"
      ]
    },
    {
      "cell_type": "code",
      "execution_count": 98,
      "metadata": {
        "colab": {
          "base_uri": "https://localhost:8080/",
          "height": 36
        },
        "id": "OjW_YQe9HhT_",
        "outputId": "4d0373bf-27e3-494c-ee33-04d14c844092"
      },
      "outputs": [
        {
          "data": {
            "text/plain": [
              "'MAHVRGLQLPGCLALAALCSLVHSQHVFLAPQQARSLLQRVRRANTFLEEVRKGNLERECVEETCSYEEAFEALESSTATDVFWAKYTACETARTPRDKLAACLEGNCAEGLGTNYRGHVNITRSGIECQLWRSRYPHKPEINSTTHPGADLQENFCRNPDSSTTGPWCYTTDPTVRRQECSIPVCGQDQVTVAMTPRSEGSSVNLSPPLEQCVPDRGQQYQGRLAVTTHGLPCLAWASAQAKALSKHQDFNSAVQLVENFCRNPDGDEEGVWCYVAGKPGDFGYCDLNYCEEAVEEETGDGLDEDSDRAIEGRTATSEYQTFFNPRTFGSGEADCGLRPLFEKKSLEDKTERELLESYIDGRIVEGSDAEIGMSPWQVMLFRKSPQELLCGASLISDRWVLTAAHCLLYPPWDKNFTENDLLVRIGKHSRTRYERNIEKISMLEKIYIHPRYNWRENLDRDIALMKLKKPVAFSDYIHPVCLPDRETAASLLQAGYKGRVTGWGNLKETWTANVGKGQPSVLQVVNLPIVERPVCKDSTRIRITDNMFCAGYKPDEGKRGDACEGDSGGPFVMKSPFNNRWYQMGIVSWGEGCDRDGKYGFYTHVFRLKKWIQKVIDQFGE'"
            ]
          },
          "execution_count": 98,
          "metadata": {},
          "output_type": "execute_result"
        }
      ],
      "source": [
        "uniprot_sequence"
      ]
    },
    {
      "cell_type": "code",
      "execution_count": 99,
      "metadata": {
        "id": "7bwQZ90yDGJk"
      },
      "outputs": [
        {
          "name": "stdout",
          "output_type": "stream",
          "text": [
            "[1, 1, 1, 1, 1, 1, 1, 1, 1, 1, 1, 1, 1, 1, 1, 1, 1, 1, 1, 1, 1, 1, 1, 1, 1, 1, 1, 1, 1, 1, 1, 1, 1, 1, 1, 1, 1, 1, 1, 1, 1, 1, 1, 1, 1, 1, 1, 1, 1, 1, 1, 1, 1, 1, 1, 1, 1, 1, 1, 1, 1, 1, 1, 1, 1, 1, 1, 1, 1, 1, 1, 1, 1, 1, 1, 1, 1, 1, 1, 1, 1, 1, 1, 1, 1, 1, 1, 1, 1, 1, 1, 1, 1, 1, 1, 1, 1, 1, 1, 1, 1, 1, 1, 1, 1, 1, 1, 1, 1, 1, 1, 1, 1, 1, 1, 1, 1, 1, 1, 1, 1, 1, 1, 1, 1, 1, 1, 1, 1, 1, 1, 1, 1, 1, 1, 1, 1, 1, 1, 1, 1, 1, 1, 1, 1, 1, 1, 1, 1, 1, 1, 1, 1, 1, 1, 1, 1, 1, 1, 1, 1, 1, 1, 1, 1, 1, 1, 1, 1, 1, 1, 1, 1, 1, 1, 1, 1, 1, 1, 1, 1, 1, 1, 1, 1, 1, 1, 1, 1, 1, 1, 1, 1, 1, 1, 1, 1, 1, 1, 1, 1, 1, 1, 1, 1, 1, 1, 1, 1, 1, 1, 1, 1, 1, 1, 1, 1, 1, 1, 1, 1, 1, 1, 1, 1, 1, 1, 1, 1, 1, 1, 1, 1, 1, 1, 1, 1, 1, 1, 1, 1, 1, 1, 1, 1, 1, 1, 1, 1, 1, 1, 1, 1, 1, 1, 1, 1, 1, 1, 1, 1, 1, 1, 1, 1, 1, 1, 1, 1, 1, 1, 1, 1, 1, 1, 1, 1, 1, 1, 1, 1, 1, 1, 1, 1, 1, 1, 1, 1, 1, 1, 1, 1, 1, 1, 1, 1, 1, 1, 1, 1, 1, 1, 1, 1, 1, 1, 1, 1, 1, 1, 1, 1, 1, 1, 1, 1, 1, 1, 1, 1, 1, 1, 1, 1, 1, 1, 1, 1, 1, 1, 1, 1, 1, 1, 1, 1, 1, 1, 1, 1, 1, 1, 1, 1, 1, 1, 1, 1, 1, 1, 1, 1, 1, 1, 1, 1, 1, 1, 1, 1, 1, 1, 0, 0, 0, 0, 0, 0, 0, 0, 0, 0, 0, 0, 0, 0, 0, 0, 0, 0, 0, 0, 0, 0, 0, 0, 0, 0, 0, 0, 0, 0, 0, 0, 0, 0, 0, 0, 0, 0, 0, 0, 0, 0, 0, 0, 0, 0, 0, 0, 0, 0, 0, 0, 0, 0, 0, 0, 0, 0, 0, 0, 0, 0, 0, 0, 0, 0, 0, 0, 0, 0, 0, 0, 0, 0, 0, 0, 0, 0, 0, 0, 0, 0, 0, 0, 0, 0, 0, 0, 0, 0, 0, 0, 0, 0, 0, 0, 0, 0, 0, 0, 0, 0, 0, 0, 0, 0, 0, 0, 0, 0, 0, 0, 0, 0, 0, 0, 0, 0, 0, 0, 0, 0, 0, 0, 0, 0, 0, 0, 0, 0, 0, 0, 0, 0, 0, 0, 0, 0, 0, 0, 0, 0, 0, 0, 0, 0, 0, 0, 0, 0, 0, 0, 0, 0, 0, 0, 0, 0, 0, 0, 0, 0, 0, 0, 0, 0, 0, 0, 0, 0, 0, 0, 0, 0, 0, 0, 0, 0, 0, 0, 0, 0, 0, 0, 0, 0, 0, 0, 0, 0, 0, 0, 0, 0, 0, 0, 0, 0, 0, 0, 0, 0, 0, 0, 0, 0, 0, 0, 0, 0, 0, 0, 0, 0, 0, 0, 0, 0, 0, 0, 0, 0, 0, 0, 0, 0, 0, 0, 0, 0, 0, 0, 0, 0, 0, 0, 0, 0, 0, 0, 0, 0, 0, 0, 0, 0, 0, 0, 0, 0, 0, 0, 0, 0, 0, 0, 0, 0, 0]\n"
          ]
        }
      ],
      "source": [
        "pdb_seq = pdb_sequence\n",
        "uniprot_seq = uniprot_sequence\n",
        "\n",
        "result = create_multi_class_mask_v1(uniprot_seq, pdb_seq)\n",
        "\n",
        "# if result:\n",
        "#     mask, alignment = result\n",
        "\n",
        "#     print(\"\\n\" + \"=\"*80)\n",
        "#     print(\"RESULTS\")\n",
        "#     print(\"=\"*80)\n",
        "\n",
        "#     # print(\"\\n--- Visual Alignment ---\")\n",
        "#     # print(format_alignment_for_display(alignment))\n",
        "\n",
        "#     print(f\"\\n--- Multi-Class Mask (first 100 values) ---\")\n",
        "#     print(mask)\n",
        "\n",
        "#     # --- Statistics ---\n",
        "#     maintained_count = mask.count(0)\n",
        "#     deleted_count = mask.count(1)\n",
        "#     mutated_count = mask.count(2)\n",
        "\n",
        "#     print(\"\\n--- Summary ---\")\n",
        "#     print(f\"UniProt Sequence Length: {len(uniprot_seq)}\")\n",
        "#     print(f\"Mask Length:             {len(mask)}\")\n",
        "#     print(f\"Residues Maintained (0): {maintained_count}\")\n",
        "#     print(f\"Residues Deleted (1):    {deleted_count}\")\n",
        "#     print(f\"Residues Mutated (2):    {mutated_count}\")\n",
        "print(result)"
      ]
    },
    {
      "cell_type": "code",
      "execution_count": 18,
      "metadata": {
        "id": "BYFD-LXdQAS1"
      },
      "outputs": [],
      "source": [
        "# df['label_mask'] = df.swifter.apply(lambda row: create_multi_class_mask(row['uniprot_seq'], row['pdb_sequence_sanitized'])[0], axis=1)"
      ]
    },
    {
      "cell_type": "code",
      "execution_count": 19,
      "metadata": {},
      "outputs": [],
      "source": [
        "# df['label_mask'] = [\n",
        "#     create_multi_class_mask(row['uniprot_seq'], row['pdb_sequence_sanitized'])[0]\n",
        "#     for _, row in df.iterrows()\n",
        "# ]"
      ]
    },
    {
      "cell_type": "code",
      "execution_count": 49,
      "metadata": {},
      "outputs": [],
      "source": [
        "def create_multi_class_mask(uniprot_sequence: str, pdb_construct_sequence: str) -> list[int] | None:\n",
        "    \"\"\"\n",
        "    Generates a multi-class modification mask by globally aligning a UniProt\n",
        "    sequence with a PDB construct sequence.\n",
        "\n",
        "    The mask is the same length as the UniProt sequence. Each position is labeled:\n",
        "    - 0: Maintained (the residue is the same in both sequences)\n",
        "    - 1: Deleted (the residue is in UniProt but absent in the PDB construct)\n",
        "    - 2: Mutated (the residue is present but changed to a different amino acid)\n",
        "\n",
        "    Args:\n",
        "        uniprot_sequence: The full-length, canonical protein sequence.\n",
        "        pdb_construct_sequence: The engineered sequence from the PDB.\n",
        "\n",
        "    Returns:\n",
        "        A list of integers (0, 1, or 2) representing the modification mask,\n",
        "        or None if no alignment can be generated.\n",
        "    \"\"\"\n",
        "    # print(\"--- Performing Global Alignment ---\")\n",
        "\n",
        "\n",
        "    alignments = pairwise2.align.globalds(\n",
        "        uniprot_sequence,\n",
        "        pdb_construct_sequence,\n",
        "        blosum62,\n",
        "        -10,  # Gap open penalty\n",
        "        -0.5  # Gap extend penalty\n",
        "    )\n",
        "\n",
        "    if not alignments:\n",
        "        print(\"Error: Could not generate an alignment.\")\n",
        "        return None\n",
        "\n",
        "    best_alignment = alignments[0]\n",
        "    aligned_uniprot, aligned_pdb, score, begin, end = best_alignment\n",
        "\n",
        "\n",
        "    modification_mask = []\n",
        "\n",
        "    for uniprot_char, pdb_char in zip(aligned_uniprot, aligned_pdb):\n",
        "        if uniprot_char == '-':\n",
        "            # This case means there's an insertion in the PDB sequence (e.g., a tag).\n",
        "            # It doesn't correspond to a position in the UniProt sequence, so we skip it.\n",
        "            continue\n",
        "\n",
        "        if pdb_char == '-':\n",
        "            # A gap in the PDB sequence means the UniProt residue was deleted.\n",
        "            modification_mask.append(1) # 1 = Deleted\n",
        "        elif uniprot_char == pdb_char:\n",
        "            # The characters match, so the residue was maintained.\n",
        "            modification_mask.append(0) # 0 = Maintained\n",
        "        else:\n",
        "            # The characters are different, so the residue was mutated.\n",
        "            modification_mask.append(2) # 2 = Mutated\n",
        "\n",
        "    if len(modification_mask) != len(uniprot_sequence):\n",
        "        print(f\"Error: Mask length ({len(modification_mask)}) does not match UniProt sequence length ({len(uniprot_sequence)}).\")\n",
        "        return None\n",
        "\n",
        "    return modification_mask"
      ]
    },
    {
      "cell_type": "code",
      "execution_count": 67,
      "metadata": {},
      "outputs": [
        {
          "name": "stdout",
          "output_type": "stream",
          "text": [
            "-----\n",
            "IN ROW 500\n",
            "-----\n",
            "IN ROW 501\n",
            "-----\n",
            "IN ROW 502\n",
            "-----\n",
            "IN ROW 503\n",
            "-----\n",
            "IN ROW 504\n",
            "-----\n",
            "IN ROW 505\n",
            "-----\n",
            "IN ROW 506\n",
            "-----\n",
            "IN ROW 507\n",
            "-----\n",
            "IN ROW 508\n",
            "-----\n",
            "IN ROW 509\n",
            "-----\n",
            "IN ROW 510\n",
            "-----\n",
            "IN ROW 511\n",
            "-----\n",
            "IN ROW 512\n",
            "-----\n",
            "IN ROW 513\n",
            "-----\n",
            "IN ROW 514\n",
            "-----\n",
            "IN ROW 515\n",
            "-----\n",
            "IN ROW 516\n",
            "-----\n",
            "IN ROW 517\n",
            "-----\n",
            "IN ROW 518\n",
            "-----\n",
            "IN ROW 519\n",
            "-----\n",
            "IN ROW 520\n",
            "-----\n",
            "IN ROW 521\n",
            "-----\n",
            "IN ROW 522\n",
            "-----\n",
            "IN ROW 523\n",
            "-----\n",
            "IN ROW 524\n",
            "-----\n",
            "IN ROW 525\n",
            "-----\n",
            "IN ROW 526\n",
            "-----\n",
            "IN ROW 527\n",
            "-----\n",
            "IN ROW 528\n",
            "-----\n",
            "IN ROW 529\n",
            "-----\n",
            "IN ROW 530\n",
            "-----\n",
            "IN ROW 531\n",
            "-----\n",
            "IN ROW 532\n",
            "-----\n",
            "IN ROW 533\n",
            "-----\n",
            "IN ROW 534\n",
            "-----\n",
            "IN ROW 535\n",
            "-----\n",
            "IN ROW 536\n",
            "-----\n",
            "IN ROW 537\n",
            "-----\n",
            "IN ROW 538\n",
            "-----\n",
            "IN ROW 539\n",
            "-----\n",
            "IN ROW 540\n",
            "-----\n",
            "IN ROW 541\n",
            "-----\n",
            "IN ROW 542\n",
            "-----\n",
            "IN ROW 543\n",
            "-----\n",
            "IN ROW 544\n",
            "-----\n",
            "IN ROW 545\n",
            "-----\n",
            "IN ROW 546\n",
            "-----\n",
            "IN ROW 547\n",
            "-----\n",
            "IN ROW 548\n",
            "-----\n",
            "IN ROW 549\n",
            "-----\n",
            "IN ROW 550\n",
            "-----\n",
            "IN ROW 551\n",
            "-----\n",
            "IN ROW 552\n",
            "-----\n",
            "IN ROW 553\n",
            "-----\n",
            "IN ROW 554\n",
            "-----\n",
            "IN ROW 555\n",
            "-----\n",
            "IN ROW 556\n",
            "-----\n",
            "IN ROW 557\n",
            "-----\n",
            "IN ROW 558\n",
            "-----\n",
            "IN ROW 559\n",
            "-----\n",
            "IN ROW 560\n",
            "-----\n",
            "IN ROW 561\n",
            "-----\n",
            "IN ROW 562\n",
            "-----\n",
            "IN ROW 563\n",
            "-----\n",
            "IN ROW 564\n",
            "-----\n",
            "IN ROW 565\n",
            "-----\n",
            "IN ROW 566\n",
            "-----\n",
            "IN ROW 567\n",
            "-----\n",
            "IN ROW 568\n",
            "-----\n",
            "IN ROW 569\n",
            "-----\n",
            "IN ROW 570\n",
            "-----\n",
            "IN ROW 571\n",
            "-----\n",
            "IN ROW 572\n",
            "-----\n",
            "IN ROW 573\n",
            "-----\n",
            "IN ROW 574\n",
            "-----\n",
            "IN ROW 575\n",
            "-----\n",
            "IN ROW 576\n",
            "-----\n",
            "IN ROW 577\n",
            "-----\n",
            "IN ROW 578\n",
            "-----\n",
            "IN ROW 579\n",
            "-----\n",
            "IN ROW 580\n",
            "-----\n",
            "IN ROW 581\n",
            "-----\n",
            "IN ROW 582\n",
            "-----\n",
            "IN ROW 583\n",
            "-----\n",
            "IN ROW 584\n",
            "-----\n",
            "IN ROW 585\n",
            "-----\n",
            "IN ROW 586\n",
            "-----\n",
            "IN ROW 587\n",
            "-----\n",
            "IN ROW 588\n",
            "-----\n",
            "IN ROW 589\n",
            "-----\n",
            "IN ROW 590\n",
            "-----\n",
            "IN ROW 591\n",
            "-----\n",
            "IN ROW 592\n",
            "-----\n",
            "IN ROW 593\n",
            "-----\n",
            "IN ROW 594\n",
            "-----\n",
            "IN ROW 595\n",
            "-----\n",
            "IN ROW 596\n",
            "-----\n",
            "IN ROW 597\n",
            "-----\n",
            "IN ROW 598\n",
            "-----\n",
            "IN ROW 599\n",
            "-----\n",
            "IN ROW 600\n",
            "-----\n",
            "IN ROW 601\n",
            "-----\n",
            "IN ROW 602\n",
            "-----\n",
            "IN ROW 603\n",
            "-----\n",
            "IN ROW 604\n",
            "-----\n",
            "IN ROW 605\n",
            "-----\n",
            "IN ROW 606\n",
            "-----\n",
            "IN ROW 607\n",
            "-----\n",
            "IN ROW 608\n",
            "-----\n",
            "IN ROW 609\n",
            "-----\n",
            "IN ROW 610\n",
            "-----\n",
            "IN ROW 611\n",
            "-----\n",
            "IN ROW 612\n",
            "-----\n",
            "IN ROW 613\n",
            "-----\n",
            "IN ROW 614\n",
            "-----\n",
            "IN ROW 615\n",
            "-----\n",
            "IN ROW 616\n",
            "-----\n",
            "IN ROW 617\n",
            "-----\n",
            "IN ROW 618\n",
            "-----\n",
            "IN ROW 619\n",
            "-----\n",
            "IN ROW 620\n",
            "-----\n",
            "IN ROW 621\n",
            "-----\n",
            "IN ROW 622\n",
            "-----\n",
            "IN ROW 623\n",
            "-----\n",
            "IN ROW 624\n",
            "-----\n",
            "IN ROW 625\n",
            "-----\n",
            "IN ROW 626\n",
            "-----\n",
            "IN ROW 627\n",
            "-----\n",
            "IN ROW 628\n",
            "-----\n",
            "IN ROW 629\n",
            "-----\n",
            "IN ROW 630\n",
            "-----\n",
            "IN ROW 631\n",
            "-----\n",
            "IN ROW 632\n",
            "-----\n",
            "IN ROW 633\n",
            "-----\n",
            "IN ROW 634\n",
            "-----\n",
            "IN ROW 635\n",
            "-----\n",
            "IN ROW 636\n",
            "-----\n",
            "IN ROW 637\n",
            "-----\n",
            "IN ROW 638\n",
            "-----\n",
            "IN ROW 639\n",
            "-----\n",
            "IN ROW 640\n",
            "-----\n",
            "IN ROW 641\n",
            "-----\n",
            "IN ROW 642\n",
            "-----\n",
            "IN ROW 643\n",
            "-----\n",
            "IN ROW 644\n",
            "-----\n",
            "IN ROW 645\n",
            "-----\n",
            "IN ROW 646\n",
            "-----\n",
            "IN ROW 647\n",
            "-----\n",
            "IN ROW 648\n",
            "-----\n",
            "IN ROW 649\n",
            "-----\n",
            "IN ROW 650\n",
            "-----\n",
            "IN ROW 651\n",
            "-----\n",
            "IN ROW 652\n",
            "-----\n",
            "IN ROW 653\n",
            "-----\n",
            "IN ROW 654\n",
            "-----\n",
            "IN ROW 655\n",
            "-----\n",
            "IN ROW 656\n",
            "-----\n",
            "IN ROW 657\n",
            "-----\n",
            "IN ROW 658\n",
            "-----\n",
            "IN ROW 659\n",
            "-----\n",
            "IN ROW 660\n",
            "-----\n",
            "IN ROW 661\n",
            "-----\n",
            "IN ROW 662\n",
            "-----\n",
            "IN ROW 663\n",
            "-----\n",
            "IN ROW 664\n",
            "-----\n",
            "IN ROW 665\n",
            "-----\n",
            "IN ROW 666\n",
            "-----\n",
            "IN ROW 667\n",
            "-----\n",
            "IN ROW 668\n",
            "-----\n",
            "IN ROW 669\n",
            "-----\n",
            "IN ROW 670\n",
            "-----\n",
            "IN ROW 671\n",
            "-----\n",
            "IN ROW 672\n",
            "-----\n",
            "IN ROW 673\n",
            "-----\n",
            "IN ROW 674\n",
            "-----\n",
            "IN ROW 675\n",
            "-----\n",
            "IN ROW 676\n",
            "-----\n",
            "IN ROW 677\n",
            "-----\n",
            "IN ROW 678\n",
            "-----\n",
            "IN ROW 679\n",
            "-----\n",
            "IN ROW 680\n",
            "-----\n",
            "IN ROW 681\n",
            "-----\n",
            "IN ROW 682\n",
            "-----\n",
            "IN ROW 683\n",
            "-----\n",
            "IN ROW 684\n",
            "-----\n",
            "IN ROW 685\n",
            "-----\n",
            "IN ROW 686\n",
            "-----\n",
            "IN ROW 687\n",
            "-----\n",
            "IN ROW 688\n",
            "-----\n",
            "IN ROW 689\n",
            "-----\n",
            "IN ROW 690\n",
            "-----\n",
            "IN ROW 691\n",
            "-----\n",
            "IN ROW 692\n",
            "-----\n",
            "IN ROW 693\n",
            "-----\n",
            "IN ROW 694\n",
            "-----\n",
            "IN ROW 695\n",
            "-----\n",
            "IN ROW 696\n",
            "-----\n",
            "IN ROW 697\n",
            "-----\n",
            "IN ROW 698\n",
            "-----\n",
            "IN ROW 699\n",
            "-----\n",
            "IN ROW 700\n",
            "-----\n",
            "IN ROW 701\n",
            "-----\n",
            "IN ROW 702\n",
            "-----\n",
            "IN ROW 703\n",
            "-----\n",
            "IN ROW 704\n",
            "-----\n",
            "IN ROW 705\n",
            "-----\n",
            "IN ROW 706\n",
            "-----\n",
            "IN ROW 707\n",
            "-----\n",
            "IN ROW 708\n",
            "-----\n",
            "IN ROW 709\n",
            "-----\n",
            "IN ROW 710\n",
            "-----\n",
            "IN ROW 711\n",
            "-----\n",
            "IN ROW 712\n",
            "-----\n",
            "IN ROW 713\n",
            "-----\n",
            "IN ROW 714\n",
            "-----\n",
            "IN ROW 715\n",
            "-----\n",
            "IN ROW 716\n",
            "-----\n",
            "IN ROW 717\n",
            "-----\n",
            "IN ROW 718\n",
            "-----\n",
            "IN ROW 719\n",
            "-----\n",
            "IN ROW 720\n",
            "-----\n",
            "IN ROW 721\n",
            "-----\n",
            "IN ROW 722\n",
            "-----\n",
            "IN ROW 723\n",
            "-----\n",
            "IN ROW 724\n",
            "-----\n",
            "IN ROW 725\n",
            "-----\n",
            "IN ROW 726\n",
            "-----\n",
            "IN ROW 727\n",
            "-----\n",
            "IN ROW 728\n",
            "-----\n",
            "IN ROW 729\n"
          ]
        },
        {
          "ename": "SystemError",
          "evalue": "<built-in function _make_score_matrix_fast> returned a result with an exception set",
          "output_type": "error",
          "traceback": [
            "\u001b[31m---------------------------------------------------------------------------\u001b[39m",
            "\u001b[31mKeyError\u001b[39m                                  Traceback (most recent call last)",
            "\u001b[36mFile \u001b[39m\u001b[32m~/Desktop/SF/protein/.venv/lib/python3.12/site-packages/Bio/pairwise2.py:1298\u001b[39m, in \u001b[36mdictionary_match.__call__\u001b[39m\u001b[34m(self, charA, charB)\u001b[39m\n\u001b[32m   1297\u001b[39m     charB, charA = charA, charB\n\u001b[32m-> \u001b[39m\u001b[32m1298\u001b[39m \u001b[38;5;28;01mreturn\u001b[39;00m \u001b[38;5;28;43mself\u001b[39;49m\u001b[43m.\u001b[49m\u001b[43mscore_dict\u001b[49m\u001b[43m[\u001b[49m\u001b[43m(\u001b[49m\u001b[43mcharA\u001b[49m\u001b[43m,\u001b[49m\u001b[43m \u001b[49m\u001b[43mcharB\u001b[49m\u001b[43m)\u001b[49m\u001b[43m]\u001b[49m\n",
            "\u001b[36mFile \u001b[39m\u001b[32m~/Desktop/SF/protein/.venv/lib/python3.12/site-packages/Bio/pairwise2.py:1298\u001b[39m, in \u001b[36mdictionary_match.__call__\u001b[39m\u001b[34m(self, charA, charB)\u001b[39m\n\u001b[32m   1297\u001b[39m     charB, charA = charA, charB\n\u001b[32m-> \u001b[39m\u001b[32m1298\u001b[39m \u001b[38;5;28;01mreturn\u001b[39;00m \u001b[38;5;28;43mself\u001b[39;49m\u001b[43m.\u001b[49m\u001b[43mscore_dict\u001b[49m\u001b[43m[\u001b[49m\u001b[43m(\u001b[49m\u001b[43mcharA\u001b[49m\u001b[43m,\u001b[49m\u001b[43m \u001b[49m\u001b[43mcharB\u001b[49m\u001b[43m)\u001b[49m\u001b[43m]\u001b[49m\n",
            "    \u001b[31m[... skipping similar frames: dictionary_match.__call__ at line 1298 (4 times)]\u001b[39m\n",
            "\u001b[36mFile \u001b[39m\u001b[32m~/Desktop/SF/protein/.venv/lib/python3.12/site-packages/Bio/pairwise2.py:1298\u001b[39m, in \u001b[36mdictionary_match.__call__\u001b[39m\u001b[34m(self, charA, charB)\u001b[39m\n\u001b[32m   1297\u001b[39m     charB, charA = charA, charB\n\u001b[32m-> \u001b[39m\u001b[32m1298\u001b[39m \u001b[38;5;28;01mreturn\u001b[39;00m \u001b[38;5;28;43mself\u001b[39;49m\u001b[43m.\u001b[49m\u001b[43mscore_dict\u001b[49m\u001b[43m[\u001b[49m\u001b[43m(\u001b[49m\u001b[43mcharA\u001b[49m\u001b[43m,\u001b[49m\u001b[43m \u001b[49m\u001b[43mcharB\u001b[49m\u001b[43m)\u001b[49m\u001b[43m]\u001b[49m\n",
            "\u001b[31mKeyError\u001b[39m: ('P', 'U')",
            "\nThe above exception was the direct cause of the following exception:\n",
            "\u001b[31mSystemError\u001b[39m                               Traceback (most recent call last)",
            "\u001b[31mSystemError\u001b[39m: <function dictionary_match.__call__ at 0x162e79ee0> returned a result with an exception set",
            "\nThe above exception was the direct cause of the following exception:\n",
            "\u001b[31mSystemError\u001b[39m                               Traceback (most recent call last)",
            "\u001b[31mSystemError\u001b[39m: <function dictionary_match.__call__ at 0x162e79ee0> returned a result with an exception set",
            "\nThe above exception was the direct cause of the following exception:\n",
            "\u001b[31mSystemError\u001b[39m                               Traceback (most recent call last)",
            "\u001b[31mSystemError\u001b[39m: <function dictionary_match.__call__ at 0x162e79ee0> returned a result with an exception set",
            "\nThe above exception was the direct cause of the following exception:\n",
            "\u001b[31mSystemError\u001b[39m                               Traceback (most recent call last)",
            "\u001b[31mSystemError\u001b[39m: <function dictionary_match.__call__ at 0x162e79ee0> returned a result with an exception set",
            "\nThe above exception was the direct cause of the following exception:\n",
            "\u001b[31mSystemError\u001b[39m                               Traceback (most recent call last)",
            "\u001b[31mSystemError\u001b[39m: <function dictionary_match.__call__ at 0x162e79ee0> returned a result with an exception set",
            "\nThe above exception was the direct cause of the following exception:\n",
            "\u001b[31mSystemError\u001b[39m                               Traceback (most recent call last)",
            "\u001b[31mSystemError\u001b[39m: <function dictionary_match.__call__ at 0x162e79ee0> returned a result with an exception set",
            "\nThe above exception was the direct cause of the following exception:\n",
            "\u001b[31mSystemError\u001b[39m                               Traceback (most recent call last)",
            "\u001b[31mSystemError\u001b[39m: <function dictionary_match.__call__ at 0x162e79ee0> returned a result with an exception set",
            "\nThe above exception was the direct cause of the following exception:\n",
            "\u001b[31mSystemError\u001b[39m                               Traceback (most recent call last)",
            "\u001b[31mSystemError\u001b[39m: <function dictionary_match.__call__ at 0x162e79ee0> returned a result with an exception set",
            "\nThe above exception was the direct cause of the following exception:\n",
            "\u001b[31mSystemError\u001b[39m                               Traceback (most recent call last)",
            "\u001b[31mSystemError\u001b[39m: <function dictionary_match.__call__ at 0x162e79ee0> returned a result with an exception set",
            "\nThe above exception was the direct cause of the following exception:\n",
            "\u001b[31mSystemError\u001b[39m                               Traceback (most recent call last)",
            "\u001b[31mSystemError\u001b[39m: <function dictionary_match.__call__ at 0x162e79ee0> returned a result with an exception set",
            "\nThe above exception was the direct cause of the following exception:\n",
            "\u001b[31mSystemError\u001b[39m                               Traceback (most recent call last)",
            "\u001b[31mSystemError\u001b[39m: <function dictionary_match.__call__ at 0x162e79ee0> returned a result with an exception set",
            "\nThe above exception was the direct cause of the following exception:\n",
            "\u001b[31mSystemError\u001b[39m                               Traceback (most recent call last)",
            "\u001b[31mSystemError\u001b[39m: <function dictionary_match.__call__ at 0x162e79ee0> returned a result with an exception set",
            "\nThe above exception was the direct cause of the following exception:\n",
            "\u001b[31mSystemError\u001b[39m                               Traceback (most recent call last)",
            "\u001b[31mSystemError\u001b[39m: <function dictionary_match.__call__ at 0x162e79ee0> returned a result with an exception set",
            "\nThe above exception was the direct cause of the following exception:\n",
            "\u001b[31mSystemError\u001b[39m                               Traceback (most recent call last)",
            "\u001b[31mSystemError\u001b[39m: <function dictionary_match.__call__ at 0x162e79ee0> returned a result with an exception set",
            "\nThe above exception was the direct cause of the following exception:\n",
            "\u001b[31mSystemError\u001b[39m                               Traceback (most recent call last)",
            "\u001b[36mCell\u001b[39m\u001b[36m \u001b[39m\u001b[32mIn[67]\u001b[39m\u001b[32m, line 4\u001b[39m\n\u001b[32m      2\u001b[39m \u001b[38;5;28mprint\u001b[39m(\u001b[33m\"\u001b[39m\u001b[33m-----\u001b[39m\u001b[33m\"\u001b[39m)\n\u001b[32m      3\u001b[39m \u001b[38;5;28mprint\u001b[39m(\u001b[33mf\u001b[39m\u001b[33m\"\u001b[39m\u001b[33mIN ROW \u001b[39m\u001b[38;5;132;01m{\u001b[39;00mi\u001b[38;5;132;01m}\u001b[39;00m\u001b[33m\"\u001b[39m)\n\u001b[32m----> \u001b[39m\u001b[32m4\u001b[39m \u001b[43mcreate_multi_class_mask\u001b[49m\u001b[43m(\u001b[49m\u001b[43mrow\u001b[49m\u001b[43m[\u001b[49m\u001b[33;43m'\u001b[39;49m\u001b[33;43muniprot_seq\u001b[39;49m\u001b[33;43m'\u001b[39;49m\u001b[43m]\u001b[49m\u001b[43m,\u001b[49m\u001b[43m \u001b[49m\u001b[43mrow\u001b[49m\u001b[43m[\u001b[49m\u001b[33;43m'\u001b[39;49m\u001b[33;43mpdb_sequence_sanitized\u001b[39;49m\u001b[33;43m'\u001b[39;49m\u001b[43m]\u001b[49m\u001b[43m)\u001b[49m\n",
            "\u001b[36mCell\u001b[39m\u001b[36m \u001b[39m\u001b[32mIn[49]\u001b[39m\u001b[32m, line 22\u001b[39m, in \u001b[36mcreate_multi_class_mask\u001b[39m\u001b[34m(uniprot_sequence, pdb_construct_sequence)\u001b[39m\n\u001b[32m      2\u001b[39m \u001b[38;5;250m\u001b[39m\u001b[33;03m\"\"\"\u001b[39;00m\n\u001b[32m      3\u001b[39m \u001b[33;03mGenerates a multi-class modification mask by globally aligning a UniProt\u001b[39;00m\n\u001b[32m      4\u001b[39m \u001b[33;03msequence with a PDB construct sequence.\u001b[39;00m\n\u001b[32m   (...)\u001b[39m\u001b[32m     17\u001b[39m \u001b[33;03m    or None if no alignment can be generated.\u001b[39;00m\n\u001b[32m     18\u001b[39m \u001b[33;03m\"\"\"\u001b[39;00m\n\u001b[32m     19\u001b[39m \u001b[38;5;66;03m# print(\"--- Performing Global Alignment ---\")\u001b[39;00m\n\u001b[32m---> \u001b[39m\u001b[32m22\u001b[39m alignments = \u001b[43mpairwise2\u001b[49m\u001b[43m.\u001b[49m\u001b[43malign\u001b[49m\u001b[43m.\u001b[49m\u001b[43mglobalds\u001b[49m\u001b[43m(\u001b[49m\n\u001b[32m     23\u001b[39m \u001b[43m    \u001b[49m\u001b[43muniprot_sequence\u001b[49m\u001b[43m,\u001b[49m\n\u001b[32m     24\u001b[39m \u001b[43m    \u001b[49m\u001b[43mpdb_construct_sequence\u001b[49m\u001b[43m,\u001b[49m\n\u001b[32m     25\u001b[39m \u001b[43m    \u001b[49m\u001b[43mblosum62\u001b[49m\u001b[43m,\u001b[49m\n\u001b[32m     26\u001b[39m \u001b[43m    \u001b[49m\u001b[43m-\u001b[49m\u001b[32;43m10\u001b[39;49m\u001b[43m,\u001b[49m\u001b[43m  \u001b[49m\u001b[38;5;66;43;03m# Gap open penalty\u001b[39;49;00m\n\u001b[32m     27\u001b[39m \u001b[43m    \u001b[49m\u001b[43m-\u001b[49m\u001b[32;43m0.5\u001b[39;49m\u001b[43m  \u001b[49m\u001b[38;5;66;43;03m# Gap extend penalty\u001b[39;49;00m\n\u001b[32m     28\u001b[39m \u001b[43m\u001b[49m\u001b[43m)\u001b[49m\n\u001b[32m     30\u001b[39m \u001b[38;5;28;01mif\u001b[39;00m \u001b[38;5;129;01mnot\u001b[39;00m alignments:\n\u001b[32m     31\u001b[39m     \u001b[38;5;28mprint\u001b[39m(\u001b[33m\"\u001b[39m\u001b[33mError: Could not generate an alignment.\u001b[39m\u001b[33m\"\u001b[39m)\n",
            "\u001b[36mFile \u001b[39m\u001b[32m~/Desktop/SF/protein/.venv/lib/python3.12/site-packages/Bio/pairwise2.py:502\u001b[39m, in \u001b[36malign.alignment_function.__call__\u001b[39m\u001b[34m(self, *args, **keywds)\u001b[39m\n\u001b[32m    500\u001b[39m \u001b[38;5;250m\u001b[39m\u001b[33;03m\"\"\"Call the alignment instance already created.\"\"\"\u001b[39;00m\n\u001b[32m    501\u001b[39m keywds = \u001b[38;5;28mself\u001b[39m.decode(*args, **keywds)\n\u001b[32m--> \u001b[39m\u001b[32m502\u001b[39m \u001b[38;5;28;01mreturn\u001b[39;00m \u001b[43m_align\u001b[49m\u001b[43m(\u001b[49m\u001b[43m*\u001b[49m\u001b[43m*\u001b[49m\u001b[43mkeywds\u001b[49m\u001b[43m)\u001b[49m\n",
            "\u001b[36mFile \u001b[39m\u001b[32m~/Desktop/SF/protein/.venv/lib/python3.12/site-packages/Bio/pairwise2.py:569\u001b[39m, in \u001b[36m_align\u001b[39m\u001b[34m(sequenceA, sequenceB, match_fn, gap_A_fn, gap_B_fn, penalize_extend_when_opening, penalize_end_gaps, align_globally, gap_char, force_generic, score_only, one_alignment_only)\u001b[39m\n\u001b[32m    567\u001b[39m     open_A, extend_A = gap_A_fn.open, gap_A_fn.extend\n\u001b[32m    568\u001b[39m     open_B, extend_B = gap_B_fn.open, gap_B_fn.extend\n\u001b[32m--> \u001b[39m\u001b[32m569\u001b[39m     matrices = \u001b[43m_make_score_matrix_fast\u001b[49m\u001b[43m(\u001b[49m\n\u001b[32m    570\u001b[39m \u001b[43m        \u001b[49m\u001b[43msequenceA\u001b[49m\u001b[43m,\u001b[49m\n\u001b[32m    571\u001b[39m \u001b[43m        \u001b[49m\u001b[43msequenceB\u001b[49m\u001b[43m,\u001b[49m\n\u001b[32m    572\u001b[39m \u001b[43m        \u001b[49m\u001b[43mmatch_fn\u001b[49m\u001b[43m,\u001b[49m\n\u001b[32m    573\u001b[39m \u001b[43m        \u001b[49m\u001b[43mopen_A\u001b[49m\u001b[43m,\u001b[49m\n\u001b[32m    574\u001b[39m \u001b[43m        \u001b[49m\u001b[43mextend_A\u001b[49m\u001b[43m,\u001b[49m\n\u001b[32m    575\u001b[39m \u001b[43m        \u001b[49m\u001b[43mopen_B\u001b[49m\u001b[43m,\u001b[49m\n\u001b[32m    576\u001b[39m \u001b[43m        \u001b[49m\u001b[43mextend_B\u001b[49m\u001b[43m,\u001b[49m\n\u001b[32m    577\u001b[39m \u001b[43m        \u001b[49m\u001b[43mpenalize_extend_when_opening\u001b[49m\u001b[43m,\u001b[49m\n\u001b[32m    578\u001b[39m \u001b[43m        \u001b[49m\u001b[43mpenalize_end_gaps\u001b[49m\u001b[43m,\u001b[49m\n\u001b[32m    579\u001b[39m \u001b[43m        \u001b[49m\u001b[43malign_globally\u001b[49m\u001b[43m,\u001b[49m\n\u001b[32m    580\u001b[39m \u001b[43m        \u001b[49m\u001b[43mscore_only\u001b[49m\u001b[43m,\u001b[49m\n\u001b[32m    581\u001b[39m \u001b[43m    \u001b[49m\u001b[43m)\u001b[49m\n\u001b[32m    582\u001b[39m \u001b[38;5;28;01melse\u001b[39;00m:\n\u001b[32m    583\u001b[39m     matrices = _make_score_matrix_generic(\n\u001b[32m    584\u001b[39m         sequenceA,\n\u001b[32m    585\u001b[39m         sequenceB,\n\u001b[32m   (...)\u001b[39m\u001b[32m    591\u001b[39m         score_only,\n\u001b[32m    592\u001b[39m     )\n",
            "\u001b[31mSystemError\u001b[39m: <built-in function _make_score_matrix_fast> returned a result with an exception set"
          ]
        }
      ],
      "source": [
        "for i, row in df[500:5000].iterrows():\n",
        "    print(\"-----\")\n",
        "    print(f\"IN ROW {i}\")\n",
        "    create_multi_class_mask(row['uniprot_seq'], row['pdb_sequence_sanitized'])"
      ]
    },
    {
      "cell_type": "code",
      "execution_count": 37,
      "metadata": {},
      "outputs": [],
      "source": [
        "def process_group(group_df):\n",
        "    ret = dict()\n",
        "    for i, row in group_df.iterrows():\n",
        "        ret[i] = create_multi_class_mask(row['uniprot_seq'], row['pdb_sequence_sanitized'])\n",
        "    return ret\n",
        "\n",
        "def process_groups(groups):\n",
        "    ret = dict()\n",
        "    for group_df in groups:\n",
        "        op = process_group(group_df=group_df)\n",
        "        ret.update(op)\n",
        "    return ret\n",
        "\n",
        "def partition_dataframe(df, chunk_size=100, list_size=10):\n",
        "    all_chunked_dfs = []\n",
        "    num_chunks = (len(df) + chunk_size - 1) // chunk_size\n",
        "\n",
        "    for i in range(num_chunks):\n",
        "        start_index = i * chunk_size\n",
        "        end_index = min((i + 1) * chunk_size, len(df))\n",
        "        all_chunked_dfs.append(df.iloc[start_index:end_index])\n",
        "\n",
        "    final_partitions = []\n",
        "    num_sublists = (len(all_chunked_dfs) + list_size - 1) // list_size\n",
        "\n",
        "    for i in range(num_sublists):\n",
        "        start_index_sublist = i * list_size\n",
        "        end_index_sublist = min((i + 1) * list_size, len(all_chunked_dfs))\n",
        "        final_partitions.append(all_chunked_dfs[start_index_sublist:end_index_sublist])\n",
        "\n",
        "    return final_partitions\n"
      ]
    },
    {
      "cell_type": "code",
      "execution_count": 38,
      "metadata": {},
      "outputs": [],
      "source": [
        "def prcoess_data_cc(df, blosum62_mat):\n",
        "    global blosum62\n",
        "    blosum62 = blosum62_mat\n",
        "    gps = partition_dataframe(df)\n",
        "    ops = dict()\n",
        "    with ProcessPoolExecutor(4) as executor:\n",
        "        results = executor.map(process_groups, gps)\n",
        "        for result in results:\n",
        "            ops.update(result)"
      ]
    },
    {
      "cell_type": "code",
      "execution_count": 39,
      "metadata": {},
      "outputs": [
        {
          "data": {
            "text/plain": [
              "(1000, 6)"
            ]
          },
          "execution_count": 39,
          "metadata": {},
          "output_type": "execute_result"
        }
      ],
      "source": [
        "df[0:1000].shape"
      ]
    },
    {
      "cell_type": "code",
      "execution_count": 40,
      "metadata": {},
      "outputs": [
        {
          "name": "stderr",
          "output_type": "stream",
          "text": [
            "Process SpawnProcess-3:\n",
            "Traceback (most recent call last):\n",
            "  File \"/Users/haripat/.local/share/uv/python/cpython-3.12.10-macos-aarch64-none/lib/python3.12/multiprocessing/process.py\", line 314, in _bootstrap\n",
            "    self.run()\n",
            "  File \"/Users/haripat/.local/share/uv/python/cpython-3.12.10-macos-aarch64-none/lib/python3.12/multiprocessing/process.py\", line 108, in run\n",
            "    self._target(*self._args, **self._kwargs)\n",
            "  File \"/Users/haripat/.local/share/uv/python/cpython-3.12.10-macos-aarch64-none/lib/python3.12/concurrent/futures/process.py\", line 252, in _process_worker\n",
            "    call_item = call_queue.get(block=True)\n",
            "                ^^^^^^^^^^^^^^^^^^^^^^^^^^\n",
            "  File \"/Users/haripat/.local/share/uv/python/cpython-3.12.10-macos-aarch64-none/lib/python3.12/multiprocessing/queues.py\", line 122, in get\n",
            "    return _ForkingPickler.loads(res)\n",
            "           ^^^^^^^^^^^^^^^^^^^^^^^^^^\n",
            "AttributeError: Can't get attribute 'process_groups' on <module '__main__' (<class '_frozen_importlib.BuiltinImporter'>)>\n"
          ]
        },
        {
          "ename": "BrokenProcessPool",
          "evalue": "A process in the process pool was terminated abruptly while the future was running or pending.",
          "output_type": "error",
          "traceback": [
            "\u001b[31m---------------------------------------------------------------------------\u001b[39m",
            "\u001b[31mBrokenProcessPool\u001b[39m                         Traceback (most recent call last)",
            "\u001b[36mCell\u001b[39m\u001b[36m \u001b[39m\u001b[32mIn[40]\u001b[39m\u001b[32m, line 1\u001b[39m\n\u001b[32m----> \u001b[39m\u001b[32m1\u001b[39m \u001b[43mprcoess_data_cc\u001b[49m\u001b[43m(\u001b[49m\u001b[43mdf\u001b[49m\u001b[43m[\u001b[49m\u001b[32;43m0\u001b[39;49m\u001b[43m:\u001b[49m\u001b[32;43m1000\u001b[39;49m\u001b[43m]\u001b[49m\u001b[43m,\u001b[49m\u001b[43m \u001b[49m\u001b[43mblosum62_mat\u001b[49m\u001b[43m=\u001b[49m\u001b[43mblosum62_matrix\u001b[49m\u001b[43m)\u001b[49m\n",
            "\u001b[36mCell\u001b[39m\u001b[36m \u001b[39m\u001b[32mIn[38]\u001b[39m\u001b[32m, line 8\u001b[39m, in \u001b[36mprcoess_data_cc\u001b[39m\u001b[34m(df, blosum62_mat)\u001b[39m\n\u001b[32m      6\u001b[39m \u001b[38;5;28;01mwith\u001b[39;00m ProcessPoolExecutor(\u001b[32m4\u001b[39m) \u001b[38;5;28;01mas\u001b[39;00m executor:\n\u001b[32m      7\u001b[39m     results = executor.map(process_groups, gps)\n\u001b[32m----> \u001b[39m\u001b[32m8\u001b[39m \u001b[43m    \u001b[49m\u001b[38;5;28;43;01mfor\u001b[39;49;00m\u001b[43m \u001b[49m\u001b[43mresult\u001b[49m\u001b[43m \u001b[49m\u001b[38;5;129;43;01min\u001b[39;49;00m\u001b[43m \u001b[49m\u001b[43mresults\u001b[49m\u001b[43m:\u001b[49m\n\u001b[32m      9\u001b[39m \u001b[43m        \u001b[49m\u001b[43mops\u001b[49m\u001b[43m.\u001b[49m\u001b[43mupdate\u001b[49m\u001b[43m(\u001b[49m\u001b[43mresult\u001b[49m\u001b[43m)\u001b[49m\n",
            "\u001b[36mFile \u001b[39m\u001b[32m~/.local/share/uv/python/cpython-3.12.10-macos-aarch64-none/lib/python3.12/concurrent/futures/process.py:636\u001b[39m, in \u001b[36m_chain_from_iterable_of_lists\u001b[39m\u001b[34m(iterable)\u001b[39m\n\u001b[32m    630\u001b[39m \u001b[38;5;28;01mdef\u001b[39;00m\u001b[38;5;250m \u001b[39m\u001b[34m_chain_from_iterable_of_lists\u001b[39m(iterable):\n\u001b[32m    631\u001b[39m \u001b[38;5;250m    \u001b[39m\u001b[33;03m\"\"\"\u001b[39;00m\n\u001b[32m    632\u001b[39m \u001b[33;03m    Specialized implementation of itertools.chain.from_iterable.\u001b[39;00m\n\u001b[32m    633\u001b[39m \u001b[33;03m    Each item in *iterable* should be a list.  This function is\u001b[39;00m\n\u001b[32m    634\u001b[39m \u001b[33;03m    careful not to keep references to yielded objects.\u001b[39;00m\n\u001b[32m    635\u001b[39m \u001b[33;03m    \"\"\"\u001b[39;00m\n\u001b[32m--> \u001b[39m\u001b[32m636\u001b[39m \u001b[43m    \u001b[49m\u001b[38;5;28;43;01mfor\u001b[39;49;00m\u001b[43m \u001b[49m\u001b[43melement\u001b[49m\u001b[43m \u001b[49m\u001b[38;5;129;43;01min\u001b[39;49;00m\u001b[43m \u001b[49m\u001b[43miterable\u001b[49m\u001b[43m:\u001b[49m\n\u001b[32m    637\u001b[39m \u001b[43m        \u001b[49m\u001b[43melement\u001b[49m\u001b[43m.\u001b[49m\u001b[43mreverse\u001b[49m\u001b[43m(\u001b[49m\u001b[43m)\u001b[49m\n\u001b[32m    638\u001b[39m \u001b[43m        \u001b[49m\u001b[38;5;28;43;01mwhile\u001b[39;49;00m\u001b[43m \u001b[49m\u001b[43melement\u001b[49m\u001b[43m:\u001b[49m\n",
            "\u001b[36mFile \u001b[39m\u001b[32m~/.local/share/uv/python/cpython-3.12.10-macos-aarch64-none/lib/python3.12/concurrent/futures/_base.py:619\u001b[39m, in \u001b[36mExecutor.map.<locals>.result_iterator\u001b[39m\u001b[34m()\u001b[39m\n\u001b[32m    616\u001b[39m \u001b[38;5;28;01mwhile\u001b[39;00m fs:\n\u001b[32m    617\u001b[39m     \u001b[38;5;66;03m# Careful not to keep a reference to the popped future\u001b[39;00m\n\u001b[32m    618\u001b[39m     \u001b[38;5;28;01mif\u001b[39;00m timeout \u001b[38;5;129;01mis\u001b[39;00m \u001b[38;5;28;01mNone\u001b[39;00m:\n\u001b[32m--> \u001b[39m\u001b[32m619\u001b[39m         \u001b[38;5;28;01myield\u001b[39;00m \u001b[43m_result_or_cancel\u001b[49m\u001b[43m(\u001b[49m\u001b[43mfs\u001b[49m\u001b[43m.\u001b[49m\u001b[43mpop\u001b[49m\u001b[43m(\u001b[49m\u001b[43m)\u001b[49m\u001b[43m)\u001b[49m\n\u001b[32m    620\u001b[39m     \u001b[38;5;28;01melse\u001b[39;00m:\n\u001b[32m    621\u001b[39m         \u001b[38;5;28;01myield\u001b[39;00m _result_or_cancel(fs.pop(), end_time - time.monotonic())\n",
            "\u001b[36mFile \u001b[39m\u001b[32m~/.local/share/uv/python/cpython-3.12.10-macos-aarch64-none/lib/python3.12/concurrent/futures/_base.py:317\u001b[39m, in \u001b[36m_result_or_cancel\u001b[39m\u001b[34m(***failed resolving arguments***)\u001b[39m\n\u001b[32m    315\u001b[39m \u001b[38;5;28;01mtry\u001b[39;00m:\n\u001b[32m    316\u001b[39m     \u001b[38;5;28;01mtry\u001b[39;00m:\n\u001b[32m--> \u001b[39m\u001b[32m317\u001b[39m         \u001b[38;5;28;01mreturn\u001b[39;00m \u001b[43mfut\u001b[49m\u001b[43m.\u001b[49m\u001b[43mresult\u001b[49m\u001b[43m(\u001b[49m\u001b[43mtimeout\u001b[49m\u001b[43m)\u001b[49m\n\u001b[32m    318\u001b[39m     \u001b[38;5;28;01mfinally\u001b[39;00m:\n\u001b[32m    319\u001b[39m         fut.cancel()\n",
            "\u001b[36mFile \u001b[39m\u001b[32m~/.local/share/uv/python/cpython-3.12.10-macos-aarch64-none/lib/python3.12/concurrent/futures/_base.py:456\u001b[39m, in \u001b[36mFuture.result\u001b[39m\u001b[34m(self, timeout)\u001b[39m\n\u001b[32m    454\u001b[39m     \u001b[38;5;28;01mraise\u001b[39;00m CancelledError()\n\u001b[32m    455\u001b[39m \u001b[38;5;28;01melif\u001b[39;00m \u001b[38;5;28mself\u001b[39m._state == FINISHED:\n\u001b[32m--> \u001b[39m\u001b[32m456\u001b[39m     \u001b[38;5;28;01mreturn\u001b[39;00m \u001b[38;5;28;43mself\u001b[39;49m\u001b[43m.\u001b[49m\u001b[43m__get_result\u001b[49m\u001b[43m(\u001b[49m\u001b[43m)\u001b[49m\n\u001b[32m    457\u001b[39m \u001b[38;5;28;01melse\u001b[39;00m:\n\u001b[32m    458\u001b[39m     \u001b[38;5;28;01mraise\u001b[39;00m \u001b[38;5;167;01mTimeoutError\u001b[39;00m()\n",
            "\u001b[36mFile \u001b[39m\u001b[32m~/.local/share/uv/python/cpython-3.12.10-macos-aarch64-none/lib/python3.12/concurrent/futures/_base.py:401\u001b[39m, in \u001b[36mFuture.__get_result\u001b[39m\u001b[34m(self)\u001b[39m\n\u001b[32m    399\u001b[39m \u001b[38;5;28;01mif\u001b[39;00m \u001b[38;5;28mself\u001b[39m._exception:\n\u001b[32m    400\u001b[39m     \u001b[38;5;28;01mtry\u001b[39;00m:\n\u001b[32m--> \u001b[39m\u001b[32m401\u001b[39m         \u001b[38;5;28;01mraise\u001b[39;00m \u001b[38;5;28mself\u001b[39m._exception\n\u001b[32m    402\u001b[39m     \u001b[38;5;28;01mfinally\u001b[39;00m:\n\u001b[32m    403\u001b[39m         \u001b[38;5;66;03m# Break a reference cycle with the exception in self._exception\u001b[39;00m\n\u001b[32m    404\u001b[39m         \u001b[38;5;28mself\u001b[39m = \u001b[38;5;28;01mNone\u001b[39;00m\n",
            "\u001b[31mBrokenProcessPool\u001b[39m: A process in the process pool was terminated abruptly while the future was running or pending."
          ]
        }
      ],
      "source": [
        "prcoess_data_cc(df[0:1000], blosum62_mat=blosum62_matrix)"
      ]
    },
    {
      "cell_type": "code",
      "execution_count": null,
      "metadata": {},
      "outputs": [],
      "source": []
    }
  ],
  "metadata": {
    "colab": {
      "provenance": []
    },
    "kernelspec": {
      "display_name": "protein",
      "language": "python",
      "name": "python3"
    },
    "language_info": {
      "codemirror_mode": {
        "name": "ipython",
        "version": 3
      },
      "file_extension": ".py",
      "mimetype": "text/x-python",
      "name": "python",
      "nbconvert_exporter": "python",
      "pygments_lexer": "ipython3",
      "version": "3.12.10"
    },
    "widgets": {
      "application/vnd.jupyter.widget-state+json": {
        "48b22de41d994a96bba6cb141ea28b72": {
          "model_module": "@jupyter-widgets/controls",
          "model_module_version": "1.5.0",
          "model_name": "DescriptionStyleModel",
          "state": {
            "_model_module": "@jupyter-widgets/controls",
            "_model_module_version": "1.5.0",
            "_model_name": "DescriptionStyleModel",
            "_view_count": null,
            "_view_module": "@jupyter-widgets/base",
            "_view_module_version": "1.2.0",
            "_view_name": "StyleView",
            "description_width": ""
          }
        },
        "739a6730a52243e988a770425fad3aea": {
          "model_module": "@jupyter-widgets/controls",
          "model_module_version": "1.5.0",
          "model_name": "HTMLModel",
          "state": {
            "_dom_classes": [],
            "_model_module": "@jupyter-widgets/controls",
            "_model_module_version": "1.5.0",
            "_model_name": "HTMLModel",
            "_view_count": null,
            "_view_module": "@jupyter-widgets/controls",
            "_view_module_version": "1.5.0",
            "_view_name": "HTMLView",
            "description": "",
            "description_tooltip": null,
            "layout": "IPY_MODEL_bd8d62b755e64c8e8c6c10d02d522ce7",
            "placeholder": "​",
            "style": "IPY_MODEL_48b22de41d994a96bba6cb141ea28b72",
            "value": "Pandas Apply:   3%"
          }
        },
        "973f4e5de5b74dc0ab4a2ddd15869365": {
          "model_module": "@jupyter-widgets/controls",
          "model_module_version": "1.5.0",
          "model_name": "FloatProgressModel",
          "state": {
            "_dom_classes": [],
            "_model_module": "@jupyter-widgets/controls",
            "_model_module_version": "1.5.0",
            "_model_name": "FloatProgressModel",
            "_view_count": null,
            "_view_module": "@jupyter-widgets/controls",
            "_view_module_version": "1.5.0",
            "_view_name": "ProgressView",
            "bar_style": "",
            "description": "",
            "description_tooltip": null,
            "layout": "IPY_MODEL_c5d0b62a1b804b1d92f03a6b8b49d511",
            "max": 70732,
            "min": 0,
            "orientation": "horizontal",
            "style": "IPY_MODEL_dd267c0e247c4288b244fd937ec9a3cd",
            "value": 1862
          }
        },
        "a105915e8f67400cb1633cf8b1d94ca1": {
          "model_module": "@jupyter-widgets/controls",
          "model_module_version": "1.5.0",
          "model_name": "DescriptionStyleModel",
          "state": {
            "_model_module": "@jupyter-widgets/controls",
            "_model_module_version": "1.5.0",
            "_model_name": "DescriptionStyleModel",
            "_view_count": null,
            "_view_module": "@jupyter-widgets/base",
            "_view_module_version": "1.2.0",
            "_view_name": "StyleView",
            "description_width": ""
          }
        },
        "a77eb63cb8ef41278eddcbc587b246b5": {
          "model_module": "@jupyter-widgets/base",
          "model_module_version": "1.2.0",
          "model_name": "LayoutModel",
          "state": {
            "_model_module": "@jupyter-widgets/base",
            "_model_module_version": "1.2.0",
            "_model_name": "LayoutModel",
            "_view_count": null,
            "_view_module": "@jupyter-widgets/base",
            "_view_module_version": "1.2.0",
            "_view_name": "LayoutView",
            "align_content": null,
            "align_items": null,
            "align_self": null,
            "border": null,
            "bottom": null,
            "display": null,
            "flex": null,
            "flex_flow": null,
            "grid_area": null,
            "grid_auto_columns": null,
            "grid_auto_flow": null,
            "grid_auto_rows": null,
            "grid_column": null,
            "grid_gap": null,
            "grid_row": null,
            "grid_template_areas": null,
            "grid_template_columns": null,
            "grid_template_rows": null,
            "height": null,
            "justify_content": null,
            "justify_items": null,
            "left": null,
            "margin": null,
            "max_height": null,
            "max_width": null,
            "min_height": null,
            "min_width": null,
            "object_fit": null,
            "object_position": null,
            "order": null,
            "overflow": null,
            "overflow_x": null,
            "overflow_y": null,
            "padding": null,
            "right": null,
            "top": null,
            "visibility": null,
            "width": null
          }
        },
        "b1818aee11d14daaad8a3f300284f49a": {
          "model_module": "@jupyter-widgets/base",
          "model_module_version": "1.2.0",
          "model_name": "LayoutModel",
          "state": {
            "_model_module": "@jupyter-widgets/base",
            "_model_module_version": "1.2.0",
            "_model_name": "LayoutModel",
            "_view_count": null,
            "_view_module": "@jupyter-widgets/base",
            "_view_module_version": "1.2.0",
            "_view_name": "LayoutView",
            "align_content": null,
            "align_items": null,
            "align_self": null,
            "border": null,
            "bottom": null,
            "display": null,
            "flex": null,
            "flex_flow": null,
            "grid_area": null,
            "grid_auto_columns": null,
            "grid_auto_flow": null,
            "grid_auto_rows": null,
            "grid_column": null,
            "grid_gap": null,
            "grid_row": null,
            "grid_template_areas": null,
            "grid_template_columns": null,
            "grid_template_rows": null,
            "height": null,
            "justify_content": null,
            "justify_items": null,
            "left": null,
            "margin": null,
            "max_height": null,
            "max_width": null,
            "min_height": null,
            "min_width": null,
            "object_fit": null,
            "object_position": null,
            "order": null,
            "overflow": null,
            "overflow_x": null,
            "overflow_y": null,
            "padding": null,
            "right": null,
            "top": null,
            "visibility": null,
            "width": null
          }
        },
        "bd8d62b755e64c8e8c6c10d02d522ce7": {
          "model_module": "@jupyter-widgets/base",
          "model_module_version": "1.2.0",
          "model_name": "LayoutModel",
          "state": {
            "_model_module": "@jupyter-widgets/base",
            "_model_module_version": "1.2.0",
            "_model_name": "LayoutModel",
            "_view_count": null,
            "_view_module": "@jupyter-widgets/base",
            "_view_module_version": "1.2.0",
            "_view_name": "LayoutView",
            "align_content": null,
            "align_items": null,
            "align_self": null,
            "border": null,
            "bottom": null,
            "display": null,
            "flex": null,
            "flex_flow": null,
            "grid_area": null,
            "grid_auto_columns": null,
            "grid_auto_flow": null,
            "grid_auto_rows": null,
            "grid_column": null,
            "grid_gap": null,
            "grid_row": null,
            "grid_template_areas": null,
            "grid_template_columns": null,
            "grid_template_rows": null,
            "height": null,
            "justify_content": null,
            "justify_items": null,
            "left": null,
            "margin": null,
            "max_height": null,
            "max_width": null,
            "min_height": null,
            "min_width": null,
            "object_fit": null,
            "object_position": null,
            "order": null,
            "overflow": null,
            "overflow_x": null,
            "overflow_y": null,
            "padding": null,
            "right": null,
            "top": null,
            "visibility": null,
            "width": null
          }
        },
        "bec457a335804d068940368e5f0e0ff2": {
          "model_module": "@jupyter-widgets/controls",
          "model_module_version": "1.5.0",
          "model_name": "HTMLModel",
          "state": {
            "_dom_classes": [],
            "_model_module": "@jupyter-widgets/controls",
            "_model_module_version": "1.5.0",
            "_model_name": "HTMLModel",
            "_view_count": null,
            "_view_module": "@jupyter-widgets/controls",
            "_view_module_version": "1.5.0",
            "_view_name": "HTMLView",
            "description": "",
            "description_tooltip": null,
            "layout": "IPY_MODEL_b1818aee11d14daaad8a3f300284f49a",
            "placeholder": "​",
            "style": "IPY_MODEL_a105915e8f67400cb1633cf8b1d94ca1",
            "value": " 1862/70732 [02:42&lt;2:51:48,  6.68it/s]"
          }
        },
        "c5d0b62a1b804b1d92f03a6b8b49d511": {
          "model_module": "@jupyter-widgets/base",
          "model_module_version": "1.2.0",
          "model_name": "LayoutModel",
          "state": {
            "_model_module": "@jupyter-widgets/base",
            "_model_module_version": "1.2.0",
            "_model_name": "LayoutModel",
            "_view_count": null,
            "_view_module": "@jupyter-widgets/base",
            "_view_module_version": "1.2.0",
            "_view_name": "LayoutView",
            "align_content": null,
            "align_items": null,
            "align_self": null,
            "border": null,
            "bottom": null,
            "display": null,
            "flex": null,
            "flex_flow": null,
            "grid_area": null,
            "grid_auto_columns": null,
            "grid_auto_flow": null,
            "grid_auto_rows": null,
            "grid_column": null,
            "grid_gap": null,
            "grid_row": null,
            "grid_template_areas": null,
            "grid_template_columns": null,
            "grid_template_rows": null,
            "height": null,
            "justify_content": null,
            "justify_items": null,
            "left": null,
            "margin": null,
            "max_height": null,
            "max_width": null,
            "min_height": null,
            "min_width": null,
            "object_fit": null,
            "object_position": null,
            "order": null,
            "overflow": null,
            "overflow_x": null,
            "overflow_y": null,
            "padding": null,
            "right": null,
            "top": null,
            "visibility": null,
            "width": null
          }
        },
        "dd267c0e247c4288b244fd937ec9a3cd": {
          "model_module": "@jupyter-widgets/controls",
          "model_module_version": "1.5.0",
          "model_name": "ProgressStyleModel",
          "state": {
            "_model_module": "@jupyter-widgets/controls",
            "_model_module_version": "1.5.0",
            "_model_name": "ProgressStyleModel",
            "_view_count": null,
            "_view_module": "@jupyter-widgets/base",
            "_view_module_version": "1.2.0",
            "_view_name": "StyleView",
            "bar_color": null,
            "description_width": ""
          }
        },
        "ededdd420e634ea593ae31792190e4a6": {
          "model_module": "@jupyter-widgets/controls",
          "model_module_version": "1.5.0",
          "model_name": "HBoxModel",
          "state": {
            "_dom_classes": [],
            "_model_module": "@jupyter-widgets/controls",
            "_model_module_version": "1.5.0",
            "_model_name": "HBoxModel",
            "_view_count": null,
            "_view_module": "@jupyter-widgets/controls",
            "_view_module_version": "1.5.0",
            "_view_name": "HBoxView",
            "box_style": "",
            "children": [
              "IPY_MODEL_739a6730a52243e988a770425fad3aea",
              "IPY_MODEL_973f4e5de5b74dc0ab4a2ddd15869365",
              "IPY_MODEL_bec457a335804d068940368e5f0e0ff2"
            ],
            "layout": "IPY_MODEL_a77eb63cb8ef41278eddcbc587b246b5"
          }
        }
      }
    }
  },
  "nbformat": 4,
  "nbformat_minor": 0
}
