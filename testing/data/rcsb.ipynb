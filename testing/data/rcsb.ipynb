{
  "nbformat": 4,
  "nbformat_minor": 0,
  "metadata": {
    "colab": {
      "provenance": []
    },
    "kernelspec": {
      "name": "python3",
      "display_name": "Python 3"
    },
    "language_info": {
      "name": "python"
    },
    "widgets": {
      "application/vnd.jupyter.widget-state+json": {
        "ededdd420e634ea593ae31792190e4a6": {
          "model_module": "@jupyter-widgets/controls",
          "model_name": "HBoxModel",
          "model_module_version": "1.5.0",
          "state": {
            "_dom_classes": [],
            "_model_module": "@jupyter-widgets/controls",
            "_model_module_version": "1.5.0",
            "_model_name": "HBoxModel",
            "_view_count": null,
            "_view_module": "@jupyter-widgets/controls",
            "_view_module_version": "1.5.0",
            "_view_name": "HBoxView",
            "box_style": "",
            "children": [
              "IPY_MODEL_739a6730a52243e988a770425fad3aea",
              "IPY_MODEL_973f4e5de5b74dc0ab4a2ddd15869365",
              "IPY_MODEL_bec457a335804d068940368e5f0e0ff2"
            ],
            "layout": "IPY_MODEL_a77eb63cb8ef41278eddcbc587b246b5"
          }
        },
        "739a6730a52243e988a770425fad3aea": {
          "model_module": "@jupyter-widgets/controls",
          "model_name": "HTMLModel",
          "model_module_version": "1.5.0",
          "state": {
            "_dom_classes": [],
            "_model_module": "@jupyter-widgets/controls",
            "_model_module_version": "1.5.0",
            "_model_name": "HTMLModel",
            "_view_count": null,
            "_view_module": "@jupyter-widgets/controls",
            "_view_module_version": "1.5.0",
            "_view_name": "HTMLView",
            "description": "",
            "description_tooltip": null,
            "layout": "IPY_MODEL_bd8d62b755e64c8e8c6c10d02d522ce7",
            "placeholder": "​",
            "style": "IPY_MODEL_48b22de41d994a96bba6cb141ea28b72",
            "value": "Pandas Apply:   3%"
          }
        },
        "973f4e5de5b74dc0ab4a2ddd15869365": {
          "model_module": "@jupyter-widgets/controls",
          "model_name": "FloatProgressModel",
          "model_module_version": "1.5.0",
          "state": {
            "_dom_classes": [],
            "_model_module": "@jupyter-widgets/controls",
            "_model_module_version": "1.5.0",
            "_model_name": "FloatProgressModel",
            "_view_count": null,
            "_view_module": "@jupyter-widgets/controls",
            "_view_module_version": "1.5.0",
            "_view_name": "ProgressView",
            "bar_style": "",
            "description": "",
            "description_tooltip": null,
            "layout": "IPY_MODEL_c5d0b62a1b804b1d92f03a6b8b49d511",
            "max": 70732,
            "min": 0,
            "orientation": "horizontal",
            "style": "IPY_MODEL_dd267c0e247c4288b244fd937ec9a3cd",
            "value": 1862
          }
        },
        "bec457a335804d068940368e5f0e0ff2": {
          "model_module": "@jupyter-widgets/controls",
          "model_name": "HTMLModel",
          "model_module_version": "1.5.0",
          "state": {
            "_dom_classes": [],
            "_model_module": "@jupyter-widgets/controls",
            "_model_module_version": "1.5.0",
            "_model_name": "HTMLModel",
            "_view_count": null,
            "_view_module": "@jupyter-widgets/controls",
            "_view_module_version": "1.5.0",
            "_view_name": "HTMLView",
            "description": "",
            "description_tooltip": null,
            "layout": "IPY_MODEL_b1818aee11d14daaad8a3f300284f49a",
            "placeholder": "​",
            "style": "IPY_MODEL_a105915e8f67400cb1633cf8b1d94ca1",
            "value": " 1862/70732 [02:42&lt;2:51:48,  6.68it/s]"
          }
        },
        "a77eb63cb8ef41278eddcbc587b246b5": {
          "model_module": "@jupyter-widgets/base",
          "model_name": "LayoutModel",
          "model_module_version": "1.2.0",
          "state": {
            "_model_module": "@jupyter-widgets/base",
            "_model_module_version": "1.2.0",
            "_model_name": "LayoutModel",
            "_view_count": null,
            "_view_module": "@jupyter-widgets/base",
            "_view_module_version": "1.2.0",
            "_view_name": "LayoutView",
            "align_content": null,
            "align_items": null,
            "align_self": null,
            "border": null,
            "bottom": null,
            "display": null,
            "flex": null,
            "flex_flow": null,
            "grid_area": null,
            "grid_auto_columns": null,
            "grid_auto_flow": null,
            "grid_auto_rows": null,
            "grid_column": null,
            "grid_gap": null,
            "grid_row": null,
            "grid_template_areas": null,
            "grid_template_columns": null,
            "grid_template_rows": null,
            "height": null,
            "justify_content": null,
            "justify_items": null,
            "left": null,
            "margin": null,
            "max_height": null,
            "max_width": null,
            "min_height": null,
            "min_width": null,
            "object_fit": null,
            "object_position": null,
            "order": null,
            "overflow": null,
            "overflow_x": null,
            "overflow_y": null,
            "padding": null,
            "right": null,
            "top": null,
            "visibility": null,
            "width": null
          }
        },
        "bd8d62b755e64c8e8c6c10d02d522ce7": {
          "model_module": "@jupyter-widgets/base",
          "model_name": "LayoutModel",
          "model_module_version": "1.2.0",
          "state": {
            "_model_module": "@jupyter-widgets/base",
            "_model_module_version": "1.2.0",
            "_model_name": "LayoutModel",
            "_view_count": null,
            "_view_module": "@jupyter-widgets/base",
            "_view_module_version": "1.2.0",
            "_view_name": "LayoutView",
            "align_content": null,
            "align_items": null,
            "align_self": null,
            "border": null,
            "bottom": null,
            "display": null,
            "flex": null,
            "flex_flow": null,
            "grid_area": null,
            "grid_auto_columns": null,
            "grid_auto_flow": null,
            "grid_auto_rows": null,
            "grid_column": null,
            "grid_gap": null,
            "grid_row": null,
            "grid_template_areas": null,
            "grid_template_columns": null,
            "grid_template_rows": null,
            "height": null,
            "justify_content": null,
            "justify_items": null,
            "left": null,
            "margin": null,
            "max_height": null,
            "max_width": null,
            "min_height": null,
            "min_width": null,
            "object_fit": null,
            "object_position": null,
            "order": null,
            "overflow": null,
            "overflow_x": null,
            "overflow_y": null,
            "padding": null,
            "right": null,
            "top": null,
            "visibility": null,
            "width": null
          }
        },
        "48b22de41d994a96bba6cb141ea28b72": {
          "model_module": "@jupyter-widgets/controls",
          "model_name": "DescriptionStyleModel",
          "model_module_version": "1.5.0",
          "state": {
            "_model_module": "@jupyter-widgets/controls",
            "_model_module_version": "1.5.0",
            "_model_name": "DescriptionStyleModel",
            "_view_count": null,
            "_view_module": "@jupyter-widgets/base",
            "_view_module_version": "1.2.0",
            "_view_name": "StyleView",
            "description_width": ""
          }
        },
        "c5d0b62a1b804b1d92f03a6b8b49d511": {
          "model_module": "@jupyter-widgets/base",
          "model_name": "LayoutModel",
          "model_module_version": "1.2.0",
          "state": {
            "_model_module": "@jupyter-widgets/base",
            "_model_module_version": "1.2.0",
            "_model_name": "LayoutModel",
            "_view_count": null,
            "_view_module": "@jupyter-widgets/base",
            "_view_module_version": "1.2.0",
            "_view_name": "LayoutView",
            "align_content": null,
            "align_items": null,
            "align_self": null,
            "border": null,
            "bottom": null,
            "display": null,
            "flex": null,
            "flex_flow": null,
            "grid_area": null,
            "grid_auto_columns": null,
            "grid_auto_flow": null,
            "grid_auto_rows": null,
            "grid_column": null,
            "grid_gap": null,
            "grid_row": null,
            "grid_template_areas": null,
            "grid_template_columns": null,
            "grid_template_rows": null,
            "height": null,
            "justify_content": null,
            "justify_items": null,
            "left": null,
            "margin": null,
            "max_height": null,
            "max_width": null,
            "min_height": null,
            "min_width": null,
            "object_fit": null,
            "object_position": null,
            "order": null,
            "overflow": null,
            "overflow_x": null,
            "overflow_y": null,
            "padding": null,
            "right": null,
            "top": null,
            "visibility": null,
            "width": null
          }
        },
        "dd267c0e247c4288b244fd937ec9a3cd": {
          "model_module": "@jupyter-widgets/controls",
          "model_name": "ProgressStyleModel",
          "model_module_version": "1.5.0",
          "state": {
            "_model_module": "@jupyter-widgets/controls",
            "_model_module_version": "1.5.0",
            "_model_name": "ProgressStyleModel",
            "_view_count": null,
            "_view_module": "@jupyter-widgets/base",
            "_view_module_version": "1.2.0",
            "_view_name": "StyleView",
            "bar_color": null,
            "description_width": ""
          }
        },
        "b1818aee11d14daaad8a3f300284f49a": {
          "model_module": "@jupyter-widgets/base",
          "model_name": "LayoutModel",
          "model_module_version": "1.2.0",
          "state": {
            "_model_module": "@jupyter-widgets/base",
            "_model_module_version": "1.2.0",
            "_model_name": "LayoutModel",
            "_view_count": null,
            "_view_module": "@jupyter-widgets/base",
            "_view_module_version": "1.2.0",
            "_view_name": "LayoutView",
            "align_content": null,
            "align_items": null,
            "align_self": null,
            "border": null,
            "bottom": null,
            "display": null,
            "flex": null,
            "flex_flow": null,
            "grid_area": null,
            "grid_auto_columns": null,
            "grid_auto_flow": null,
            "grid_auto_rows": null,
            "grid_column": null,
            "grid_gap": null,
            "grid_row": null,
            "grid_template_areas": null,
            "grid_template_columns": null,
            "grid_template_rows": null,
            "height": null,
            "justify_content": null,
            "justify_items": null,
            "left": null,
            "margin": null,
            "max_height": null,
            "max_width": null,
            "min_height": null,
            "min_width": null,
            "object_fit": null,
            "object_position": null,
            "order": null,
            "overflow": null,
            "overflow_x": null,
            "overflow_y": null,
            "padding": null,
            "right": null,
            "top": null,
            "visibility": null,
            "width": null
          }
        },
        "a105915e8f67400cb1633cf8b1d94ca1": {
          "model_module": "@jupyter-widgets/controls",
          "model_name": "DescriptionStyleModel",
          "model_module_version": "1.5.0",
          "state": {
            "_model_module": "@jupyter-widgets/controls",
            "_model_module_version": "1.5.0",
            "_model_name": "DescriptionStyleModel",
            "_view_count": null,
            "_view_module": "@jupyter-widgets/base",
            "_view_module_version": "1.2.0",
            "_view_name": "StyleView",
            "description_width": ""
          }
        }
      }
    }
  },
  "cells": [
    {
      "cell_type": "markdown",
      "source": [
        "# Install & Import Dependencies"
      ],
      "metadata": {
        "id": "AJXOqX4REsIg"
      }
    },
    {
      "cell_type": "code",
      "execution_count": null,
      "metadata": {
        "colab": {
          "base_uri": "https://localhost:8080/"
        },
        "id": "27v0JDTnquLs",
        "outputId": "9b4f1f62-c7fd-4183-d716-00df54a85276"
      },
      "outputs": [
        {
          "output_type": "stream",
          "name": "stdout",
          "text": [
            "Requirement already satisfied: rcsb-api in /usr/local/lib/python3.12/dist-packages (1.4.0)\n",
            "Requirement already satisfied: httpx>=0.26.0 in /usr/local/lib/python3.12/dist-packages (from rcsb-api) (0.28.1)\n",
            "Requirement already satisfied: nest-asyncio>=1.6.0 in /usr/local/lib/python3.12/dist-packages (from rcsb-api) (1.6.0)\n",
            "Requirement already satisfied: rustworkx in /usr/local/lib/python3.12/dist-packages (from rcsb-api) (0.17.1)\n",
            "Requirement already satisfied: graphql-core in /usr/local/lib/python3.12/dist-packages (from rcsb-api) (3.2.6)\n",
            "Requirement already satisfied: tqdm in /usr/local/lib/python3.12/dist-packages (from rcsb-api) (4.67.1)\n",
            "Requirement already satisfied: anyio in /usr/local/lib/python3.12/dist-packages (from httpx>=0.26.0->rcsb-api) (4.10.0)\n",
            "Requirement already satisfied: certifi in /usr/local/lib/python3.12/dist-packages (from httpx>=0.26.0->rcsb-api) (2025.8.3)\n",
            "Requirement already satisfied: httpcore==1.* in /usr/local/lib/python3.12/dist-packages (from httpx>=0.26.0->rcsb-api) (1.0.9)\n",
            "Requirement already satisfied: idna in /usr/local/lib/python3.12/dist-packages (from httpx>=0.26.0->rcsb-api) (3.10)\n",
            "Requirement already satisfied: h11>=0.16 in /usr/local/lib/python3.12/dist-packages (from httpcore==1.*->httpx>=0.26.0->rcsb-api) (0.16.0)\n",
            "Requirement already satisfied: numpy<3,>=1.16.0 in /usr/local/lib/python3.12/dist-packages (from rustworkx->rcsb-api) (2.0.2)\n",
            "Requirement already satisfied: sniffio>=1.1 in /usr/local/lib/python3.12/dist-packages (from anyio->httpx>=0.26.0->rcsb-api) (1.3.1)\n",
            "Requirement already satisfied: typing_extensions>=4.5 in /usr/local/lib/python3.12/dist-packages (from anyio->httpx>=0.26.0->rcsb-api) (4.15.0)\n",
            "Requirement already satisfied: biopython in /usr/local/lib/python3.12/dist-packages (1.85)\n",
            "Requirement already satisfied: numpy in /usr/local/lib/python3.12/dist-packages (from biopython) (2.0.2)\n"
          ]
        }
      ],
      "source": [
        "! pip install rcsb-api\n",
        "! pip install biopython"
      ]
    },
    {
      "cell_type": "code",
      "source": [
        "! pip install swifter"
      ],
      "metadata": {
        "colab": {
          "base_uri": "https://localhost:8080/"
        },
        "id": "ZednvueaPzqe",
        "outputId": "64749a77-0fdd-458d-f403-ee2afee4a874"
      },
      "execution_count": null,
      "outputs": [
        {
          "output_type": "stream",
          "name": "stdout",
          "text": [
            "Collecting swifter\n",
            "  Downloading swifter-1.4.0.tar.gz (1.2 MB)\n",
            "\u001b[?25l     \u001b[90m━━━━━━━━━━━━━━━━━━━━━━━━━━━━━━━━━━━━━━━━\u001b[0m \u001b[32m0.0/1.2 MB\u001b[0m \u001b[31m?\u001b[0m eta \u001b[36m-:--:--\u001b[0m\r\u001b[2K     \u001b[91m━━━━━━━━━━━━━━━━━━━━━━━━━━━━━━━━━━━━━━━\u001b[0m\u001b[91m╸\u001b[0m \u001b[32m1.2/1.2 MB\u001b[0m \u001b[31m39.3 MB/s\u001b[0m eta \u001b[36m0:00:01\u001b[0m\r\u001b[2K     \u001b[90m━━━━━━━━━━━━━━━━━━━━━━━━━━━━━━━━━━━━━━━━\u001b[0m \u001b[32m1.2/1.2 MB\u001b[0m \u001b[31m24.4 MB/s\u001b[0m eta \u001b[36m0:00:00\u001b[0m\n",
            "\u001b[?25h  Preparing metadata (setup.py) ... \u001b[?25l\u001b[?25hdone\n",
            "Requirement already satisfied: pandas>=1.0.0 in /usr/local/lib/python3.12/dist-packages (from swifter) (2.2.2)\n",
            "Requirement already satisfied: psutil>=5.6.6 in /usr/local/lib/python3.12/dist-packages (from swifter) (5.9.5)\n",
            "Requirement already satisfied: dask>=2.10.0 in /usr/local/lib/python3.12/dist-packages (from dask[dataframe]>=2.10.0->swifter) (2025.5.0)\n",
            "Requirement already satisfied: tqdm>=4.33.0 in /usr/local/lib/python3.12/dist-packages (from swifter) (4.67.1)\n",
            "Requirement already satisfied: click>=8.1 in /usr/local/lib/python3.12/dist-packages (from dask>=2.10.0->dask[dataframe]>=2.10.0->swifter) (8.2.1)\n",
            "Requirement already satisfied: cloudpickle>=3.0.0 in /usr/local/lib/python3.12/dist-packages (from dask>=2.10.0->dask[dataframe]>=2.10.0->swifter) (3.1.1)\n",
            "Requirement already satisfied: fsspec>=2021.09.0 in /usr/local/lib/python3.12/dist-packages (from dask>=2.10.0->dask[dataframe]>=2.10.0->swifter) (2025.3.0)\n",
            "Requirement already satisfied: packaging>=20.0 in /usr/local/lib/python3.12/dist-packages (from dask>=2.10.0->dask[dataframe]>=2.10.0->swifter) (25.0)\n",
            "Requirement already satisfied: partd>=1.4.0 in /usr/local/lib/python3.12/dist-packages (from dask>=2.10.0->dask[dataframe]>=2.10.0->swifter) (1.4.2)\n",
            "Requirement already satisfied: pyyaml>=5.3.1 in /usr/local/lib/python3.12/dist-packages (from dask>=2.10.0->dask[dataframe]>=2.10.0->swifter) (6.0.2)\n",
            "Requirement already satisfied: toolz>=0.10.0 in /usr/local/lib/python3.12/dist-packages (from dask>=2.10.0->dask[dataframe]>=2.10.0->swifter) (0.12.1)\n",
            "Requirement already satisfied: pyarrow>=14.0.1 in /usr/local/lib/python3.12/dist-packages (from dask[dataframe]>=2.10.0->swifter) (18.1.0)\n",
            "Requirement already satisfied: numpy>=1.26.0 in /usr/local/lib/python3.12/dist-packages (from pandas>=1.0.0->swifter) (2.0.2)\n",
            "Requirement already satisfied: python-dateutil>=2.8.2 in /usr/local/lib/python3.12/dist-packages (from pandas>=1.0.0->swifter) (2.9.0.post0)\n",
            "Requirement already satisfied: pytz>=2020.1 in /usr/local/lib/python3.12/dist-packages (from pandas>=1.0.0->swifter) (2025.2)\n",
            "Requirement already satisfied: tzdata>=2022.7 in /usr/local/lib/python3.12/dist-packages (from pandas>=1.0.0->swifter) (2025.2)\n",
            "Requirement already satisfied: locket in /usr/local/lib/python3.12/dist-packages (from partd>=1.4.0->dask>=2.10.0->dask[dataframe]>=2.10.0->swifter) (1.0.0)\n",
            "Requirement already satisfied: six>=1.5 in /usr/local/lib/python3.12/dist-packages (from python-dateutil>=2.8.2->pandas>=1.0.0->swifter) (1.17.0)\n",
            "Building wheels for collected packages: swifter\n",
            "  Building wheel for swifter (setup.py) ... \u001b[?25l\u001b[?25hdone\n",
            "  Created wheel for swifter: filename=swifter-1.4.0-py3-none-any.whl size=16505 sha256=4479dad92ed34cdc2fe92fdd0cb94d1f7648c34a4fd23924aa38e4e8cffdb7b6\n",
            "  Stored in directory: /root/.cache/pip/wheels/d9/31/ff/ff51141a088571a9f672449e5aad5ea8bb35ca5d95ba135f30\n",
            "Successfully built swifter\n",
            "Installing collected packages: swifter\n",
            "Successfully installed swifter-1.4.0\n"
          ]
        }
      ]
    },
    {
      "cell_type": "code",
      "source": [
        "from rcsbapi.data import DataQuery as Query\n",
        "import json\n",
        "from rcsbapi.search import search_attributes as attrs\n",
        "import pandas as pd\n",
        "from Bio import pairwise2\n",
        "from Bio.Seq import Seq\n",
        "from Bio.Align import substitution_matrices\n",
        "import re\n",
        "from Bio.pairwise2 import format_alignment\n",
        "import os\n",
        "import subprocess\n",
        "import swifter"
      ],
      "metadata": {
        "id": "woskpRn3qwwr"
      },
      "execution_count": null,
      "outputs": []
    },
    {
      "cell_type": "code",
      "source": [
        "import os\n",
        "num_cores = os.cpu_count()\n",
        "if num_cores is not None:\n",
        "    print(f\"Number of logical CPU cores: {num_cores}\")\n",
        "else:\n",
        "    print(\"Could not determine CPU count.\")"
      ],
      "metadata": {
        "id": "rH09MH7GPT8a"
      },
      "execution_count": null,
      "outputs": []
    },
    {
      "cell_type": "markdown",
      "source": [
        "# RCSB Search Query"
      ],
      "metadata": {
        "id": "KhLMj__GEwcq"
      }
    },
    {
      "cell_type": "code",
      "source": [
        "q1 = attrs.rcsb_entity_source_organism.scientific_name == \"Homo sapiens\"\n",
        "q2 = attrs.exptl.method == \"X-RAY DIFFRACTION\""
      ],
      "metadata": {
        "id": "Ea5gicQGrUMK"
      },
      "execution_count": null,
      "outputs": []
    },
    {
      "cell_type": "code",
      "source": [
        "query = q1 & q2"
      ],
      "metadata": {
        "id": "zYfvI7n3rx1N"
      },
      "execution_count": null,
      "outputs": []
    },
    {
      "cell_type": "code",
      "source": [
        "results = query()\n",
        "output = list()\n",
        "for rid in results:\n",
        "    output.append(rid)"
      ],
      "metadata": {
        "id": "2eXIImQ6r1Hr"
      },
      "execution_count": null,
      "outputs": []
    },
    {
      "cell_type": "code",
      "source": [
        "len(output)"
      ],
      "metadata": {
        "colab": {
          "base_uri": "https://localhost:8080/"
        },
        "id": "PF9KsR6-sA9b",
        "outputId": "eec26b1c-9b29-442d-8384-ccdf0ea5a66a"
      },
      "execution_count": null,
      "outputs": [
        {
          "output_type": "execute_result",
          "data": {
            "text/plain": [
              "59477"
            ]
          },
          "metadata": {},
          "execution_count": 108
        }
      ]
    },
    {
      "cell_type": "code",
      "source": [
        "# output[0:5]"
      ],
      "metadata": {
        "id": "8thpXzW6tvDB"
      },
      "execution_count": null,
      "outputs": []
    },
    {
      "cell_type": "markdown",
      "source": [
        "# RCSB Data Query"
      ],
      "metadata": {
        "id": "sxOeYh8LEzzy"
      }
    },
    {
      "cell_type": "code",
      "source": [
        "query = Query(\n",
        "    input_type=\"entries\",\n",
        "    input_ids=output,\n",
        "    return_data_list=[\n",
        "        \"exptl.method\",\n",
        "        \"polymer_entities.polymer_entity_instances.rcsb_polymer_entity_instance_container_identifiers.entity_id\",\n",
        "        \"polymer_entities.uniprots.rcsb_uniprot_protein.sequence\",\n",
        "        \"polymer_entities.entity_poly.pdbx_seq_one_letter_code\",\n",
        "        \"polymer_entities.uniprots.rcsb_uniprot_protein.source_organism\"\n",
        "    ]\n",
        ")\n",
        "query.exec(progress_bar=True)\n",
        "response_data = query.get_response()\n",
        "# response_data"
      ],
      "metadata": {
        "colab": {
          "base_uri": "https://localhost:8080/"
        },
        "id": "GO5aCMVYtJ4j",
        "outputId": "67d49d5c-89d9-4fe6-e7a5-c959eabbefe7"
      },
      "execution_count": null,
      "outputs": [
        {
          "output_type": "stream",
          "name": "stderr",
          "text": [
            "WARNING:rcsbapi.data.data_query:WARNING: More than 50000 IDs were provided as input. Query may take several minutes to complete.\n",
            "100%|██████████| 199/199 [04:31<00:00,  1.36s/it]\n"
          ]
        }
      ]
    },
    {
      "cell_type": "code",
      "source": [
        "len(response_data['data']['entries'])"
      ],
      "metadata": {
        "colab": {
          "base_uri": "https://localhost:8080/"
        },
        "id": "hmMLzwyQz3Qn",
        "outputId": "8fc214a7-28a0-49f8-dc55-1f1c306b2f3f"
      },
      "execution_count": null,
      "outputs": [
        {
          "output_type": "execute_result",
          "data": {
            "text/plain": [
              "59477"
            ]
          },
          "metadata": {},
          "execution_count": 91
        }
      ]
    },
    {
      "cell_type": "markdown",
      "source": [
        "# Creating Pandas DF"
      ],
      "metadata": {
        "id": "_0FIBoLUE4tX"
      }
    },
    {
      "cell_type": "code",
      "source": [
        "rcsb_ids = list()\n",
        "rcsb_entity_ids = list()\n",
        "uniprot_seqs = list()\n",
        "pbd_ids = list()\n",
        "\n",
        "for result in response_data['data']['entries']:\n",
        "  for entity in result['polymer_entities']:\n",
        "    if entity['uniprots']:\n",
        "      for uniprot in entity['uniprots']:\n",
        "        if uniprot['rcsb_uniprot_protein']['source_organism']['taxonomy_id'] == 9606:\n",
        "          rcsb_ids.append(result['rcsb_id'])\n",
        "          rcsb_entity_ids.append(entity['polymer_entity_instances'][0]['rcsb_polymer_entity_instance_container_identifiers']['entity_id'])\n",
        "          uniprot_seqs.append(uniprot['rcsb_uniprot_protein']['sequence'])\n",
        "          pbd_ids.append(entity['entity_poly']['pdbx_seq_one_letter_code'])"
      ],
      "metadata": {
        "id": "6M9o86RBuA3G"
      },
      "execution_count": null,
      "outputs": []
    },
    {
      "cell_type": "code",
      "source": [
        "len(rcsb_ids), len(rcsb_entity_ids), len(uniprot_seqs), len(pbd_ids)"
      ],
      "metadata": {
        "colab": {
          "base_uri": "https://localhost:8080/"
        },
        "id": "57yMjWsYz9jt",
        "outputId": "364377ee-5fe1-4085-c1c8-6651794a1a27"
      },
      "execution_count": null,
      "outputs": [
        {
          "output_type": "execute_result",
          "data": {
            "text/plain": [
              "(70732, 70732, 70732, 70732)"
            ]
          },
          "metadata": {},
          "execution_count": 112
        }
      ]
    },
    {
      "cell_type": "code",
      "source": [
        "df = pd.DataFrame(\n",
        "    data = {'rcsb_id': rcsb_ids, 'rcsb_entity_ids': rcsb_entity_ids, 'uniprot_seq': uniprot_seqs, 'pbd_id': pbd_ids}\n",
        ")"
      ],
      "metadata": {
        "id": "mD_P7CbEvLoF"
      },
      "execution_count": null,
      "outputs": []
    },
    {
      "cell_type": "code",
      "source": [
        "df.tail(20)"
      ],
      "metadata": {
        "colab": {
          "base_uri": "https://localhost:8080/",
          "height": 676
        },
        "id": "UKTntrNmvbN2",
        "outputId": "45cf768d-489b-4b0e-925e-84a020051f07"
      },
      "execution_count": null,
      "outputs": [
        {
          "output_type": "execute_result",
          "data": {
            "text/plain": [
              "      rcsb_id rcsb_entity_ids  \\\n",
              "70712    2HI9               1   \n",
              "70713    2HIB               1   \n",
              "70714    2HIJ               1   \n",
              "70715    2HIJ               2   \n",
              "70716    2HIW               1   \n",
              "70717    2HIZ               1   \n",
              "70718    2HJK               1   \n",
              "70719    2HJK               2   \n",
              "70720    2HJL               1   \n",
              "70721    2HJL               2   \n",
              "70722    2HJW               1   \n",
              "70723    2HK5               1   \n",
              "70724    2HKK               1   \n",
              "70725    2HKN               1   \n",
              "70726    2HKO               1   \n",
              "70727    2HKQ               1   \n",
              "70728    2HKQ               2   \n",
              "70729    2HL3               1   \n",
              "70730    2HL3               2   \n",
              "70731    2HL4               1   \n",
              "\n",
              "                                             uniprot_seq  \\\n",
              "70712  MQLFLLLCLVLLSPQGASLHRHHPREMKKRVEDLHVGATVAPSSRR...   \n",
              "70713  MAAPALGLVCGRCPELGLVLLLLLLSLLCGAAGSQEAGTGAGAGSL...   \n",
              "70714  MYSNVIGTVTSGKRKVYLLSLLLIGFWDCVTCHGSPVDICTAKPRD...   \n",
              "70715  MYSNVIGTVTSGKRKVYLLSLLLIGFWDCVTCHGSPVDICTAKPRD...   \n",
              "70716  MLEICLKLVGCKSKKGLSSSSSCYLEEALQRPVASDFEPQGLSEAA...   \n",
              "70717  MAQALPWLLLWMGAGVLPAHGTQHGIRLPLRSGLGGAPLGLRLPRE...   \n",
              "70718  MRVTAPRTVLLLLWGAVALTETWAGSHSMRYFYTAMSRPGRGEPRF...   \n",
              "70719  MSRSVALAVLALLSLSGLEAIQRTPKIQVYSRHPAENGKSNFLNCY...   \n",
              "70720  MLVMAPRTVLLLLSAALALTETWAGSHSMRYFYTSVSRPGRGEPRF...   \n",
              "70721  MSRSVALAVLALLSLSGLEAIQRTPKIQVYSRHPAENGKSNFLNCY...   \n",
              "70722  MVLLLCLSCLIFSCLTFSWLKIWGKMTDSKPITKSKSEANLIPSQE...   \n",
              "70723  MGGRSSCEDPGCPRDEERAPRMGCMKSKFLQVGGNTFSKTETSASP...   \n",
              "70724  MSHHWGYGKHNGPEHWHKDFPIAKGERQSPVDIDTHTAKYDPSLKP...   \n",
              "70725  MAQSKRHVYSRTPSGSRMSAEASARPLRVGSRVEVIGKGHRGTVAY...   \n",
              "70726  MLSGKKAAAAAAAAAAAATGTEAGPGTAGGSENGSEVAAQPAGLSG...   \n",
              "70727  MAVNVYSTSVTSDNLSRHDMLAWINESLQLNLTKIEQLCSGAAYCQ...   \n",
              "70728  MAQSKRHVYSRTPSGSRMSAEASARPLRVGSRVEVIGKGHRGTVAY...   \n",
              "70729  MAQSKRHVYSRTPSGSRMSAEASARPLRVGSRVEVIGKGHRGTVAY...   \n",
              "70730  MAVNVYSTSVTSDNLSRHDMLAWINESLQLNLTKIEQLCSGAAYCQ...   \n",
              "70731  MSHHWGYGKHNGPEHWHKDFPIAKGERQSPVDIDTHTAKYDPSLKP...   \n",
              "\n",
              "                                                  pbd_id  \n",
              "70712  SRRDFTFDLYRALASAAPSQNIFFSPVSISMSLAMLSLGAGSSTKM...  \n",
              "70713  LAHSKMVPIPAGVFTMGTDDPQIKQDGEAPARRVTIDAFYMDAYEV...  \n",
              "70714  HGSPVDICTAKPRDIPMNPMCIYRSPEKKATEDEGSEQKIPEATNR...  \n",
              "70715  HGSPVDICTAKPRDIPMNPMCIYRSPEKKATEDEGSEQKIPEATNR...  \n",
              "70716  GAMDPNYDKWEMERTDITMKHKLGGGQYGEVYEGVWKKYSLTVAVK...  \n",
              "70717  MASMTGGQQMGRGSMAGVLPAHGTQHGIRLPLRSGLGGAPLGLRLP...  \n",
              "70718  GSHSMRYFYTAMSRPGRGEPRFIAVGYVDDTQFVRFDSDAASPRMA...  \n",
              "70719  IQRTPKIQVYSRHPAENGKSNFLNCYVSGFHPSDIEVDLLKNGERI...  \n",
              "70720  GSHSMRYFYTAMSRPGRGEPRFIAVGYVDDTQFVRFDSDAASPRMA...  \n",
              "70721  IQRTPKIQVYSRHPAENGKSNFLNCYVSGFHPSDIEVDLLKNGERI...  \n",
              "70722  MRGSGSMRPSMSGLHLVKRGREHKKLDLHRDFTVASPAEFVTRFGG...  \n",
              "70723  AQKPWEKDAWEIPRESLKLEKKLGAGQFGEVWMATYNKHTKVAVKT...  \n",
              "70724  MSHHWGYGKHNGPEHWHKDFPIAKGERQSPVDIDTHTAKYDPSLKP...  \n",
              "70725  GSHMSAEASARPLRVGSRVEVIGKGHRGTVAYVGATLFATGKWVGV...  \n",
              "70726  SGVEGAAFQSRLPHDRMTSQEAACFPDIISGPQQTQKVFLFIRNRT...  \n",
              "70727  GSDEAAELMQQVNVLKLTVEDLEKERDFYFGKLRNIELICQENEGE...  \n",
              "70728  GSHMSAEASARPLRVGSRVEVIGKGHRGTVAYVGATLFATGKWVGV...  \n",
              "70729  GSHMSAEASARPLRVGSRVEVIGKGHRGTVAYVGMTLFATGKWVGV...  \n",
              "70730                                             EEQEEY  \n",
              "70731  SHHWGYGKHNGPEHWHKDFPIAKGERQSPVDIDTHTAKYDPSLKPL...  "
            ],
            "text/html": [
              "\n",
              "  <div id=\"df-bf38db05-975a-4987-86b6-3127b5a95859\" class=\"colab-df-container\">\n",
              "    <div>\n",
              "<style scoped>\n",
              "    .dataframe tbody tr th:only-of-type {\n",
              "        vertical-align: middle;\n",
              "    }\n",
              "\n",
              "    .dataframe tbody tr th {\n",
              "        vertical-align: top;\n",
              "    }\n",
              "\n",
              "    .dataframe thead th {\n",
              "        text-align: right;\n",
              "    }\n",
              "</style>\n",
              "<table border=\"1\" class=\"dataframe\">\n",
              "  <thead>\n",
              "    <tr style=\"text-align: right;\">\n",
              "      <th></th>\n",
              "      <th>rcsb_id</th>\n",
              "      <th>rcsb_entity_ids</th>\n",
              "      <th>uniprot_seq</th>\n",
              "      <th>pbd_id</th>\n",
              "    </tr>\n",
              "  </thead>\n",
              "  <tbody>\n",
              "    <tr>\n",
              "      <th>70712</th>\n",
              "      <td>2HI9</td>\n",
              "      <td>1</td>\n",
              "      <td>MQLFLLLCLVLLSPQGASLHRHHPREMKKRVEDLHVGATVAPSSRR...</td>\n",
              "      <td>SRRDFTFDLYRALASAAPSQNIFFSPVSISMSLAMLSLGAGSSTKM...</td>\n",
              "    </tr>\n",
              "    <tr>\n",
              "      <th>70713</th>\n",
              "      <td>2HIB</td>\n",
              "      <td>1</td>\n",
              "      <td>MAAPALGLVCGRCPELGLVLLLLLLSLLCGAAGSQEAGTGAGAGSL...</td>\n",
              "      <td>LAHSKMVPIPAGVFTMGTDDPQIKQDGEAPARRVTIDAFYMDAYEV...</td>\n",
              "    </tr>\n",
              "    <tr>\n",
              "      <th>70714</th>\n",
              "      <td>2HIJ</td>\n",
              "      <td>1</td>\n",
              "      <td>MYSNVIGTVTSGKRKVYLLSLLLIGFWDCVTCHGSPVDICTAKPRD...</td>\n",
              "      <td>HGSPVDICTAKPRDIPMNPMCIYRSPEKKATEDEGSEQKIPEATNR...</td>\n",
              "    </tr>\n",
              "    <tr>\n",
              "      <th>70715</th>\n",
              "      <td>2HIJ</td>\n",
              "      <td>2</td>\n",
              "      <td>MYSNVIGTVTSGKRKVYLLSLLLIGFWDCVTCHGSPVDICTAKPRD...</td>\n",
              "      <td>HGSPVDICTAKPRDIPMNPMCIYRSPEKKATEDEGSEQKIPEATNR...</td>\n",
              "    </tr>\n",
              "    <tr>\n",
              "      <th>70716</th>\n",
              "      <td>2HIW</td>\n",
              "      <td>1</td>\n",
              "      <td>MLEICLKLVGCKSKKGLSSSSSCYLEEALQRPVASDFEPQGLSEAA...</td>\n",
              "      <td>GAMDPNYDKWEMERTDITMKHKLGGGQYGEVYEGVWKKYSLTVAVK...</td>\n",
              "    </tr>\n",
              "    <tr>\n",
              "      <th>70717</th>\n",
              "      <td>2HIZ</td>\n",
              "      <td>1</td>\n",
              "      <td>MAQALPWLLLWMGAGVLPAHGTQHGIRLPLRSGLGGAPLGLRLPRE...</td>\n",
              "      <td>MASMTGGQQMGRGSMAGVLPAHGTQHGIRLPLRSGLGGAPLGLRLP...</td>\n",
              "    </tr>\n",
              "    <tr>\n",
              "      <th>70718</th>\n",
              "      <td>2HJK</td>\n",
              "      <td>1</td>\n",
              "      <td>MRVTAPRTVLLLLWGAVALTETWAGSHSMRYFYTAMSRPGRGEPRF...</td>\n",
              "      <td>GSHSMRYFYTAMSRPGRGEPRFIAVGYVDDTQFVRFDSDAASPRMA...</td>\n",
              "    </tr>\n",
              "    <tr>\n",
              "      <th>70719</th>\n",
              "      <td>2HJK</td>\n",
              "      <td>2</td>\n",
              "      <td>MSRSVALAVLALLSLSGLEAIQRTPKIQVYSRHPAENGKSNFLNCY...</td>\n",
              "      <td>IQRTPKIQVYSRHPAENGKSNFLNCYVSGFHPSDIEVDLLKNGERI...</td>\n",
              "    </tr>\n",
              "    <tr>\n",
              "      <th>70720</th>\n",
              "      <td>2HJL</td>\n",
              "      <td>1</td>\n",
              "      <td>MLVMAPRTVLLLLSAALALTETWAGSHSMRYFYTSVSRPGRGEPRF...</td>\n",
              "      <td>GSHSMRYFYTAMSRPGRGEPRFIAVGYVDDTQFVRFDSDAASPRMA...</td>\n",
              "    </tr>\n",
              "    <tr>\n",
              "      <th>70721</th>\n",
              "      <td>2HJL</td>\n",
              "      <td>2</td>\n",
              "      <td>MSRSVALAVLALLSLSGLEAIQRTPKIQVYSRHPAENGKSNFLNCY...</td>\n",
              "      <td>IQRTPKIQVYSRHPAENGKSNFLNCYVSGFHPSDIEVDLLKNGERI...</td>\n",
              "    </tr>\n",
              "    <tr>\n",
              "      <th>70722</th>\n",
              "      <td>2HJW</td>\n",
              "      <td>1</td>\n",
              "      <td>MVLLLCLSCLIFSCLTFSWLKIWGKMTDSKPITKSKSEANLIPSQE...</td>\n",
              "      <td>MRGSGSMRPSMSGLHLVKRGREHKKLDLHRDFTVASPAEFVTRFGG...</td>\n",
              "    </tr>\n",
              "    <tr>\n",
              "      <th>70723</th>\n",
              "      <td>2HK5</td>\n",
              "      <td>1</td>\n",
              "      <td>MGGRSSCEDPGCPRDEERAPRMGCMKSKFLQVGGNTFSKTETSASP...</td>\n",
              "      <td>AQKPWEKDAWEIPRESLKLEKKLGAGQFGEVWMATYNKHTKVAVKT...</td>\n",
              "    </tr>\n",
              "    <tr>\n",
              "      <th>70724</th>\n",
              "      <td>2HKK</td>\n",
              "      <td>1</td>\n",
              "      <td>MSHHWGYGKHNGPEHWHKDFPIAKGERQSPVDIDTHTAKYDPSLKP...</td>\n",
              "      <td>MSHHWGYGKHNGPEHWHKDFPIAKGERQSPVDIDTHTAKYDPSLKP...</td>\n",
              "    </tr>\n",
              "    <tr>\n",
              "      <th>70725</th>\n",
              "      <td>2HKN</td>\n",
              "      <td>1</td>\n",
              "      <td>MAQSKRHVYSRTPSGSRMSAEASARPLRVGSRVEVIGKGHRGTVAY...</td>\n",
              "      <td>GSHMSAEASARPLRVGSRVEVIGKGHRGTVAYVGATLFATGKWVGV...</td>\n",
              "    </tr>\n",
              "    <tr>\n",
              "      <th>70726</th>\n",
              "      <td>2HKO</td>\n",
              "      <td>1</td>\n",
              "      <td>MLSGKKAAAAAAAAAAAATGTEAGPGTAGGSENGSEVAAQPAGLSG...</td>\n",
              "      <td>SGVEGAAFQSRLPHDRMTSQEAACFPDIISGPQQTQKVFLFIRNRT...</td>\n",
              "    </tr>\n",
              "    <tr>\n",
              "      <th>70727</th>\n",
              "      <td>2HKQ</td>\n",
              "      <td>1</td>\n",
              "      <td>MAVNVYSTSVTSDNLSRHDMLAWINESLQLNLTKIEQLCSGAAYCQ...</td>\n",
              "      <td>GSDEAAELMQQVNVLKLTVEDLEKERDFYFGKLRNIELICQENEGE...</td>\n",
              "    </tr>\n",
              "    <tr>\n",
              "      <th>70728</th>\n",
              "      <td>2HKQ</td>\n",
              "      <td>2</td>\n",
              "      <td>MAQSKRHVYSRTPSGSRMSAEASARPLRVGSRVEVIGKGHRGTVAY...</td>\n",
              "      <td>GSHMSAEASARPLRVGSRVEVIGKGHRGTVAYVGATLFATGKWVGV...</td>\n",
              "    </tr>\n",
              "    <tr>\n",
              "      <th>70729</th>\n",
              "      <td>2HL3</td>\n",
              "      <td>1</td>\n",
              "      <td>MAQSKRHVYSRTPSGSRMSAEASARPLRVGSRVEVIGKGHRGTVAY...</td>\n",
              "      <td>GSHMSAEASARPLRVGSRVEVIGKGHRGTVAYVGMTLFATGKWVGV...</td>\n",
              "    </tr>\n",
              "    <tr>\n",
              "      <th>70730</th>\n",
              "      <td>2HL3</td>\n",
              "      <td>2</td>\n",
              "      <td>MAVNVYSTSVTSDNLSRHDMLAWINESLQLNLTKIEQLCSGAAYCQ...</td>\n",
              "      <td>EEQEEY</td>\n",
              "    </tr>\n",
              "    <tr>\n",
              "      <th>70731</th>\n",
              "      <td>2HL4</td>\n",
              "      <td>1</td>\n",
              "      <td>MSHHWGYGKHNGPEHWHKDFPIAKGERQSPVDIDTHTAKYDPSLKP...</td>\n",
              "      <td>SHHWGYGKHNGPEHWHKDFPIAKGERQSPVDIDTHTAKYDPSLKPL...</td>\n",
              "    </tr>\n",
              "  </tbody>\n",
              "</table>\n",
              "</div>\n",
              "    <div class=\"colab-df-buttons\">\n",
              "\n",
              "  <div class=\"colab-df-container\">\n",
              "    <button class=\"colab-df-convert\" onclick=\"convertToInteractive('df-bf38db05-975a-4987-86b6-3127b5a95859')\"\n",
              "            title=\"Convert this dataframe to an interactive table.\"\n",
              "            style=\"display:none;\">\n",
              "\n",
              "  <svg xmlns=\"http://www.w3.org/2000/svg\" height=\"24px\" viewBox=\"0 -960 960 960\">\n",
              "    <path d=\"M120-120v-720h720v720H120Zm60-500h600v-160H180v160Zm220 220h160v-160H400v160Zm0 220h160v-160H400v160ZM180-400h160v-160H180v160Zm440 0h160v-160H620v160ZM180-180h160v-160H180v160Zm440 0h160v-160H620v160Z\"/>\n",
              "  </svg>\n",
              "    </button>\n",
              "\n",
              "  <style>\n",
              "    .colab-df-container {\n",
              "      display:flex;\n",
              "      gap: 12px;\n",
              "    }\n",
              "\n",
              "    .colab-df-convert {\n",
              "      background-color: #E8F0FE;\n",
              "      border: none;\n",
              "      border-radius: 50%;\n",
              "      cursor: pointer;\n",
              "      display: none;\n",
              "      fill: #1967D2;\n",
              "      height: 32px;\n",
              "      padding: 0 0 0 0;\n",
              "      width: 32px;\n",
              "    }\n",
              "\n",
              "    .colab-df-convert:hover {\n",
              "      background-color: #E2EBFA;\n",
              "      box-shadow: 0px 1px 2px rgba(60, 64, 67, 0.3), 0px 1px 3px 1px rgba(60, 64, 67, 0.15);\n",
              "      fill: #174EA6;\n",
              "    }\n",
              "\n",
              "    .colab-df-buttons div {\n",
              "      margin-bottom: 4px;\n",
              "    }\n",
              "\n",
              "    [theme=dark] .colab-df-convert {\n",
              "      background-color: #3B4455;\n",
              "      fill: #D2E3FC;\n",
              "    }\n",
              "\n",
              "    [theme=dark] .colab-df-convert:hover {\n",
              "      background-color: #434B5C;\n",
              "      box-shadow: 0px 1px 3px 1px rgba(0, 0, 0, 0.15);\n",
              "      filter: drop-shadow(0px 1px 2px rgba(0, 0, 0, 0.3));\n",
              "      fill: #FFFFFF;\n",
              "    }\n",
              "  </style>\n",
              "\n",
              "    <script>\n",
              "      const buttonEl =\n",
              "        document.querySelector('#df-bf38db05-975a-4987-86b6-3127b5a95859 button.colab-df-convert');\n",
              "      buttonEl.style.display =\n",
              "        google.colab.kernel.accessAllowed ? 'block' : 'none';\n",
              "\n",
              "      async function convertToInteractive(key) {\n",
              "        const element = document.querySelector('#df-bf38db05-975a-4987-86b6-3127b5a95859');\n",
              "        const dataTable =\n",
              "          await google.colab.kernel.invokeFunction('convertToInteractive',\n",
              "                                                    [key], {});\n",
              "        if (!dataTable) return;\n",
              "\n",
              "        const docLinkHtml = 'Like what you see? Visit the ' +\n",
              "          '<a target=\"_blank\" href=https://colab.research.google.com/notebooks/data_table.ipynb>data table notebook</a>'\n",
              "          + ' to learn more about interactive tables.';\n",
              "        element.innerHTML = '';\n",
              "        dataTable['output_type'] = 'display_data';\n",
              "        await google.colab.output.renderOutput(dataTable, element);\n",
              "        const docLink = document.createElement('div');\n",
              "        docLink.innerHTML = docLinkHtml;\n",
              "        element.appendChild(docLink);\n",
              "      }\n",
              "    </script>\n",
              "  </div>\n",
              "\n",
              "\n",
              "    <div id=\"df-a893168d-9b6b-408b-8380-e6c0802ed8e0\">\n",
              "      <button class=\"colab-df-quickchart\" onclick=\"quickchart('df-a893168d-9b6b-408b-8380-e6c0802ed8e0')\"\n",
              "                title=\"Suggest charts\"\n",
              "                style=\"display:none;\">\n",
              "\n",
              "<svg xmlns=\"http://www.w3.org/2000/svg\" height=\"24px\"viewBox=\"0 0 24 24\"\n",
              "     width=\"24px\">\n",
              "    <g>\n",
              "        <path d=\"M19 3H5c-1.1 0-2 .9-2 2v14c0 1.1.9 2 2 2h14c1.1 0 2-.9 2-2V5c0-1.1-.9-2-2-2zM9 17H7v-7h2v7zm4 0h-2V7h2v10zm4 0h-2v-4h2v4z\"/>\n",
              "    </g>\n",
              "</svg>\n",
              "      </button>\n",
              "\n",
              "<style>\n",
              "  .colab-df-quickchart {\n",
              "      --bg-color: #E8F0FE;\n",
              "      --fill-color: #1967D2;\n",
              "      --hover-bg-color: #E2EBFA;\n",
              "      --hover-fill-color: #174EA6;\n",
              "      --disabled-fill-color: #AAA;\n",
              "      --disabled-bg-color: #DDD;\n",
              "  }\n",
              "\n",
              "  [theme=dark] .colab-df-quickchart {\n",
              "      --bg-color: #3B4455;\n",
              "      --fill-color: #D2E3FC;\n",
              "      --hover-bg-color: #434B5C;\n",
              "      --hover-fill-color: #FFFFFF;\n",
              "      --disabled-bg-color: #3B4455;\n",
              "      --disabled-fill-color: #666;\n",
              "  }\n",
              "\n",
              "  .colab-df-quickchart {\n",
              "    background-color: var(--bg-color);\n",
              "    border: none;\n",
              "    border-radius: 50%;\n",
              "    cursor: pointer;\n",
              "    display: none;\n",
              "    fill: var(--fill-color);\n",
              "    height: 32px;\n",
              "    padding: 0;\n",
              "    width: 32px;\n",
              "  }\n",
              "\n",
              "  .colab-df-quickchart:hover {\n",
              "    background-color: var(--hover-bg-color);\n",
              "    box-shadow: 0 1px 2px rgba(60, 64, 67, 0.3), 0 1px 3px 1px rgba(60, 64, 67, 0.15);\n",
              "    fill: var(--button-hover-fill-color);\n",
              "  }\n",
              "\n",
              "  .colab-df-quickchart-complete:disabled,\n",
              "  .colab-df-quickchart-complete:disabled:hover {\n",
              "    background-color: var(--disabled-bg-color);\n",
              "    fill: var(--disabled-fill-color);\n",
              "    box-shadow: none;\n",
              "  }\n",
              "\n",
              "  .colab-df-spinner {\n",
              "    border: 2px solid var(--fill-color);\n",
              "    border-color: transparent;\n",
              "    border-bottom-color: var(--fill-color);\n",
              "    animation:\n",
              "      spin 1s steps(1) infinite;\n",
              "  }\n",
              "\n",
              "  @keyframes spin {\n",
              "    0% {\n",
              "      border-color: transparent;\n",
              "      border-bottom-color: var(--fill-color);\n",
              "      border-left-color: var(--fill-color);\n",
              "    }\n",
              "    20% {\n",
              "      border-color: transparent;\n",
              "      border-left-color: var(--fill-color);\n",
              "      border-top-color: var(--fill-color);\n",
              "    }\n",
              "    30% {\n",
              "      border-color: transparent;\n",
              "      border-left-color: var(--fill-color);\n",
              "      border-top-color: var(--fill-color);\n",
              "      border-right-color: var(--fill-color);\n",
              "    }\n",
              "    40% {\n",
              "      border-color: transparent;\n",
              "      border-right-color: var(--fill-color);\n",
              "      border-top-color: var(--fill-color);\n",
              "    }\n",
              "    60% {\n",
              "      border-color: transparent;\n",
              "      border-right-color: var(--fill-color);\n",
              "    }\n",
              "    80% {\n",
              "      border-color: transparent;\n",
              "      border-right-color: var(--fill-color);\n",
              "      border-bottom-color: var(--fill-color);\n",
              "    }\n",
              "    90% {\n",
              "      border-color: transparent;\n",
              "      border-bottom-color: var(--fill-color);\n",
              "    }\n",
              "  }\n",
              "</style>\n",
              "\n",
              "      <script>\n",
              "        async function quickchart(key) {\n",
              "          const quickchartButtonEl =\n",
              "            document.querySelector('#' + key + ' button');\n",
              "          quickchartButtonEl.disabled = true;  // To prevent multiple clicks.\n",
              "          quickchartButtonEl.classList.add('colab-df-spinner');\n",
              "          try {\n",
              "            const charts = await google.colab.kernel.invokeFunction(\n",
              "                'suggestCharts', [key], {});\n",
              "          } catch (error) {\n",
              "            console.error('Error during call to suggestCharts:', error);\n",
              "          }\n",
              "          quickchartButtonEl.classList.remove('colab-df-spinner');\n",
              "          quickchartButtonEl.classList.add('colab-df-quickchart-complete');\n",
              "        }\n",
              "        (() => {\n",
              "          let quickchartButtonEl =\n",
              "            document.querySelector('#df-a893168d-9b6b-408b-8380-e6c0802ed8e0 button');\n",
              "          quickchartButtonEl.style.display =\n",
              "            google.colab.kernel.accessAllowed ? 'block' : 'none';\n",
              "        })();\n",
              "      </script>\n",
              "    </div>\n",
              "\n",
              "    </div>\n",
              "  </div>\n"
            ],
            "application/vnd.google.colaboratory.intrinsic+json": {
              "type": "dataframe",
              "summary": "{\n  \"name\": \"df\",\n  \"rows\": 20,\n  \"fields\": [\n    {\n      \"column\": \"rcsb_id\",\n      \"properties\": {\n        \"dtype\": \"string\",\n        \"num_unique_values\": 15,\n        \"samples\": [\n          \"2HKK\",\n          \"2HKO\",\n          \"2HI9\"\n        ],\n        \"semantic_type\": \"\",\n        \"description\": \"\"\n      }\n    },\n    {\n      \"column\": \"rcsb_entity_ids\",\n      \"properties\": {\n        \"dtype\": \"category\",\n        \"num_unique_values\": 2,\n        \"samples\": [\n          \"2\",\n          \"1\"\n        ],\n        \"semantic_type\": \"\",\n        \"description\": \"\"\n      }\n    },\n    {\n      \"column\": \"uniprot_seq\",\n      \"properties\": {\n        \"dtype\": \"string\",\n        \"num_unique_values\": 14,\n        \"samples\": [\n          \"MGGRSSCEDPGCPRDEERAPRMGCMKSKFLQVGGNTFSKTETSASPHCPVYVPDPTSTIKPGPNSHNSNTPGIREAGSEDIIVVALYDYEAIHHEDLSFQKGDQMVVLEESGEWWKARSLATRKEGYIPSNYVARVDSLETEEWFFKGISRKDAERQLLAPGNMLGSFMIRDSETTKGSYSLSVRDYDPRQGDTVKHYKIRTLDNGGFYISPRSTFSTLQELVDHYKKGNDGLCQKLSVPCMSSKPQKPWEKDAWEIPRESLKLEKKLGAGQFGEVWMATYNKHTKVAVKTMKPGSMSVEAFLAEANVMKTLQHDKLVKLHAVVTKEPIYIITEFMAKGSLLDFLKSDEGSKQPLPKLIDFSAQIAEGMAFIEQRNYIHRDLRAANILVSASLVCKIADFGLARVIEDNEYTAREGAKFPIKWTAPEAINFGSFTIKSDVWSFGILLMEIVTYGRIPYPGMSNPEVIRALERGYRMPRPENCPEELYNIMMRCWKNRPEERPTFEYIQSVLDDFYTATESQYQQQP\",\n          \"MAQSKRHVYSRTPSGSRMSAEASARPLRVGSRVEVIGKGHRGTVAYVGATLFATGKWVGVILDEAKGKNDGTVQGRKYFTCDEGHGIFVRQSQIQVFEDGADTTSPETPDSSASKVLKREGTDTTAKTSKLRGLKPKKAPTARKTTTRRPKPTRPASTGVAGASSSLGPSGSASAGELSSSEPSTPAQTPLAAPIIPTPVLTSPGAVPPLPSPSKEEEGLRAQVRDLEEKLETLRLKRAEDKAKLKELEKHKIQLEQVQEWKSKMQEQQADLQRRLKEARKEAKEALEAKERYMEEMADTADAIEMATLDKEMAEERAESLQQEVEALKERVDELTTDLEILKAEIEEKGSDGAASSYQLKQLEEQNARLKDALVRMRDLSSSEKQEHVKLQKLMEKKNQELEVVRQQRERLQEELSQAESTIDELKEQVDAALGAEEMVEMLTDRNLNLEEKVRELRETVGDLEAMNEMNDELQENARETELELREQLDMAGARVREAQKRVEAAQETVADYQQTIKKYRQLTAHLQDVNRELTNQQEASVERQQQPPPETFDFKIKFAETKAHAKAIEMELRQMEVAQANRHMSLLTAFMPDSFLRPGGDHDCVLVLLLMPRLICKAELIRKQAQEKFELSENCSERPGLRGAAGEQLSFAAGLVYSLSLLQATLHRYEHALSQCSVDVYKKVGSLYPEMSAHERSLDFLIELLHKDQLDETVNVEPLTKAIKYYQHLYSIHLAEQPEDCTMQLADHIKFTQSALDCMSVEVGRLRAFLQGGQEATDIALLLRDLETSCSDIRQFCKKIRRRMPGTDAPGIPAALAFGPQVSDTLLDCRKHLTWVVAVLQEVAAAAAQLIAPLAENEGLLVAALEELAFKASEQIYGTPSSSPYECLRQSCNILISTMNKLATAMQEGEYDAERPPSKPPPVELRAAALRAEITDAEGLGLKLEDRETVIKELKKSLKIKGEELSEANVRLSLLEKKLDSAAKDADERIEKVQTRLEETQALLRKKEKEFEETMDALQADIDQLEAEKAELKQRLNSQSKRTIEGLRGPPPSGIATLVSGIAGEEQQRGAIPGQAPGSVPGPGLVKDSPLLLQQISAMRLHISQLQHENSILKGAQMKASLASLPPLHVAKLSHEGPGSELPAGALYRKTSQLLETLNQLSTHTHVVDITRTSPAAKSPSAQLMEQVAQLKSLSDTVEKLKDEVLKETVSQRPGATVPTDFATFPSSAFLRAKEEQQDDTVYMGKVTFSCAAGFGQRHRLVLTQEQLHQLHSRLIS\"\n        ],\n        \"semantic_type\": \"\",\n        \"description\": \"\"\n      }\n    },\n    {\n      \"column\": \"pbd_id\",\n      \"properties\": {\n        \"dtype\": \"string\",\n        \"num_unique_values\": 17,\n        \"samples\": [\n          \"SRRDFTFDLYRALASAAPSQNIFFSPVSISMSLAMLSLGAGSSTKMQILEGLGLNLQKSSEKELHRGFQQLLQELNQPRDGFQLSLGNALFTDLVVDLQDTFVSAMKTLYLADTFPTNFRDSAGAMKQINDYVAKQTKGKIVDLLKNLDSNAVVIMVNYIFFKAKWETSFNHKGTQEQDFYVTSETVVRVPMMSREDQYHYLLDRNLSCRVVGVPYQGNATALFILPSEGKMQQVENGLSEKTLRKWLKMFKKRQLELYLPKFSIEGSYQLEKVLPSLGISNVFTSHADLSGISNHSNIQVSEMVHKAVVEVDESGTRAAAATGTIFTFRSARLNSQRLVFNRPFLMFIVDNNILFLGKVNRP\",\n          \"LAHSKMVPIPAGVFTMGTDDPQIKQDGEAPARRVTIDAFYMDAYEVSNTEFEKFVNSTGYLTEAEKFGDSFVFEGMLSEQVKTNIQQAVAAAPWWLPVKGANWRHPEGPDSTILHRPDHPVLHVSWNDAVAYCTWAGKRLPTEAEWEYSCRGGLHNRLFPWGNKLQPKGQHYANIWQGEFPVTNTGEDGFQGTAPVDAFPPNGYGLYNIVGNAWEWTSDWWTVHHSVEETLNPKGPPSGKDRVKKGGSYMSHRSYCYRYRCAARSQNTPDSSASNLGFRCAADRLP\"\n        ],\n        \"semantic_type\": \"\",\n        \"description\": \"\"\n      }\n    }\n  ]\n}"
            }
          },
          "metadata": {},
          "execution_count": 122
        }
      ]
    },
    {
      "cell_type": "code",
      "source": [
        "df.to_excel(\"project_data_v3.xlsx\")"
      ],
      "metadata": {
        "id": "J2Gjtls7vdy3"
      },
      "execution_count": null,
      "outputs": []
    },
    {
      "cell_type": "code",
      "source": [
        "df.to_csv(\"project_data_v3.csv\")"
      ],
      "metadata": {
        "id": "sCCS3CIh0iNv"
      },
      "execution_count": null,
      "outputs": []
    },
    {
      "cell_type": "code",
      "source": [
        "df.shape"
      ],
      "metadata": {
        "colab": {
          "base_uri": "https://localhost:8080/"
        },
        "id": "4J-pLPPs732e",
        "outputId": "8f665407-1634-4332-c624-d6f60e8cd06c"
      },
      "execution_count": null,
      "outputs": [
        {
          "output_type": "execute_result",
          "data": {
            "text/plain": [
              "(70732, 4)"
            ]
          },
          "metadata": {},
          "execution_count": 125
        }
      ]
    },
    {
      "cell_type": "code",
      "source": [
        "df = pd.read_csv('project_data_v3.csv')"
      ],
      "metadata": {
        "id": "eF0k99lWIGLF"
      },
      "execution_count": null,
      "outputs": []
    },
    {
      "cell_type": "markdown",
      "source": [
        "# Cleaning Data"
      ],
      "metadata": {
        "id": "cPzTy3rhIGln"
      }
    },
    {
      "cell_type": "code",
      "source": [
        "def sanitize_sequence_advanced(sequence: str) -> str:\n",
        "    \"\"\"\n",
        "    Cleans a protein sequence by replacing common PTMs and modifications with their\n",
        "    parent amino acid, and then removes any other invalid characters.\n",
        "\n",
        "    Args:\n",
        "        sequence: The input protein sequence string, which may be a float (NaN).\n",
        "\n",
        "    Returns:\n",
        "        The sanitized protein sequence string.\n",
        "    \"\"\"\n",
        "    # Handle potential missing data (NaNs are floats)\n",
        "    if not isinstance(sequence, str):\n",
        "        return \"\" # Return an empty string for non-string inputs\n",
        "\n",
        "    # --- Step 1: Define the dictionary of replacements ---\n",
        "    # This is the single source of truth. Easy to add to later!\n",
        "    ptm_replacements = {\n",
        "        \"(MSE)\": \"M\",  # Selenomethionine -> Methionine\n",
        "        \"(SEP)\": \"S\",  # Phosphoserine -> Serine\n",
        "        \"(TPO)\": \"T\",  # Phosphothreonine -> Threonine\n",
        "        \"(PTR)\": \"Y\",  # Phosphotyrosine -> Tyrosine\n",
        "        \"(NEP)\": \"K\",  # N-Epsilon-Phospholysine -> Lysine\n",
        "        \"(MLY)\": \"K\",  # Monomethyllysine -> Lysine\n",
        "        \"(M2L)\": \"K\",  # Dimethyllysine -> Lysine\n",
        "        \"(M3L)\": \"K\",  # Trimethyllysine -> Lysine\n",
        "        \"(ALY)\": \"K\",  # Acetyllysine -> Lysine\n",
        "        \"(HLY)\": \"K\",  # Hydroxylysine -> Lysine\n",
        "        \"(M1G)\": \"R\",  # Monomethylarginine -> Arginine\n",
        "        \"(M2G)\": \"R\",  # Dimethylarginine -> Arginine\n",
        "        \"(CIR)\": \"R\",  # Citrulline -> Arginine\n",
        "        \"(HYP)\": \"P\",  # Hydroxyproline -> Proline\n",
        "        \"(CGU)\": \"E\",  # Gamma-carboxyglutamate -> Glutamate\n",
        "        \"(NH2)\": \"\",   # C-Terminal Amidation -> Remove\n",
        "        \"(ACE)\": \"\",   # N-Acetyl Group -> Remove\n",
        "    }\n",
        "\n",
        "    processed_seq = sequence\n",
        "    for mod_code, standard_aa in ptm_replacements.items():\n",
        "        processed_seq = processed_seq.replace(mod_code, standard_aa)\n",
        "\n",
        "    # --- Step 2: General cleanup of any remaining non-standard characters ---\n",
        "    valid_chars = \"ACDEFGHIKLMNPQRSTVWY\"\n",
        "    # Replace any character NOT in the valid set with 'X'\n",
        "    sanitized_seq = re.sub(f\"[^{valid_chars}]\", \"X\", processed_seq.upper())\n",
        "\n",
        "    return sanitized_seq"
      ],
      "metadata": {
        "id": "RQpR-MEmMG3x"
      },
      "execution_count": null,
      "outputs": []
    },
    {
      "cell_type": "code",
      "source": [
        "# df['pbd_id'] = df['pbd_id'].str.replace(\"(MSE)\", \"M\")\n",
        "# df['pbd_id'] = df['pbd_id'].str.replace(\"(TPO)\", \"T\")\n",
        "# df['pbd_id'] = df['pbd_id'].str.replace(\"(SEP)\", \"S\")\n",
        "# df['pbd_id'] = df['pbd_id'].str.replace(\"(NH2)\", \"\")\n",
        "# df['pbd_id'] = df['pbd_id'].str.replace(\"(PTR)\", \"Y\")\n",
        "# df['pbd_id'] = df['pbd_id'].str.replace(\"(M3L)\", \"K\")\n",
        "# df['pbd_id'] = df['pbd_id'].str.replace(\"(NEP)\", \"K\")\n",
        "df['pdb_sequence_sanitized'] = df['pbd_id'].apply(sanitize_sequence_advanced)\n",
        "df['pdb_sequence_sanitized'] = df['pdb_sequence_sanitized'].str.replace(\"U\", \"C\")"
      ],
      "metadata": {
        "id": "hYgcR39OII5T"
      },
      "execution_count": null,
      "outputs": []
    },
    {
      "cell_type": "code",
      "source": [
        "# df[df['pbd_id'].str.contains(\"\\(\")]['pbd_id']"
      ],
      "metadata": {
        "id": "dRhEcpAoKP4w"
      },
      "execution_count": null,
      "outputs": []
    },
    {
      "cell_type": "markdown",
      "source": [
        "# Labeling Data"
      ],
      "metadata": {
        "id": "o2u5v71QE7Wc"
      }
    },
    {
      "cell_type": "code",
      "source": [
        "# df = pd.read_csv('project_data_v3.csv')"
      ],
      "metadata": {
        "id": "kDv0JLqZGlRx"
      },
      "execution_count": null,
      "outputs": []
    },
    {
      "cell_type": "code",
      "source": [
        "df.head()"
      ],
      "metadata": {
        "colab": {
          "base_uri": "https://localhost:8080/",
          "height": 206
        },
        "id": "rqI4ocZyGxK9",
        "outputId": "9b9767cc-bfb2-4398-dc16-e0c562952784"
      },
      "execution_count": null,
      "outputs": [
        {
          "output_type": "execute_result",
          "data": {
            "text/plain": [
              "   Unnamed: 0 rcsb_id  rcsb_entity_ids  \\\n",
              "0           0    7FRJ                1   \n",
              "1           1    7FRK                1   \n",
              "2           2    7FRL                1   \n",
              "3           3    7FRM                1   \n",
              "4           4    7FRN                1   \n",
              "\n",
              "                                         uniprot_seq  \\\n",
              "0  MEMEKEFEQIDKSGSWAAIYQDIRHEASDFPCRVAKLPKNKNRNRY...   \n",
              "1  MEMEKEFEQIDKSGSWAAIYQDIRHEASDFPCRVAKLPKNKNRNRY...   \n",
              "2  MEMEKEFEQIDKSGSWAAIYQDIRHEASDFPCRVAKLPKNKNRNRY...   \n",
              "3  MEMEKEFEQIDKSGSWAAIYQDIRHEASDFPCRVAKLPKNKNRNRY...   \n",
              "4  MEMEKEFEQIDKSGSWAAIYQDIRHEASDFPCRVAKLPKNKNRNRY...   \n",
              "\n",
              "                                              pbd_id  \n",
              "0  MEMEKEFEQIDKSGSWAAIYQDIRHEASDFPSRVAKLPKNKNRNRY...  \n",
              "1  MEMEKEFEQIDKSGSWAAIYQDIRHEASDFPSRVAKLPKNKNRNRY...  \n",
              "2  MEMEKEFEQIDKSGSWAAIYQDIRHEASDFPSRVAKLPKNKNRNRY...  \n",
              "3  MEMEKEFEQIDKSGSWAAIYQDIRHEASDFPSRVAKLPKNKNRNRY...  \n",
              "4  MEMEKEFEQIDKSGSWAAIYQDIRHEASDFPSRVAKLPKNKNRNRY...  "
            ],
            "text/html": [
              "\n",
              "  <div id=\"df-f7d710a4-8c04-4165-b4da-4923f5a809f8\" class=\"colab-df-container\">\n",
              "    <div>\n",
              "<style scoped>\n",
              "    .dataframe tbody tr th:only-of-type {\n",
              "        vertical-align: middle;\n",
              "    }\n",
              "\n",
              "    .dataframe tbody tr th {\n",
              "        vertical-align: top;\n",
              "    }\n",
              "\n",
              "    .dataframe thead th {\n",
              "        text-align: right;\n",
              "    }\n",
              "</style>\n",
              "<table border=\"1\" class=\"dataframe\">\n",
              "  <thead>\n",
              "    <tr style=\"text-align: right;\">\n",
              "      <th></th>\n",
              "      <th>Unnamed: 0</th>\n",
              "      <th>rcsb_id</th>\n",
              "      <th>rcsb_entity_ids</th>\n",
              "      <th>uniprot_seq</th>\n",
              "      <th>pbd_id</th>\n",
              "    </tr>\n",
              "  </thead>\n",
              "  <tbody>\n",
              "    <tr>\n",
              "      <th>0</th>\n",
              "      <td>0</td>\n",
              "      <td>7FRJ</td>\n",
              "      <td>1</td>\n",
              "      <td>MEMEKEFEQIDKSGSWAAIYQDIRHEASDFPCRVAKLPKNKNRNRY...</td>\n",
              "      <td>MEMEKEFEQIDKSGSWAAIYQDIRHEASDFPSRVAKLPKNKNRNRY...</td>\n",
              "    </tr>\n",
              "    <tr>\n",
              "      <th>1</th>\n",
              "      <td>1</td>\n",
              "      <td>7FRK</td>\n",
              "      <td>1</td>\n",
              "      <td>MEMEKEFEQIDKSGSWAAIYQDIRHEASDFPCRVAKLPKNKNRNRY...</td>\n",
              "      <td>MEMEKEFEQIDKSGSWAAIYQDIRHEASDFPSRVAKLPKNKNRNRY...</td>\n",
              "    </tr>\n",
              "    <tr>\n",
              "      <th>2</th>\n",
              "      <td>2</td>\n",
              "      <td>7FRL</td>\n",
              "      <td>1</td>\n",
              "      <td>MEMEKEFEQIDKSGSWAAIYQDIRHEASDFPCRVAKLPKNKNRNRY...</td>\n",
              "      <td>MEMEKEFEQIDKSGSWAAIYQDIRHEASDFPSRVAKLPKNKNRNRY...</td>\n",
              "    </tr>\n",
              "    <tr>\n",
              "      <th>3</th>\n",
              "      <td>3</td>\n",
              "      <td>7FRM</td>\n",
              "      <td>1</td>\n",
              "      <td>MEMEKEFEQIDKSGSWAAIYQDIRHEASDFPCRVAKLPKNKNRNRY...</td>\n",
              "      <td>MEMEKEFEQIDKSGSWAAIYQDIRHEASDFPSRVAKLPKNKNRNRY...</td>\n",
              "    </tr>\n",
              "    <tr>\n",
              "      <th>4</th>\n",
              "      <td>4</td>\n",
              "      <td>7FRN</td>\n",
              "      <td>1</td>\n",
              "      <td>MEMEKEFEQIDKSGSWAAIYQDIRHEASDFPCRVAKLPKNKNRNRY...</td>\n",
              "      <td>MEMEKEFEQIDKSGSWAAIYQDIRHEASDFPSRVAKLPKNKNRNRY...</td>\n",
              "    </tr>\n",
              "  </tbody>\n",
              "</table>\n",
              "</div>\n",
              "    <div class=\"colab-df-buttons\">\n",
              "\n",
              "  <div class=\"colab-df-container\">\n",
              "    <button class=\"colab-df-convert\" onclick=\"convertToInteractive('df-f7d710a4-8c04-4165-b4da-4923f5a809f8')\"\n",
              "            title=\"Convert this dataframe to an interactive table.\"\n",
              "            style=\"display:none;\">\n",
              "\n",
              "  <svg xmlns=\"http://www.w3.org/2000/svg\" height=\"24px\" viewBox=\"0 -960 960 960\">\n",
              "    <path d=\"M120-120v-720h720v720H120Zm60-500h600v-160H180v160Zm220 220h160v-160H400v160Zm0 220h160v-160H400v160ZM180-400h160v-160H180v160Zm440 0h160v-160H620v160ZM180-180h160v-160H180v160Zm440 0h160v-160H620v160Z\"/>\n",
              "  </svg>\n",
              "    </button>\n",
              "\n",
              "  <style>\n",
              "    .colab-df-container {\n",
              "      display:flex;\n",
              "      gap: 12px;\n",
              "    }\n",
              "\n",
              "    .colab-df-convert {\n",
              "      background-color: #E8F0FE;\n",
              "      border: none;\n",
              "      border-radius: 50%;\n",
              "      cursor: pointer;\n",
              "      display: none;\n",
              "      fill: #1967D2;\n",
              "      height: 32px;\n",
              "      padding: 0 0 0 0;\n",
              "      width: 32px;\n",
              "    }\n",
              "\n",
              "    .colab-df-convert:hover {\n",
              "      background-color: #E2EBFA;\n",
              "      box-shadow: 0px 1px 2px rgba(60, 64, 67, 0.3), 0px 1px 3px 1px rgba(60, 64, 67, 0.15);\n",
              "      fill: #174EA6;\n",
              "    }\n",
              "\n",
              "    .colab-df-buttons div {\n",
              "      margin-bottom: 4px;\n",
              "    }\n",
              "\n",
              "    [theme=dark] .colab-df-convert {\n",
              "      background-color: #3B4455;\n",
              "      fill: #D2E3FC;\n",
              "    }\n",
              "\n",
              "    [theme=dark] .colab-df-convert:hover {\n",
              "      background-color: #434B5C;\n",
              "      box-shadow: 0px 1px 3px 1px rgba(0, 0, 0, 0.15);\n",
              "      filter: drop-shadow(0px 1px 2px rgba(0, 0, 0, 0.3));\n",
              "      fill: #FFFFFF;\n",
              "    }\n",
              "  </style>\n",
              "\n",
              "    <script>\n",
              "      const buttonEl =\n",
              "        document.querySelector('#df-f7d710a4-8c04-4165-b4da-4923f5a809f8 button.colab-df-convert');\n",
              "      buttonEl.style.display =\n",
              "        google.colab.kernel.accessAllowed ? 'block' : 'none';\n",
              "\n",
              "      async function convertToInteractive(key) {\n",
              "        const element = document.querySelector('#df-f7d710a4-8c04-4165-b4da-4923f5a809f8');\n",
              "        const dataTable =\n",
              "          await google.colab.kernel.invokeFunction('convertToInteractive',\n",
              "                                                    [key], {});\n",
              "        if (!dataTable) return;\n",
              "\n",
              "        const docLinkHtml = 'Like what you see? Visit the ' +\n",
              "          '<a target=\"_blank\" href=https://colab.research.google.com/notebooks/data_table.ipynb>data table notebook</a>'\n",
              "          + ' to learn more about interactive tables.';\n",
              "        element.innerHTML = '';\n",
              "        dataTable['output_type'] = 'display_data';\n",
              "        await google.colab.output.renderOutput(dataTable, element);\n",
              "        const docLink = document.createElement('div');\n",
              "        docLink.innerHTML = docLinkHtml;\n",
              "        element.appendChild(docLink);\n",
              "      }\n",
              "    </script>\n",
              "  </div>\n",
              "\n",
              "\n",
              "    <div id=\"df-a0584e44-e0aa-4867-8b10-cb05a101a91f\">\n",
              "      <button class=\"colab-df-quickchart\" onclick=\"quickchart('df-a0584e44-e0aa-4867-8b10-cb05a101a91f')\"\n",
              "                title=\"Suggest charts\"\n",
              "                style=\"display:none;\">\n",
              "\n",
              "<svg xmlns=\"http://www.w3.org/2000/svg\" height=\"24px\"viewBox=\"0 0 24 24\"\n",
              "     width=\"24px\">\n",
              "    <g>\n",
              "        <path d=\"M19 3H5c-1.1 0-2 .9-2 2v14c0 1.1.9 2 2 2h14c1.1 0 2-.9 2-2V5c0-1.1-.9-2-2-2zM9 17H7v-7h2v7zm4 0h-2V7h2v10zm4 0h-2v-4h2v4z\"/>\n",
              "    </g>\n",
              "</svg>\n",
              "      </button>\n",
              "\n",
              "<style>\n",
              "  .colab-df-quickchart {\n",
              "      --bg-color: #E8F0FE;\n",
              "      --fill-color: #1967D2;\n",
              "      --hover-bg-color: #E2EBFA;\n",
              "      --hover-fill-color: #174EA6;\n",
              "      --disabled-fill-color: #AAA;\n",
              "      --disabled-bg-color: #DDD;\n",
              "  }\n",
              "\n",
              "  [theme=dark] .colab-df-quickchart {\n",
              "      --bg-color: #3B4455;\n",
              "      --fill-color: #D2E3FC;\n",
              "      --hover-bg-color: #434B5C;\n",
              "      --hover-fill-color: #FFFFFF;\n",
              "      --disabled-bg-color: #3B4455;\n",
              "      --disabled-fill-color: #666;\n",
              "  }\n",
              "\n",
              "  .colab-df-quickchart {\n",
              "    background-color: var(--bg-color);\n",
              "    border: none;\n",
              "    border-radius: 50%;\n",
              "    cursor: pointer;\n",
              "    display: none;\n",
              "    fill: var(--fill-color);\n",
              "    height: 32px;\n",
              "    padding: 0;\n",
              "    width: 32px;\n",
              "  }\n",
              "\n",
              "  .colab-df-quickchart:hover {\n",
              "    background-color: var(--hover-bg-color);\n",
              "    box-shadow: 0 1px 2px rgba(60, 64, 67, 0.3), 0 1px 3px 1px rgba(60, 64, 67, 0.15);\n",
              "    fill: var(--button-hover-fill-color);\n",
              "  }\n",
              "\n",
              "  .colab-df-quickchart-complete:disabled,\n",
              "  .colab-df-quickchart-complete:disabled:hover {\n",
              "    background-color: var(--disabled-bg-color);\n",
              "    fill: var(--disabled-fill-color);\n",
              "    box-shadow: none;\n",
              "  }\n",
              "\n",
              "  .colab-df-spinner {\n",
              "    border: 2px solid var(--fill-color);\n",
              "    border-color: transparent;\n",
              "    border-bottom-color: var(--fill-color);\n",
              "    animation:\n",
              "      spin 1s steps(1) infinite;\n",
              "  }\n",
              "\n",
              "  @keyframes spin {\n",
              "    0% {\n",
              "      border-color: transparent;\n",
              "      border-bottom-color: var(--fill-color);\n",
              "      border-left-color: var(--fill-color);\n",
              "    }\n",
              "    20% {\n",
              "      border-color: transparent;\n",
              "      border-left-color: var(--fill-color);\n",
              "      border-top-color: var(--fill-color);\n",
              "    }\n",
              "    30% {\n",
              "      border-color: transparent;\n",
              "      border-left-color: var(--fill-color);\n",
              "      border-top-color: var(--fill-color);\n",
              "      border-right-color: var(--fill-color);\n",
              "    }\n",
              "    40% {\n",
              "      border-color: transparent;\n",
              "      border-right-color: var(--fill-color);\n",
              "      border-top-color: var(--fill-color);\n",
              "    }\n",
              "    60% {\n",
              "      border-color: transparent;\n",
              "      border-right-color: var(--fill-color);\n",
              "    }\n",
              "    80% {\n",
              "      border-color: transparent;\n",
              "      border-right-color: var(--fill-color);\n",
              "      border-bottom-color: var(--fill-color);\n",
              "    }\n",
              "    90% {\n",
              "      border-color: transparent;\n",
              "      border-bottom-color: var(--fill-color);\n",
              "    }\n",
              "  }\n",
              "</style>\n",
              "\n",
              "      <script>\n",
              "        async function quickchart(key) {\n",
              "          const quickchartButtonEl =\n",
              "            document.querySelector('#' + key + ' button');\n",
              "          quickchartButtonEl.disabled = true;  // To prevent multiple clicks.\n",
              "          quickchartButtonEl.classList.add('colab-df-spinner');\n",
              "          try {\n",
              "            const charts = await google.colab.kernel.invokeFunction(\n",
              "                'suggestCharts', [key], {});\n",
              "          } catch (error) {\n",
              "            console.error('Error during call to suggestCharts:', error);\n",
              "          }\n",
              "          quickchartButtonEl.classList.remove('colab-df-spinner');\n",
              "          quickchartButtonEl.classList.add('colab-df-quickchart-complete');\n",
              "        }\n",
              "        (() => {\n",
              "          let quickchartButtonEl =\n",
              "            document.querySelector('#df-a0584e44-e0aa-4867-8b10-cb05a101a91f button');\n",
              "          quickchartButtonEl.style.display =\n",
              "            google.colab.kernel.accessAllowed ? 'block' : 'none';\n",
              "        })();\n",
              "      </script>\n",
              "    </div>\n",
              "\n",
              "    </div>\n",
              "  </div>\n"
            ],
            "application/vnd.google.colaboratory.intrinsic+json": {
              "type": "dataframe",
              "variable_name": "df",
              "summary": "{\n  \"name\": \"df\",\n  \"rows\": 70732,\n  \"fields\": [\n    {\n      \"column\": \"Unnamed: 0\",\n      \"properties\": {\n        \"dtype\": \"number\",\n        \"std\": 20418,\n        \"min\": 0,\n        \"max\": 70731,\n        \"num_unique_values\": 70732,\n        \"samples\": [\n          4859,\n          36168,\n          48238\n        ],\n        \"semantic_type\": \"\",\n        \"description\": \"\"\n      }\n    },\n    {\n      \"column\": \"rcsb_id\",\n      \"properties\": {\n        \"dtype\": \"string\",\n        \"num_unique_values\": 56552,\n        \"samples\": [\n          \"8ROM\",\n          \"4GKO\",\n          \"4QAE\"\n        ],\n        \"semantic_type\": \"\",\n        \"description\": \"\"\n      }\n    },\n    {\n      \"column\": \"rcsb_entity_ids\",\n      \"properties\": {\n        \"dtype\": \"number\",\n        \"std\": 1,\n        \"min\": 1,\n        \"max\": 37,\n        \"num_unique_values\": 36,\n        \"samples\": [\n          37,\n          14,\n          28\n        ],\n        \"semantic_type\": \"\",\n        \"description\": \"\"\n      }\n    },\n    {\n      \"column\": \"uniprot_seq\",\n      \"properties\": {\n        \"dtype\": \"category\",\n        \"num_unique_values\": 6686,\n        \"samples\": [\n          \"MAFWGWRAAAALRLWGRVVERVEAGGGVGPFQACGCRLVLGGRDDVSAGLRGSHGARGEPLDPARPLQRPPRPEVPRAFRRQPRAAAPSFFFSSIKGGRRSISFSVGASSVVGSGGSSDKGKLSLQDVAELIRARACQRVVVMVGAGISTPSGIPDFRSPGSGLYSNLQQYDLPYPEAIFELPFFFHNPKPFFTLAKELYPGNYKPNVTHYFLRLLHDKGLLLRLYTQNIDGLERVSGIPASKLVEAHGTFASATCTVCQRPFPGEDIRADVMADRVPRCPVCTGVVKPDIVFFGEPLPQRFLLHVVDFPMADLLLILGTSLEVEPFASLTEAVRSSVPRLLINRDLVGPLAWHPRSRDVAQLGDVVHGVESLVELLGWTEEMRDLVQRETGKLDGPDK\",\n          \"MAGASRLLFLWLGCFCVSLAQGERPKPPFPELRKAVPGDRTAGGGPDSELQPQDKVSEHMLRLYDRYSTVQAARTPGSLEGGSQPWRPRLLREGNTVRSFRAAAAETLERKGLYIFNLTSLTKSENILSATLYFCIGELGNISLSCPVSGGCSHHAQRKHIQIDLSAWTLKFSRNQSQLLGHLSVDMAKSHRDIMSWLSKDITQLLRKAKENEEFLIGFNITSKGRQLPKRRLPFPEPYILVYANDAAISEPESVVSSLQGHRNFPTGTVPKWDSHIRAALSIERRKKRSTGVLLPLQNNELPGAEYQYKKDEVWEERKPYKTLQAQAPEKSKNKKKQRKGPHRKSQTLQFDEQTLKKARRKQWIEPRNCARRYLKVDFADIGWSEWIISPKSFDAYYCSGACQFPMPKSLKPSNHATIQSIVRAVGVVPGIPEPCCVPEKMSSLSILFFDENKNVVLKVYPNMTVESCACR\",\n          \"MARQPPPPWVHAAFLLCLLSLGGAIEIPMDPSIQNELTQPPTITKQSAKDHIVDPRDNILIECEAKGNPAPSFHWTRNSRFFNIAKDPRVSMRRRSGTLVIDFRSGGRPEEYEGEYQCFARNKFGTALSNRIRLQVSKSPLWPKENLDPVVVQEGAPLTLQCNPPPGLPSPVIFWMSSSMEPITQDKRVSQGHNGDLYFSNVMLQDMQTDYSCNARFHFTHTIQQKNPFTLKVLTTRGVAERTPSFMYPQGTASSQMVLRGMDLLLECIASGVPTPDIAWYKKGGDLPSDKAKFENFNKALRITNVSEEDSGEYFCLASNKMGSIRHTISVRVKAAPYWLDEPKNLILAPGEDGRLVCRANGNPKPTVQWMVNGEPLQSAPPNPNREVAGDTIIFRDTQISSRAVYQCNTSNEHGYLLANAFVSVLDVPPRMLSPRNQLIRVILYNRTRLDCPFFGSPIPTLRWFKNGQGSNLDGGNYHVYENGSLEIKMIRKEDQGIYTCVATNILGKAENQVRLEVKDPTRIYRMPEDQVARRGTTVQLECRVKHDPSLKLTVSWLKDDEPLYIGNRMKKEDDSLTIFGVAERDQGSYTCVASTELDQDLAKAYLTVLADQATPTNRLAALPKGRPDRPRDLELTDLAERSVRLTWIPGDANNSPITDYVVQFEEDQFQPGVWHDHSKYPGSVNSAVLRLSPYVNYQFRVIAINEVGSSHPSLPSERYRTSGAPPESNPGDVKGEGTRKNNMEITWTPMNATSAFGPNLRYIVKWRRRETREAWNNVTVWGSRYVVGQTPVYVPYEIRVQAENDFGKGPEPESVIGYSGEDYPRAAPTEVKVRVMNSTAISLQWNRVYSDTVQGQLREYRAYYWRESSLLKNLWVSQKRQQASFPGDRLRGVVSRLFPYSNYKLEMVVVNGRGDGPRSETKEFTTPEGVPSAPRRFRVRQPNLETINLEWDHPEHPNGIMIGYTLKYVAFNGTKVGKQIVENFSPNQTKFTVQRTDPVSRYRFTLSARTQVGSGEAVTEESPAPPNEATPTAAPPTLPPTTVGATGAVSSTDATAIAATTEATTVPIIPTVAPTTIATTTTVATTTTTTAAATTTTESPPTTTSGTKIHESAPDEQSIWNVTVLPNSKWANITWKHNFGPGTDFVVEYIDSNHTKKTVPVKAQAQPIQLTDLYPGMTYTLRVYSRDNEGISSTVITFMTSTAYTNNQADIATQGWFIGLMCAIALLVLILLIVCFIKRSRGGKYPVREKKDVPLGPEDPKEEDGSFDYSDEDNKPLQGSQTSLDGTIKQQESDDSLVDYGEGGEGQFNEDGSFIGQYTVKKDKEETEGNESSEATSPVNAIYSLA\"\n        ],\n        \"semantic_type\": \"\",\n        \"description\": \"\"\n      }\n    },\n    {\n      \"column\": \"pbd_id\",\n      \"properties\": {\n        \"dtype\": \"category\",\n        \"num_unique_values\": 29824,\n        \"samples\": [\n          \"AITHMLRVIVESASNIPKTKFGKPDPIVSVIFKDEKKKTKKVDNELNPVWNEILEFDLRGIPLDFSSSLGIIVKDFETIGQNKLIGTATVALKDLTGDQSRSLPYKLISLLNEKGQDTGATIDLVIGYD\",\n          \"EDILPCVPFSVAKSVKSLYLGRMFSGTPVIRLRFKRLQPTRLVAEFDFRTFDPEGILLFAGGHQDSTWIVLALRAGRLELQLRYNGVGRVTSSGPVINHGMWQTISVEELARNLVIKVNRDAVMKIAVAGDLFQPERGLYHLNLTVGGIPFHEKDLVQPINPRLDGCMRSWNWLNGEDTTIQETVKVNTRMQCFSVTERGSFYPGSGFAFYSLDYMRTPLDVGTESTWEVEVVAHIRPAADTGVLFALWAPDLRAVPLSVALVDYHSTKKLKKQLVVLAVEHTALALMEIKVCDGQEHVVTVSLRDGEATLEVDGTRGQSEVSAAQLQERLAVLERHLRSPVLTFAGGLPDVPVTSAPVTAFYRGCMTLEVNRRLLDLDEAAYKHSDITAHSCPPVEPAAA\",\n          \"KSAVTTVVNPKYEGK\"\n        ],\n        \"semantic_type\": \"\",\n        \"description\": \"\"\n      }\n    }\n  ]\n}"
            }
          },
          "metadata": {},
          "execution_count": 6
        }
      ]
    },
    {
      "cell_type": "code",
      "source": [
        "def create_multi_class_mask(uniprot_sequence: str, pdb_construct_sequence: str) -> list[int] | None:\n",
        "    \"\"\"\n",
        "    Generates a multi-class modification mask by globally aligning a UniProt\n",
        "    sequence with a PDB construct sequence.\n",
        "\n",
        "    The mask is the same length as the UniProt sequence. Each position is labeled:\n",
        "    - 0: Maintained (the residue is the same in both sequences)\n",
        "    - 1: Deleted (the residue is in UniProt but absent in the PDB construct)\n",
        "    - 2: Mutated (the residue is present but changed to a different amino acid)\n",
        "\n",
        "    Args:\n",
        "        uniprot_sequence: The full-length, canonical protein sequence.\n",
        "        pdb_construct_sequence: The engineered sequence from the PDB.\n",
        "\n",
        "    Returns:\n",
        "        A list of integers (0, 1, or 2) representing the modification mask,\n",
        "        or None if no alignment can be generated.\n",
        "    \"\"\"\n",
        "    try:\n",
        "      # print(\"--- Performing Global Alignment ---\")\n",
        "\n",
        "      # Load a standard substitution matrix\n",
        "      blosum62 = substitution_matrices.load(\"BLOSUM62\")\n",
        "\n",
        "      # Perform a global alignment. 'd' means we use the provided matrix for scores,\n",
        "      # 's' means the gap penalties are the same for opening and extending.\n",
        "      # A high gap open penalty discourages creating gaps.\n",
        "      alignments = pairwise2.align.globalds(\n",
        "          uniprot_sequence,\n",
        "          pdb_construct_sequence,\n",
        "          blosum62,\n",
        "          -10,  # Gap open penalty\n",
        "          -0.5  # Gap extend penalty\n",
        "      )\n",
        "\n",
        "      if not alignments:\n",
        "          print(\"Error: Could not generate an alignment.\")\n",
        "          return None\n",
        "\n",
        "      # The best alignment is the first one in the list\n",
        "      best_alignment = alignments[0]\n",
        "      aligned_uniprot, aligned_pdb, score, begin, end = best_alignment\n",
        "\n",
        "      # print(\"Alignment successful. Generating mask...\")\n",
        "\n",
        "      # --- Generate the multi-class mask ---\n",
        "      modification_mask = []\n",
        "\n",
        "      # The alignment strings (aligned_uniprot, aligned_pdb) are the key.\n",
        "      # They will have the same length, with '-' characters indicating gaps.\n",
        "      for uniprot_char, pdb_char in zip(aligned_uniprot, aligned_pdb):\n",
        "          if uniprot_char == '-':\n",
        "              # This case means there's an insertion in the PDB sequence (e.g., a tag).\n",
        "              # It doesn't correspond to a position in the UniProt sequence, so we skip it.\n",
        "              continue\n",
        "\n",
        "          if pdb_char == '-':\n",
        "              # A gap in the PDB sequence means the UniProt residue was deleted.\n",
        "              modification_mask.append(1) # 1 = Deleted\n",
        "          elif uniprot_char == pdb_char:\n",
        "              # The characters match, so the residue was maintained.\n",
        "              modification_mask.append(0) # 0 = Maintained\n",
        "          else:\n",
        "              # The characters are different, so the residue was mutated.\n",
        "              modification_mask.append(2) # 2 = Mutated\n",
        "\n",
        "      # Sanity check: The final mask must have the same length as the original UniProt sequence.\n",
        "      if len(modification_mask) != len(uniprot_sequence):\n",
        "          print(f\"Error: Mask length ({len(modification_mask)}) does not match UniProt sequence length ({len(uniprot_sequence)}).\")\n",
        "          return None\n",
        "\n",
        "      return modification_mask, best_alignment\n",
        "    except:\n",
        "      return None, None\n",
        "\n",
        "def format_alignment_for_display(alignment):\n",
        "    \"\"\"Helper function to print the alignment nicely.\"\"\"\n",
        "    uniprot_alg, pdb_alg, score, begin, end = alignment\n",
        "\n",
        "    # Create the connector line for the alignment\n",
        "    connector = \"\"\n",
        "    for u_char, p_char in zip(uniprot_alg, pdb_alg):\n",
        "        if u_char == p_char:\n",
        "            connector += \"|\"\n",
        "        elif u_char == '-' or p_char == '-':\n",
        "            connector += \" \"\n",
        "        else:\n",
        "            connector += \".\"\n",
        "\n",
        "    return (\n",
        "        f\"Score: {score}\\n\\n\"\n",
        "        f\"UniProt: {uniprot_alg}\\n\"\n",
        "        f\"         {connector}\\n\"\n",
        "        f\"PDB    : {pdb_alg}\"\n",
        "    )"
      ],
      "metadata": {
        "id": "YVvfsjdM4I03"
      },
      "execution_count": null,
      "outputs": []
    },
    {
      "cell_type": "code",
      "source": [
        "i = 2001\n",
        "pdb_sequence = df.loc[i]['pbd_id'] #df[df['pbd_id'].str.contains('HHHHHH')].loc[i]['pbd_id']\n",
        "uniprot_sequence = df.loc[i]['uniprot_seq'] #df[df['pbd_id'].str.contains('HHHHHH')].loc[i]['uniprot_seq']"
      ],
      "metadata": {
        "id": "xyIW50VX3y_E"
      },
      "execution_count": null,
      "outputs": []
    },
    {
      "cell_type": "code",
      "source": [
        "pdb_sequence"
      ],
      "metadata": {
        "colab": {
          "base_uri": "https://localhost:8080/",
          "height": 36
        },
        "id": "xMzm09sfHeqy",
        "outputId": "80f6b776-b37b-4fe5-bd56-556ee428f627"
      },
      "execution_count": null,
      "outputs": [
        {
          "output_type": "execute_result",
          "data": {
            "text/plain": [
              "'SLGVQPPNFSWVLPGRLAGLALPRLPAHYQFLLDLGVRHLVSLTERGPPHSDSCPGLTLHRLRIPDFCPPAPDQIDRFVQIVDEANARGEAVGVHCALGFGRTGTMLACYLVKERGLAAGDAIAEIRRLRPGSIETYEQEKAVFQFYQRTK'"
            ],
            "application/vnd.google.colaboratory.intrinsic+json": {
              "type": "string"
            }
          },
          "metadata": {},
          "execution_count": 24
        }
      ]
    },
    {
      "cell_type": "code",
      "source": [
        "uniprot_sequence"
      ],
      "metadata": {
        "colab": {
          "base_uri": "https://localhost:8080/",
          "height": 36
        },
        "id": "OjW_YQe9HhT_",
        "outputId": "4d0373bf-27e3-494c-ee33-04d14c844092"
      },
      "execution_count": null,
      "outputs": [
        {
          "output_type": "execute_result",
          "data": {
            "text/plain": [
              "'MGVQPPNFSWVLPGRLAGLALPRLPAHYQFLLDLGVRHLVSLTERGPPHSDSCPGLTLHRLRIPDFCPPAPDQIDRFVQIVDEANARGEAVGVHCALGFGRTGTMLACYLVKERGLAAGDAIAEIRRLRPGSIETYEQEKAVFQFYQRTK'"
            ],
            "application/vnd.google.colaboratory.intrinsic+json": {
              "type": "string"
            }
          },
          "metadata": {},
          "execution_count": 25
        }
      ]
    },
    {
      "cell_type": "code",
      "source": [
        "pdb_seq = pdb_sequence\n",
        "uniprot_seq = uniprot_sequence\n",
        "\n",
        "result = create_multi_class_mask(uniprot_seq, pdb_seq)\n",
        "\n",
        "if result:\n",
        "    mask, alignment = result\n",
        "\n",
        "    print(\"\\n\" + \"=\"*80)\n",
        "    print(\"RESULTS\")\n",
        "    print(\"=\"*80)\n",
        "\n",
        "    print(\"\\n--- Visual Alignment ---\")\n",
        "    print(format_alignment_for_display(alignment))\n",
        "\n",
        "    print(f\"\\n--- Multi-Class Mask (first 100 values) ---\")\n",
        "    print(mask)\n",
        "\n",
        "    # --- Statistics ---\n",
        "    maintained_count = mask.count(0)\n",
        "    deleted_count = mask.count(1)\n",
        "    mutated_count = mask.count(2)\n",
        "\n",
        "    print(\"\\n--- Summary ---\")\n",
        "    print(f\"UniProt Sequence Length: {len(uniprot_seq)}\")\n",
        "    print(f\"Mask Length:             {len(mask)}\")\n",
        "    print(f\"Residues Maintained (0): {maintained_count}\")\n",
        "    print(f\"Residues Deleted (1):    {deleted_count}\")\n",
        "    print(f\"Residues Mutated (2):    {mutated_count}\")"
      ],
      "metadata": {
        "id": "7bwQZ90yDGJk"
      },
      "execution_count": null,
      "outputs": []
    },
    {
      "cell_type": "code",
      "source": [
        "# def pd_align(row):\n",
        "#     try:\n",
        "#         return create_multi_class_mask(row['uniprot_seq'], row['pbd_id'])[0]\n",
        "#     except:\n",
        "#         print(\"jere\")\n",
        "\n",
        "df['label_mask'] = df.apply(lambda row: create_multi_class_mask(row['uniprot_seq'], row['pdb_sequence_sanitized'])[0], axis=1)"
      ],
      "metadata": {
        "colab": {
          "base_uri": "https://localhost:8080/"
        },
        "id": "hTHvClDRDNWa",
        "outputId": "9254f125-cc69-4b03-a463-9996d50d19cf"
      },
      "execution_count": null,
      "outputs": [
        {
          "output_type": "stream",
          "name": "stderr",
          "text": [
            "Exception ignored in tp_clear of: <class 'dict'>\n",
            "Traceback (most recent call last):\n",
            "  File \"/usr/local/lib/python3.12/dist-packages/Bio/pairwise2.py\", line 1298, in __call__\n",
            "    return self.score_dict[(charA, charB)]\n",
            "           ~~~~~~~~~~~~~~~^^^^^^^^^^^^^^^^\n",
            "  File \"/usr/local/lib/python3.12/dist-packages/Bio/pairwise2.py\", line 1298, in __call__\n",
            "    return self.score_dict[(charA, charB)]\n",
            "           ~~~~~~~~~~~~~~~^^^^^^^^^^^^^^^^\n",
            "  File \"/usr/local/lib/python3.12/dist-packages/Bio/pairwise2.py\", line 1298, in __call__\n",
            "    return self.score_dict[(charA, charB)]\n",
            "           ~~~~~~~~~~~~~~~^^^^^^^^^^^^^^^^\n",
            "  [Previous line repeated 335 more times]\n",
            "KeyError: ('M', 'U')\n",
            "Exception ignored in garbage collection:\n",
            "Traceback (most recent call last):\n",
            "  File \"/usr/local/lib/python3.12/dist-packages/Bio/pairwise2.py\", line 1292, in __call__\n",
            "    def __call__(self, charA, charB):\n",
            "\n",
            "SystemError: <function dictionary_match.__call__ at 0x7e70fe1572e0> returned a result with an exception set\n",
            "Exception ignored in garbage collection:\n",
            "Traceback (most recent call last):\n",
            "  File \"/usr/local/lib/python3.12/dist-packages/Bio/pairwise2.py\", line 1292, in __call__\n",
            "    def __call__(self, charA, charB):\n",
            "\n",
            "SystemError: <function dictionary_match.__call__ at 0x7e70fe1572e0> returned a result with an exception set\n",
            "Exception ignored in garbage collection:\n",
            "Traceback (most recent call last):\n",
            "  File \"/usr/local/lib/python3.12/dist-packages/Bio/pairwise2.py\", line 1292, in __call__\n",
            "    def __call__(self, charA, charB):\n",
            "\n",
            "SystemError: <function dictionary_match.__call__ at 0x7e70fe1572e0> returned a result with an exception set\n",
            "Exception ignored in garbage collection:\n",
            "Traceback (most recent call last):\n",
            "  File \"/usr/local/lib/python3.12/dist-packages/Bio/pairwise2.py\", line 1292, in __call__\n",
            "    def __call__(self, charA, charB):\n",
            "\n",
            "SystemError: <function dictionary_match.__call__ at 0x7e70fe1572e0> returned a result with an exception set\n",
            "Exception ignored in garbage collection:\n",
            "Traceback (most recent call last):\n",
            "  File \"/usr/local/lib/python3.12/dist-packages/Bio/pairwise2.py\", line 1292, in __call__\n",
            "    def __call__(self, charA, charB):\n",
            "\n",
            "SystemError: <function dictionary_match.__call__ at 0x7e70fe1572e0> returned a result with an exception set\n",
            "Exception ignored in garbage collection:\n",
            "Traceback (most recent call last):\n",
            "  File \"/usr/local/lib/python3.12/dist-packages/Bio/pairwise2.py\", line 1292, in __call__\n",
            "    def __call__(self, charA, charB):\n",
            "\n",
            "SystemError: <function dictionary_match.__call__ at 0x7e70fe1572e0> returned a result with an exception set\n",
            "Exception ignored in garbage collection:\n",
            "Traceback (most recent call last):\n",
            "  File \"/usr/local/lib/python3.12/dist-packages/Bio/pairwise2.py\", line 1292, in __call__\n",
            "    def __call__(self, charA, charB):\n",
            "\n",
            "SystemError: <function dictionary_match.__call__ at 0x7e70fe1572e0> returned a result with an exception set\n",
            "Exception ignored in tp_clear of: <class 'dict'>\n",
            "Traceback (most recent call last):\n",
            "  File \"/usr/local/lib/python3.12/dist-packages/Bio/pairwise2.py\", line 1292, in __call__\n",
            "    def __call__(self, charA, charB):\n",
            "\n",
            "SystemError: <function dictionary_match.__call__ at 0x7e70fe1572e0> returned a result with an exception set\n"
          ]
        }
      ]
    },
    {
      "cell_type": "code",
      "source": [
        "df['label_mask'] = df.apply(lambda row: create_multi_class_mask(row['uniprot_seq'], row['pdb_sequence_sanitized'])[0], axis=1)"
      ],
      "metadata": {
        "id": "vVIXm2iLFO-A"
      },
      "execution_count": null,
      "outputs": []
    },
    {
      "cell_type": "code",
      "source": [
        "df['label_mask'] = df.swifter.apply(lambda row: create_multi_class_mask(row['uniprot_seq'], row['pdb_sequence_sanitized'])[0], axis=1)"
      ],
      "metadata": {
        "colab": {
          "base_uri": "https://localhost:8080/",
          "height": 361,
          "referenced_widgets": [
            "ededdd420e634ea593ae31792190e4a6",
            "739a6730a52243e988a770425fad3aea",
            "973f4e5de5b74dc0ab4a2ddd15869365",
            "bec457a335804d068940368e5f0e0ff2",
            "a77eb63cb8ef41278eddcbc587b246b5",
            "bd8d62b755e64c8e8c6c10d02d522ce7",
            "48b22de41d994a96bba6cb141ea28b72",
            "c5d0b62a1b804b1d92f03a6b8b49d511",
            "dd267c0e247c4288b244fd937ec9a3cd",
            "b1818aee11d14daaad8a3f300284f49a",
            "a105915e8f67400cb1633cf8b1d94ca1"
          ]
        },
        "id": "m3VIgwXpGit2",
        "outputId": "c440c810-bdc3-495f-ec5f-e82f913573e8"
      },
      "execution_count": null,
      "outputs": [
        {
          "output_type": "display_data",
          "data": {
            "text/plain": [
              "Pandas Apply:   0%|          | 0/70732 [00:00<?, ?it/s]"
            ],
            "application/vnd.jupyter.widget-view+json": {
              "version_major": 2,
              "version_minor": 0,
              "model_id": "ededdd420e634ea593ae31792190e4a6"
            }
          },
          "metadata": {}
        },
        {
          "output_type": "stream",
          "name": "stderr",
          "text": [
            "Exception ignored in garbage collection:\n",
            "Traceback (most recent call last):\n",
            "  File \"/usr/local/lib/python3.12/dist-packages/Bio/pairwise2.py\", line 1292, in __call__\n",
            "    def __call__(self, charA, charB):\n",
            "\n",
            "SystemError: <function dictionary_match.__call__ at 0x7a36766980e0> returned a result with an exception set\n",
            "Exception ignored in garbage collection:\n",
            "Traceback (most recent call last):\n",
            "  File \"/usr/local/lib/python3.12/dist-packages/Bio/pairwise2.py\", line 1292, in __call__\n",
            "    def __call__(self, charA, charB):\n",
            "\n",
            "SystemError: <function dictionary_match.__call__ at 0x7a36766980e0> returned a result with an exception set\n",
            "Exception ignored in tp_clear of: <class 'type'>\n",
            "Traceback (most recent call last):\n",
            "  File \"/usr/local/lib/python3.12/dist-packages/Bio/pairwise2.py\", line 1292, in __call__\n",
            "    def __call__(self, charA, charB):\n",
            "\n",
            "SystemError: <function dictionary_match.__call__ at 0x7a36766980e0> returned a result with an exception set\n"
          ]
        }
      ]
    },
    {
      "cell_type": "code",
      "source": [],
      "metadata": {
        "id": "BYFD-LXdQAS1"
      },
      "execution_count": null,
      "outputs": []
    }
  ]
}