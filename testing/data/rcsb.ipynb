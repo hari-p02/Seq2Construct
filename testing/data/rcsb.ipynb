{
  "cells": [
    {
      "cell_type": "markdown",
      "metadata": {
        "id": "AJXOqX4REsIg"
      },
      "source": [
        "# Install & Import Dependencies"
      ]
    },
    {
      "cell_type": "code",
      "execution_count": 1,
      "metadata": {
        "colab": {
          "base_uri": "https://localhost:8080/"
        },
        "id": "27v0JDTnquLs",
        "outputId": "9b4f1f62-c7fd-4183-d716-00df54a85276"
      },
      "outputs": [],
      "source": [
        "# ! pip install rcsb-api\n",
        "# ! pip install biopython\n",
        "# ! pip install swifter"
      ]
    },
    {
      "cell_type": "code",
      "execution_count": 2,
      "metadata": {
        "id": "woskpRn3qwwr"
      },
      "outputs": [
        {
          "name": "stderr",
          "output_type": "stream",
          "text": [
            "/Users/haripat/Desktop/SF/protein/.venv/lib/python3.12/site-packages/Bio/pairwise2.py:278: BiopythonDeprecationWarning: Bio.pairwise2 has been deprecated, and we intend to remove it in a future release of Biopython. As an alternative, please consider using Bio.Align.PairwiseAligner as a replacement, and contact the Biopython developers if you still need the Bio.pairwise2 module.\n",
            "  warnings.warn(\n",
            "/Users/haripat/Desktop/SF/protein/.venv/lib/python3.12/site-packages/tqdm/auto.py:21: TqdmWarning: IProgress not found. Please update jupyter and ipywidgets. See https://ipywidgets.readthedocs.io/en/stable/user_install.html\n",
            "  from .autonotebook import tqdm as notebook_tqdm\n"
          ]
        }
      ],
      "source": [
        "from rcsbapi.data import DataQuery as Query\n",
        "import json\n",
        "from rcsbapi.search import search_attributes as attrs\n",
        "import pandas as pd\n",
        "from Bio import pairwise2\n",
        "from Bio.Seq import Seq\n",
        "from Bio.Align import substitution_matrices\n",
        "import re\n",
        "from Bio.pairwise2 import format_alignment\n",
        "import os\n",
        "import subprocess\n",
        "import swifter"
      ]
    },
    {
      "cell_type": "code",
      "execution_count": 2,
      "metadata": {
        "id": "rH09MH7GPT8a"
      },
      "outputs": [],
      "source": [
        "# import os\n",
        "# num_cores = os.cpu_count()\n",
        "# if num_cores is not None:\n",
        "#     print(f\"Number of logical CPU cores: {num_cores}\")\n",
        "# else:\n",
        "#     print(\"Could not determine CPU count.\")"
      ]
    },
    {
      "cell_type": "markdown",
      "metadata": {
        "id": "KhLMj__GEwcq"
      },
      "source": [
        "# RCSB Search Query"
      ]
    },
    {
      "cell_type": "code",
      "execution_count": 4,
      "metadata": {
        "id": "Ea5gicQGrUMK"
      },
      "outputs": [],
      "source": [
        "q1 = attrs.rcsb_entity_source_organism.scientific_name == \"Homo sapiens\"\n",
        "q2 = attrs.exptl.method == \"X-RAY DIFFRACTION\""
      ]
    },
    {
      "cell_type": "code",
      "execution_count": 5,
      "metadata": {
        "id": "zYfvI7n3rx1N"
      },
      "outputs": [],
      "source": [
        "query = q1 & q2"
      ]
    },
    {
      "cell_type": "code",
      "execution_count": 6,
      "metadata": {
        "id": "2eXIImQ6r1Hr"
      },
      "outputs": [],
      "source": [
        "results = query()\n",
        "output = list()\n",
        "for rid in results:\n",
        "    output.append(rid)"
      ]
    },
    {
      "cell_type": "code",
      "execution_count": 7,
      "metadata": {
        "colab": {
          "base_uri": "https://localhost:8080/"
        },
        "id": "PF9KsR6-sA9b",
        "outputId": "eec26b1c-9b29-442d-8384-ccdf0ea5a66a"
      },
      "outputs": [
        {
          "data": {
            "text/plain": [
              "59477"
            ]
          },
          "execution_count": 7,
          "metadata": {},
          "output_type": "execute_result"
        }
      ],
      "source": [
        "len(output)"
      ]
    },
    {
      "cell_type": "markdown",
      "metadata": {
        "id": "sxOeYh8LEzzy"
      },
      "source": [
        "# RCSB Data Query"
      ]
    },
    {
      "cell_type": "code",
      "execution_count": 8,
      "metadata": {
        "colab": {
          "base_uri": "https://localhost:8080/"
        },
        "id": "GO5aCMVYtJ4j",
        "outputId": "67d49d5c-89d9-4fe6-e7a5-c959eabbefe7"
      },
      "outputs": [
        {
          "name": "stderr",
          "output_type": "stream",
          "text": [
            "WARNING: More than 50000 IDs were provided as input. Query may take several minutes to complete.\n",
            "100%|██████████| 199/199 [03:07<00:00,  1.06it/s]\n"
          ]
        }
      ],
      "source": [
        "query = Query(\n",
        "    input_type=\"entries\",\n",
        "    input_ids=output,\n",
        "    return_data_list=[\n",
        "        \"exptl.method\",\n",
        "        \"polymer_entities.polymer_entity_instances.rcsb_polymer_entity_instance_container_identifiers.entity_id\",\n",
        "        \"polymer_entities.uniprots.rcsb_uniprot_protein.sequence\",\n",
        "        \"polymer_entities.entity_poly.pdbx_seq_one_letter_code\",\n",
        "        \"polymer_entities.uniprots.rcsb_uniprot_protein.source_organism\"\n",
        "    ]\n",
        ")\n",
        "query.exec(progress_bar=True)\n",
        "response_data = query.get_response()\n",
        "# response_data"
      ]
    },
    {
      "cell_type": "code",
      "execution_count": 9,
      "metadata": {
        "colab": {
          "base_uri": "https://localhost:8080/"
        },
        "id": "hmMLzwyQz3Qn",
        "outputId": "8fc214a7-28a0-49f8-dc55-1f1c306b2f3f"
      },
      "outputs": [
        {
          "data": {
            "text/plain": [
              "59477"
            ]
          },
          "execution_count": 9,
          "metadata": {},
          "output_type": "execute_result"
        }
      ],
      "source": [
        "len(response_data['data']['entries'])"
      ]
    },
    {
      "cell_type": "markdown",
      "metadata": {
        "id": "_0FIBoLUE4tX"
      },
      "source": [
        "# Creating Pandas DF"
      ]
    },
    {
      "cell_type": "code",
      "execution_count": 10,
      "metadata": {
        "id": "6M9o86RBuA3G"
      },
      "outputs": [],
      "source": [
        "rcsb_ids = list()\n",
        "rcsb_entity_ids = list()\n",
        "uniprot_seqs = list()\n",
        "pbd_ids = list()\n",
        "\n",
        "for result in response_data['data']['entries']:\n",
        "  for entity in result['polymer_entities']:\n",
        "    if entity['uniprots']:\n",
        "      for uniprot in entity['uniprots']:\n",
        "        if uniprot['rcsb_uniprot_protein']['source_organism']['taxonomy_id'] == 9606:\n",
        "          rcsb_ids.append(result['rcsb_id'])\n",
        "          rcsb_entity_ids.append(entity['polymer_entity_instances'][0]['rcsb_polymer_entity_instance_container_identifiers']['entity_id'])\n",
        "          uniprot_seqs.append(uniprot['rcsb_uniprot_protein']['sequence'])\n",
        "          pbd_ids.append(entity['entity_poly']['pdbx_seq_one_letter_code'])"
      ]
    },
    {
      "cell_type": "code",
      "execution_count": 11,
      "metadata": {
        "colab": {
          "base_uri": "https://localhost:8080/"
        },
        "id": "57yMjWsYz9jt",
        "outputId": "364377ee-5fe1-4085-c1c8-6651794a1a27"
      },
      "outputs": [
        {
          "data": {
            "text/plain": [
              "(70732, 70732, 70732, 70732)"
            ]
          },
          "execution_count": 11,
          "metadata": {},
          "output_type": "execute_result"
        }
      ],
      "source": [
        "len(rcsb_ids), len(rcsb_entity_ids), len(uniprot_seqs), len(pbd_ids)"
      ]
    },
    {
      "cell_type": "code",
      "execution_count": 12,
      "metadata": {
        "id": "mD_P7CbEvLoF"
      },
      "outputs": [],
      "source": [
        "df = pd.DataFrame(\n",
        "    data = {'rcsb_id': rcsb_ids, 'rcsb_entity_ids': rcsb_entity_ids, 'uniprot_seq': uniprot_seqs, 'pbd_id': pbd_ids}\n",
        ")"
      ]
    },
    {
      "cell_type": "code",
      "execution_count": 13,
      "metadata": {
        "colab": {
          "base_uri": "https://localhost:8080/",
          "height": 676
        },
        "id": "UKTntrNmvbN2",
        "outputId": "45cf768d-489b-4b0e-925e-84a020051f07"
      },
      "outputs": [
        {
          "data": {
            "text/html": [
              "<div>\n",
              "<style scoped>\n",
              "    .dataframe tbody tr th:only-of-type {\n",
              "        vertical-align: middle;\n",
              "    }\n",
              "\n",
              "    .dataframe tbody tr th {\n",
              "        vertical-align: top;\n",
              "    }\n",
              "\n",
              "    .dataframe thead th {\n",
              "        text-align: right;\n",
              "    }\n",
              "</style>\n",
              "<table border=\"1\" class=\"dataframe\">\n",
              "  <thead>\n",
              "    <tr style=\"text-align: right;\">\n",
              "      <th></th>\n",
              "      <th>rcsb_id</th>\n",
              "      <th>rcsb_entity_ids</th>\n",
              "      <th>uniprot_seq</th>\n",
              "      <th>pbd_id</th>\n",
              "    </tr>\n",
              "  </thead>\n",
              "  <tbody>\n",
              "    <tr>\n",
              "      <th>0</th>\n",
              "      <td>2GD8</td>\n",
              "      <td>1</td>\n",
              "      <td>MSHHWGYGKHNGPEHWHKDFPIAKGERQSPVDIDTHTAKYDPSLKP...</td>\n",
              "      <td>SHHWGYGKHNGPEHWHKDFPIAKGERQSPVDIDTHTAKYDPSLKPL...</td>\n",
              "    </tr>\n",
              "    <tr>\n",
              "      <th>1</th>\n",
              "      <td>2GDD</td>\n",
              "      <td>1</td>\n",
              "      <td>MLNLLLLALPVLASRAYAAPAPGQALQRVGIVGGQEAPRSKWPWQV...</td>\n",
              "      <td>IVGGQEAPRSKWPWQVSLRVHGPYWMHFCGGSLIHPQWVLTAAHCV...</td>\n",
              "    </tr>\n",
              "    <tr>\n",
              "      <th>2</th>\n",
              "      <td>2GDE</td>\n",
              "      <td>1</td>\n",
              "      <td>MAHVRGLQLPGCLALAALCSLVHSQHVFLAPQQARSLLQRVRRANT...</td>\n",
              "      <td>TFGSGEADCGLRPLFEKKSLEDKTERELLESYIDGR</td>\n",
              "    </tr>\n",
              "    <tr>\n",
              "      <th>3</th>\n",
              "      <td>2GDE</td>\n",
              "      <td>2</td>\n",
              "      <td>MAHVRGLQLPGCLALAALCSLVHSQHVFLAPQQARSLLQRVRRANT...</td>\n",
              "      <td>IVEGSDAEIGMSPWQVMLFRKSPQELLCGASLISDRWVLTAAHCLL...</td>\n",
              "    </tr>\n",
              "    <tr>\n",
              "      <th>4</th>\n",
              "      <td>2GDO</td>\n",
              "      <td>1</td>\n",
              "      <td>MAVPFVEDWDLVQTLGEGAYGEVQLAVNRVTEEAVAVKIVDMKRAV...</td>\n",
              "      <td>MAVPFVEDWDLVQTLGEGAYGEVQLAVNRVTEEAVAVKIVDMKRAV...</td>\n",
              "    </tr>\n",
              "  </tbody>\n",
              "</table>\n",
              "</div>"
            ],
            "text/plain": [
              "  rcsb_id rcsb_entity_ids                                        uniprot_seq  \\\n",
              "0    2GD8               1  MSHHWGYGKHNGPEHWHKDFPIAKGERQSPVDIDTHTAKYDPSLKP...   \n",
              "1    2GDD               1  MLNLLLLALPVLASRAYAAPAPGQALQRVGIVGGQEAPRSKWPWQV...   \n",
              "2    2GDE               1  MAHVRGLQLPGCLALAALCSLVHSQHVFLAPQQARSLLQRVRRANT...   \n",
              "3    2GDE               2  MAHVRGLQLPGCLALAALCSLVHSQHVFLAPQQARSLLQRVRRANT...   \n",
              "4    2GDO               1  MAVPFVEDWDLVQTLGEGAYGEVQLAVNRVTEEAVAVKIVDMKRAV...   \n",
              "\n",
              "                                              pbd_id  \n",
              "0  SHHWGYGKHNGPEHWHKDFPIAKGERQSPVDIDTHTAKYDPSLKPL...  \n",
              "1  IVGGQEAPRSKWPWQVSLRVHGPYWMHFCGGSLIHPQWVLTAAHCV...  \n",
              "2               TFGSGEADCGLRPLFEKKSLEDKTERELLESYIDGR  \n",
              "3  IVEGSDAEIGMSPWQVMLFRKSPQELLCGASLISDRWVLTAAHCLL...  \n",
              "4  MAVPFVEDWDLVQTLGEGAYGEVQLAVNRVTEEAVAVKIVDMKRAV...  "
            ]
          },
          "execution_count": 13,
          "metadata": {},
          "output_type": "execute_result"
        }
      ],
      "source": [
        "df.head()"
      ]
    },
    {
      "cell_type": "code",
      "execution_count": 15,
      "metadata": {
        "id": "J2Gjtls7vdy3"
      },
      "outputs": [],
      "source": [
        "df.to_excel(\"/Users/haripat/Desktop/SF/protein/data/protein_constructs.xlsx\")"
      ]
    },
    {
      "cell_type": "code",
      "execution_count": 16,
      "metadata": {
        "colab": {
          "base_uri": "https://localhost:8080/"
        },
        "id": "4J-pLPPs732e",
        "outputId": "8f665407-1634-4332-c624-d6f60e8cd06c"
      },
      "outputs": [
        {
          "data": {
            "text/plain": [
              "(70732, 4)"
            ]
          },
          "execution_count": 16,
          "metadata": {},
          "output_type": "execute_result"
        }
      ],
      "source": [
        "df.shape"
      ]
    },
    {
      "cell_type": "code",
      "execution_count": 3,
      "metadata": {
        "id": "eF0k99lWIGLF"
      },
      "outputs": [],
      "source": [
        "df = pd.read_excel('/Users/haripat/Desktop/SF/protein/data/protein_constructs.xlsx')"
      ]
    },
    {
      "cell_type": "markdown",
      "metadata": {
        "id": "cPzTy3rhIGln"
      },
      "source": [
        "# Cleaning Data"
      ]
    },
    {
      "cell_type": "code",
      "execution_count": 4,
      "metadata": {
        "id": "RQpR-MEmMG3x"
      },
      "outputs": [],
      "source": [
        "def sanitize_sequence_advanced(sequence: str) -> str:\n",
        "    if not isinstance(sequence, str):\n",
        "        return \"\" \n",
        "\n",
        "    ptm_replacements = {\n",
        "        \"(MSE)\": \"M\",  # Selenomethionine -> Methionine\n",
        "        \"(SEP)\": \"S\",  # Phosphoserine -> Serine\n",
        "        \"(TPO)\": \"T\",  # Phosphothreonine -> Threonine\n",
        "        \"(PTR)\": \"Y\",  # Phosphotyrosine -> Tyrosine\n",
        "        \"(NEP)\": \"K\",  # N-Epsilon-Phospholysine -> Lysine\n",
        "        \"(MLY)\": \"K\",  # Monomethyllysine -> Lysine\n",
        "        \"(M2L)\": \"K\",  # Dimethyllysine -> Lysine\n",
        "        \"(M3L)\": \"K\",  # Trimethyllysine -> Lysine\n",
        "        \"(ALY)\": \"K\",  # Acetyllysine -> Lysine\n",
        "        \"(HLY)\": \"K\",  # Hydroxylysine -> Lysine\n",
        "        \"(M1G)\": \"R\",  # Monomethylarginine -> Arginine\n",
        "        \"(M2G)\": \"R\",  # Dimethylarginine -> Arginine\n",
        "        \"(CIR)\": \"R\",  # Citrulline -> Arginine\n",
        "        \"(HYP)\": \"P\",  # Hydroxyproline -> Proline\n",
        "        \"(CGU)\": \"E\",  # Gamma-carboxyglutamate -> Glutamate\n",
        "        \"(NH2)\": \"\",   # C-Terminal Amidation -> Remove\n",
        "        \"(ACE)\": \"\",   # N-Acetyl Group -> Remove\n",
        "    }\n",
        "\n",
        "    processed_seq = sequence\n",
        "    for mod_code, standard_aa in ptm_replacements.items():\n",
        "        processed_seq = processed_seq.replace(mod_code, standard_aa)\n",
        "    valid_chars = \"ACDEFGHIKLMNPQRSTVWY\"\n",
        "    sanitized_seq = re.sub(f\"[^{valid_chars}]\", \"X\", processed_seq.upper())\n",
        "    return sanitized_seq"
      ]
    },
    {
      "cell_type": "code",
      "execution_count": 5,
      "metadata": {
        "id": "hYgcR39OII5T"
      },
      "outputs": [],
      "source": [
        "# df['pbd_id'] = df['pbd_id'].str.replace(\"(MSE)\", \"M\")\n",
        "# df['pbd_id'] = df['pbd_id'].str.replace(\"(TPO)\", \"T\")\n",
        "# df['pbd_id'] = df['pbd_id'].str.replace(\"(SEP)\", \"S\")\n",
        "# df['pbd_id'] = df['pbd_id'].str.replace(\"(NH2)\", \"\")\n",
        "# df['pbd_id'] = df['pbd_id'].str.replace(\"(PTR)\", \"Y\")\n",
        "# df['pbd_id'] = df['pbd_id'].str.replace(\"(M3L)\", \"K\")\n",
        "# df['pbd_id'] = df['pbd_id'].str.replace(\"(NEP)\", \"K\")\n",
        "df['pdb_sequence_sanitized'] = df['pbd_id'].apply(sanitize_sequence_advanced)\n",
        "df['pdb_sequence_sanitized'] = df['pdb_sequence_sanitized'].str.replace(\"U\", \"C\")"
      ]
    },
    {
      "cell_type": "code",
      "execution_count": 6,
      "metadata": {
        "id": "dRhEcpAoKP4w"
      },
      "outputs": [],
      "source": [
        "# df[df['pbd_id'].str.contains(\"\\(\")]['pbd_id']"
      ]
    },
    {
      "cell_type": "markdown",
      "metadata": {
        "id": "o2u5v71QE7Wc"
      },
      "source": [
        "# Labeling Data"
      ]
    },
    {
      "cell_type": "code",
      "execution_count": 7,
      "metadata": {
        "id": "kDv0JLqZGlRx"
      },
      "outputs": [],
      "source": [
        "# df = pd.read_csv('project_data_v3.csv')"
      ]
    },
    {
      "cell_type": "code",
      "execution_count": 8,
      "metadata": {
        "colab": {
          "base_uri": "https://localhost:8080/",
          "height": 206
        },
        "id": "rqI4ocZyGxK9",
        "outputId": "9b9767cc-bfb2-4398-dc16-e0c562952784"
      },
      "outputs": [
        {
          "data": {
            "text/html": [
              "<div>\n",
              "<style scoped>\n",
              "    .dataframe tbody tr th:only-of-type {\n",
              "        vertical-align: middle;\n",
              "    }\n",
              "\n",
              "    .dataframe tbody tr th {\n",
              "        vertical-align: top;\n",
              "    }\n",
              "\n",
              "    .dataframe thead th {\n",
              "        text-align: right;\n",
              "    }\n",
              "</style>\n",
              "<table border=\"1\" class=\"dataframe\">\n",
              "  <thead>\n",
              "    <tr style=\"text-align: right;\">\n",
              "      <th></th>\n",
              "      <th>Unnamed: 0</th>\n",
              "      <th>rcsb_id</th>\n",
              "      <th>rcsb_entity_ids</th>\n",
              "      <th>uniprot_seq</th>\n",
              "      <th>pbd_id</th>\n",
              "      <th>pdb_sequence_sanitized</th>\n",
              "    </tr>\n",
              "  </thead>\n",
              "  <tbody>\n",
              "    <tr>\n",
              "      <th>0</th>\n",
              "      <td>0</td>\n",
              "      <td>2GD8</td>\n",
              "      <td>1</td>\n",
              "      <td>MSHHWGYGKHNGPEHWHKDFPIAKGERQSPVDIDTHTAKYDPSLKP...</td>\n",
              "      <td>SHHWGYGKHNGPEHWHKDFPIAKGERQSPVDIDTHTAKYDPSLKPL...</td>\n",
              "      <td>SHHWGYGKHNGPEHWHKDFPIAKGERQSPVDIDTHTAKYDPSLKPL...</td>\n",
              "    </tr>\n",
              "    <tr>\n",
              "      <th>1</th>\n",
              "      <td>1</td>\n",
              "      <td>2GDD</td>\n",
              "      <td>1</td>\n",
              "      <td>MLNLLLLALPVLASRAYAAPAPGQALQRVGIVGGQEAPRSKWPWQV...</td>\n",
              "      <td>IVGGQEAPRSKWPWQVSLRVHGPYWMHFCGGSLIHPQWVLTAAHCV...</td>\n",
              "      <td>IVGGQEAPRSKWPWQVSLRVHGPYWMHFCGGSLIHPQWVLTAAHCV...</td>\n",
              "    </tr>\n",
              "    <tr>\n",
              "      <th>2</th>\n",
              "      <td>2</td>\n",
              "      <td>2GDE</td>\n",
              "      <td>1</td>\n",
              "      <td>MAHVRGLQLPGCLALAALCSLVHSQHVFLAPQQARSLLQRVRRANT...</td>\n",
              "      <td>TFGSGEADCGLRPLFEKKSLEDKTERELLESYIDGR</td>\n",
              "      <td>TFGSGEADCGLRPLFEKKSLEDKTERELLESYIDGR</td>\n",
              "    </tr>\n",
              "    <tr>\n",
              "      <th>3</th>\n",
              "      <td>3</td>\n",
              "      <td>2GDE</td>\n",
              "      <td>2</td>\n",
              "      <td>MAHVRGLQLPGCLALAALCSLVHSQHVFLAPQQARSLLQRVRRANT...</td>\n",
              "      <td>IVEGSDAEIGMSPWQVMLFRKSPQELLCGASLISDRWVLTAAHCLL...</td>\n",
              "      <td>IVEGSDAEIGMSPWQVMLFRKSPQELLCGASLISDRWVLTAAHCLL...</td>\n",
              "    </tr>\n",
              "    <tr>\n",
              "      <th>4</th>\n",
              "      <td>4</td>\n",
              "      <td>2GDO</td>\n",
              "      <td>1</td>\n",
              "      <td>MAVPFVEDWDLVQTLGEGAYGEVQLAVNRVTEEAVAVKIVDMKRAV...</td>\n",
              "      <td>MAVPFVEDWDLVQTLGEGAYGEVQLAVNRVTEEAVAVKIVDMKRAV...</td>\n",
              "      <td>MAVPFVEDWDLVQTLGEGAYGEVQLAVNRVTEEAVAVKIVDMKRAV...</td>\n",
              "    </tr>\n",
              "  </tbody>\n",
              "</table>\n",
              "</div>"
            ],
            "text/plain": [
              "   Unnamed: 0 rcsb_id  rcsb_entity_ids  \\\n",
              "0           0    2GD8                1   \n",
              "1           1    2GDD                1   \n",
              "2           2    2GDE                1   \n",
              "3           3    2GDE                2   \n",
              "4           4    2GDO                1   \n",
              "\n",
              "                                         uniprot_seq  \\\n",
              "0  MSHHWGYGKHNGPEHWHKDFPIAKGERQSPVDIDTHTAKYDPSLKP...   \n",
              "1  MLNLLLLALPVLASRAYAAPAPGQALQRVGIVGGQEAPRSKWPWQV...   \n",
              "2  MAHVRGLQLPGCLALAALCSLVHSQHVFLAPQQARSLLQRVRRANT...   \n",
              "3  MAHVRGLQLPGCLALAALCSLVHSQHVFLAPQQARSLLQRVRRANT...   \n",
              "4  MAVPFVEDWDLVQTLGEGAYGEVQLAVNRVTEEAVAVKIVDMKRAV...   \n",
              "\n",
              "                                              pbd_id  \\\n",
              "0  SHHWGYGKHNGPEHWHKDFPIAKGERQSPVDIDTHTAKYDPSLKPL...   \n",
              "1  IVGGQEAPRSKWPWQVSLRVHGPYWMHFCGGSLIHPQWVLTAAHCV...   \n",
              "2               TFGSGEADCGLRPLFEKKSLEDKTERELLESYIDGR   \n",
              "3  IVEGSDAEIGMSPWQVMLFRKSPQELLCGASLISDRWVLTAAHCLL...   \n",
              "4  MAVPFVEDWDLVQTLGEGAYGEVQLAVNRVTEEAVAVKIVDMKRAV...   \n",
              "\n",
              "                              pdb_sequence_sanitized  \n",
              "0  SHHWGYGKHNGPEHWHKDFPIAKGERQSPVDIDTHTAKYDPSLKPL...  \n",
              "1  IVGGQEAPRSKWPWQVSLRVHGPYWMHFCGGSLIHPQWVLTAAHCV...  \n",
              "2               TFGSGEADCGLRPLFEKKSLEDKTERELLESYIDGR  \n",
              "3  IVEGSDAEIGMSPWQVMLFRKSPQELLCGASLISDRWVLTAAHCLL...  \n",
              "4  MAVPFVEDWDLVQTLGEGAYGEVQLAVNRVTEEAVAVKIVDMKRAV...  "
            ]
          },
          "execution_count": 8,
          "metadata": {},
          "output_type": "execute_result"
        }
      ],
      "source": [
        "df.head()"
      ]
    },
    {
      "cell_type": "code",
      "execution_count": 9,
      "metadata": {
        "id": "YVvfsjdM4I03"
      },
      "outputs": [],
      "source": [
        "def create_multi_class_mask(uniprot_sequence: str, pdb_construct_sequence: str) -> list[int] | None:\n",
        "    \"\"\"\n",
        "    Generates a multi-class modification mask by globally aligning a UniProt\n",
        "    sequence with a PDB construct sequence.\n",
        "\n",
        "    The mask is the same length as the UniProt sequence. Each position is labeled:\n",
        "    - 0: Maintained (the residue is the same in both sequences)\n",
        "    - 1: Deleted (the residue is in UniProt but absent in the PDB construct)\n",
        "    - 2: Mutated (the residue is present but changed to a different amino acid)\n",
        "\n",
        "    Args:\n",
        "        uniprot_sequence: The full-length, canonical protein sequence.\n",
        "        pdb_construct_sequence: The engineered sequence from the PDB.\n",
        "\n",
        "    Returns:\n",
        "        A list of integers (0, 1, or 2) representing the modification mask,\n",
        "        or None if no alignment can be generated.\n",
        "    \"\"\"\n",
        "    try:\n",
        "      # print(\"--- Performing Global Alignment ---\")\n",
        "\n",
        "      blosum62 = substitution_matrices.load(\"BLOSUM62\")\n",
        "\n",
        "      alignments = pairwise2.align.globalds(\n",
        "          uniprot_sequence,\n",
        "          pdb_construct_sequence,\n",
        "          blosum62,\n",
        "          -10,  # Gap open penalty\n",
        "          -0.5  # Gap extend penalty\n",
        "      )\n",
        "\n",
        "      if not alignments:\n",
        "          print(\"Error: Could not generate an alignment.\")\n",
        "          return None\n",
        "\n",
        "      best_alignment = alignments[0]\n",
        "      aligned_uniprot, aligned_pdb, score, begin, end = best_alignment\n",
        "\n",
        "\n",
        "      modification_mask = []\n",
        "\n",
        "      for uniprot_char, pdb_char in zip(aligned_uniprot, aligned_pdb):\n",
        "          if uniprot_char == '-':\n",
        "              # This case means there's an insertion in the PDB sequence (e.g., a tag).\n",
        "              # It doesn't correspond to a position in the UniProt sequence, so we skip it.\n",
        "              continue\n",
        "\n",
        "          if pdb_char == '-':\n",
        "              # A gap in the PDB sequence means the UniProt residue was deleted.\n",
        "              modification_mask.append(1) # 1 = Deleted\n",
        "          elif uniprot_char == pdb_char:\n",
        "              # The characters match, so the residue was maintained.\n",
        "              modification_mask.append(0) # 0 = Maintained\n",
        "          else:\n",
        "              # The characters are different, so the residue was mutated.\n",
        "              modification_mask.append(2) # 2 = Mutated\n",
        "\n",
        "      if len(modification_mask) != len(uniprot_sequence):\n",
        "          print(f\"Error: Mask length ({len(modification_mask)}) does not match UniProt sequence length ({len(uniprot_sequence)}).\")\n",
        "          return None\n",
        "\n",
        "      return modification_mask, best_alignment\n",
        "    except:\n",
        "      return None, None\n",
        "\n",
        "def format_alignment_for_display(alignment):\n",
        "    \"\"\"Helper function to print the alignment nicely.\"\"\"\n",
        "    uniprot_alg, pdb_alg, score, begin, end = alignment\n",
        "\n",
        "    connector = \"\"\n",
        "    for u_char, p_char in zip(uniprot_alg, pdb_alg):\n",
        "        if u_char == p_char:\n",
        "            connector += \"|\"\n",
        "        elif u_char == '-' or p_char == '-':\n",
        "            connector += \" \"\n",
        "        else:\n",
        "            connector += \".\"\n",
        "\n",
        "    return (\n",
        "        f\"Score: {score}\\n\\n\"\n",
        "        f\"UniProt: {uniprot_alg}\\n\"\n",
        "        f\"         {connector}\\n\"\n",
        "        f\"PDB    : {pdb_alg}\"\n",
        "    )"
      ]
    },
    {
      "cell_type": "code",
      "execution_count": 9,
      "metadata": {
        "id": "xyIW50VX3y_E"
      },
      "outputs": [],
      "source": [
        "i = 51510\n",
        "pdb_sequence = df.loc[i]['pbd_id'] #df[df['pbd_id'].str.contains('HHHHHH')].loc[i]['pbd_id']\n",
        "uniprot_sequence = df.loc[i]['uniprot_seq'] #df[df['pbd_id'].str.contains('HHHHHH')].loc[i]['uniprot_seq']"
      ]
    },
    {
      "cell_type": "code",
      "execution_count": 10,
      "metadata": {
        "colab": {
          "base_uri": "https://localhost:8080/",
          "height": 36
        },
        "id": "xMzm09sfHeqy",
        "outputId": "80f6b776-b37b-4fe5-bd56-556ee428f627"
      },
      "outputs": [
        {
          "data": {
            "text/plain": [
              "'MGAFLDKPKMEKHNAQGQGNGLRYGLSSMQGWRVEMEDAHTAVIGLPSGLESWSFFAVYDGHAGSQVAKYCCEHLLDHITNNQDFKGSAGAPSVENVKNGIRTGFLEIDEHMRVMSEKKHGADRSGSTAVGVLISPQHTYFINCGDSRGLLCRNRKVHFFTQDHKPSNPLEKERIQNAGGSVMIQRVNGSLAVSRALGDFDYKCVHGKGPTEQLVSPEPEVHDIERSEEDDQFIILACDGIWDVMGNEELCDFVRSRLEVTDDLEKVCNEVVDTCLYKGSRDNMSVILICFPNAPKVSPEAVKKEAELDKYLECRVEEIIKKQGEGVPDLVHVMRTLASENIPSLPPGGELASKRNVIEAVYNRLNPYKNDDTDSTSTDDMWLEHHHHHH'"
            ]
          },
          "execution_count": 10,
          "metadata": {},
          "output_type": "execute_result"
        }
      ],
      "source": [
        "pdb_sequence"
      ]
    },
    {
      "cell_type": "code",
      "execution_count": 11,
      "metadata": {
        "colab": {
          "base_uri": "https://localhost:8080/",
          "height": 36
        },
        "id": "OjW_YQe9HhT_",
        "outputId": "4d0373bf-27e3-494c-ee33-04d14c844092"
      },
      "outputs": [
        {
          "data": {
            "text/plain": [
              "'MGAFLDKPKMEKHNAQGQGNGLRYGLSSMQGWRVEMEDAHTAVIGLPSGLESWSFFAVYDGHAGSQVAKYCCEHLLDHITNNQDFKGSAGAPSVENVKNGIRTGFLEIDEHMRVMSEKKHGADRSGSTAVGVLISPQHTYFINCGDSRGLLCRNRKVHFFTQDHKPSNPLEKERIQNAGGSVMIQRVNGSLAVSRALGDFDYKCVHGKGPTEQLVSPEPEVHDIERSEEDDQFIILACDGIWDVMGNEELCDFVRSRLEVTDDLEKVCNEVVDTCLYKGSRDNMSVILICFPNAPKVSPEAVKKEAELDKYLECRVEEIIKKQGEGVPDLVHVMRTLASENIPSLPPGGELASKRNVIEAVYNRLNPYKNDDTDSTSTDDMW'"
            ]
          },
          "execution_count": 11,
          "metadata": {},
          "output_type": "execute_result"
        }
      ],
      "source": [
        "uniprot_sequence"
      ]
    },
    {
      "cell_type": "code",
      "execution_count": 12,
      "metadata": {
        "id": "7bwQZ90yDGJk"
      },
      "outputs": [
        {
          "name": "stdout",
          "output_type": "stream",
          "text": [
            "\n",
            "================================================================================\n",
            "RESULTS\n",
            "================================================================================\n",
            "\n",
            "--- Visual Alignment ---\n",
            "Score: 2021.5\n",
            "\n",
            "UniProt: MGAFLDKPKMEKHNAQGQGNGLRYGLSSMQGWRVEMEDAHTAVIGLPSGLESWSFFAVYDGHAGSQVAKYCCEHLLDHITNNQDFKGSAGAPSVENVKNGIRTGFLEIDEHMRVMSEKKHGADRSGSTAVGVLISPQHTYFINCGDSRGLLCRNRKVHFFTQDHKPSNPLEKERIQNAGGSVMIQRVNGSLAVSRALGDFDYKCVHGKGPTEQLVSPEPEVHDIERSEEDDQFIILACDGIWDVMGNEELCDFVRSRLEVTDDLEKVCNEVVDTCLYKGSRDNMSVILICFPNAPKVSPEAVKKEAELDKYLECRVEEIIKKQGEGVPDLVHVMRTLASENIPSLPPGGELASKRNVIEAVYNRLNPYKNDDTDSTSTDDMW--------\n",
            "         ||||||||||||||||||||||||||||||||||||||||||||||||||||||||||||||||||||||||||||||||||||||||||||||||||||||||||||||||||||||||||||||||||||||||||||||||||||||||||||||||||||||||||||||||||||||||||||||||||||||||||||||||||||||||||||||||||||||||||||||||||||||||||||||||||||||||||||||||||||||||||||||||||||||||||||||||||||||||||||||||||||||||||||||||||||||||||||||||||||||||||||||||||||||||||||||        \n",
            "PDB    : MGAFLDKPKMEKHNAQGQGNGLRYGLSSMQGWRVEMEDAHTAVIGLPSGLESWSFFAVYDGHAGSQVAKYCCEHLLDHITNNQDFKGSAGAPSVENVKNGIRTGFLEIDEHMRVMSEKKHGADRSGSTAVGVLISPQHTYFINCGDSRGLLCRNRKVHFFTQDHKPSNPLEKERIQNAGGSVMIQRVNGSLAVSRALGDFDYKCVHGKGPTEQLVSPEPEVHDIERSEEDDQFIILACDGIWDVMGNEELCDFVRSRLEVTDDLEKVCNEVVDTCLYKGSRDNMSVILICFPNAPKVSPEAVKKEAELDKYLECRVEEIIKKQGEGVPDLVHVMRTLASENIPSLPPGGELASKRNVIEAVYNRLNPYKNDDTDSTSTDDMWLEHHHHHH\n",
            "\n",
            "--- Multi-Class Mask (first 100 values) ---\n",
            "[0, 0, 0, 0, 0, 0, 0, 0, 0, 0, 0, 0, 0, 0, 0, 0, 0, 0, 0, 0, 0, 0, 0, 0, 0, 0, 0, 0, 0, 0, 0, 0, 0, 0, 0, 0, 0, 0, 0, 0, 0, 0, 0, 0, 0, 0, 0, 0, 0, 0, 0, 0, 0, 0, 0, 0, 0, 0, 0, 0, 0, 0, 0, 0, 0, 0, 0, 0, 0, 0, 0, 0, 0, 0, 0, 0, 0, 0, 0, 0, 0, 0, 0, 0, 0, 0, 0, 0, 0, 0, 0, 0, 0, 0, 0, 0, 0, 0, 0, 0, 0, 0, 0, 0, 0, 0, 0, 0, 0, 0, 0, 0, 0, 0, 0, 0, 0, 0, 0, 0, 0, 0, 0, 0, 0, 0, 0, 0, 0, 0, 0, 0, 0, 0, 0, 0, 0, 0, 0, 0, 0, 0, 0, 0, 0, 0, 0, 0, 0, 0, 0, 0, 0, 0, 0, 0, 0, 0, 0, 0, 0, 0, 0, 0, 0, 0, 0, 0, 0, 0, 0, 0, 0, 0, 0, 0, 0, 0, 0, 0, 0, 0, 0, 0, 0, 0, 0, 0, 0, 0, 0, 0, 0, 0, 0, 0, 0, 0, 0, 0, 0, 0, 0, 0, 0, 0, 0, 0, 0, 0, 0, 0, 0, 0, 0, 0, 0, 0, 0, 0, 0, 0, 0, 0, 0, 0, 0, 0, 0, 0, 0, 0, 0, 0, 0, 0, 0, 0, 0, 0, 0, 0, 0, 0, 0, 0, 0, 0, 0, 0, 0, 0, 0, 0, 0, 0, 0, 0, 0, 0, 0, 0, 0, 0, 0, 0, 0, 0, 0, 0, 0, 0, 0, 0, 0, 0, 0, 0, 0, 0, 0, 0, 0, 0, 0, 0, 0, 0, 0, 0, 0, 0, 0, 0, 0, 0, 0, 0, 0, 0, 0, 0, 0, 0, 0, 0, 0, 0, 0, 0, 0, 0, 0, 0, 0, 0, 0, 0, 0, 0, 0, 0, 0, 0, 0, 0, 0, 0, 0, 0, 0, 0, 0, 0, 0, 0, 0, 0, 0, 0, 0, 0, 0, 0, 0, 0, 0, 0, 0, 0, 0, 0, 0, 0, 0, 0, 0, 0, 0, 0, 0, 0, 0, 0, 0, 0, 0, 0, 0, 0, 0, 0, 0, 0, 0, 0, 0, 0, 0, 0, 0, 0]\n",
            "\n",
            "--- Summary ---\n",
            "UniProt Sequence Length: 382\n",
            "Mask Length:             382\n",
            "Residues Maintained (0): 382\n",
            "Residues Deleted (1):    0\n",
            "Residues Mutated (2):    0\n"
          ]
        }
      ],
      "source": [
        "pdb_seq = pdb_sequence\n",
        "uniprot_seq = uniprot_sequence\n",
        "\n",
        "result = create_multi_class_mask(uniprot_seq, pdb_seq)\n",
        "\n",
        "if result:\n",
        "    mask, alignment = result\n",
        "\n",
        "    print(\"\\n\" + \"=\"*80)\n",
        "    print(\"RESULTS\")\n",
        "    print(\"=\"*80)\n",
        "\n",
        "    print(\"\\n--- Visual Alignment ---\")\n",
        "    print(format_alignment_for_display(alignment))\n",
        "\n",
        "    print(f\"\\n--- Multi-Class Mask (first 100 values) ---\")\n",
        "    print(mask)\n",
        "\n",
        "    # --- Statistics ---\n",
        "    maintained_count = mask.count(0)\n",
        "    deleted_count = mask.count(1)\n",
        "    mutated_count = mask.count(2)\n",
        "\n",
        "    print(\"\\n--- Summary ---\")\n",
        "    print(f\"UniProt Sequence Length: {len(uniprot_seq)}\")\n",
        "    print(f\"Mask Length:             {len(mask)}\")\n",
        "    print(f\"Residues Maintained (0): {maintained_count}\")\n",
        "    print(f\"Residues Deleted (1):    {deleted_count}\")\n",
        "    print(f\"Residues Mutated (2):    {mutated_count}\")"
      ]
    },
    {
      "cell_type": "code",
      "execution_count": 28,
      "metadata": {
        "colab": {
          "base_uri": "https://localhost:8080/"
        },
        "id": "hTHvClDRDNWa",
        "outputId": "9254f125-cc69-4b03-a463-9996d50d19cf"
      },
      "outputs": [],
      "source": [
        "# def pd_align(row):\n",
        "#     try:\n",
        "#         return create_multi_class_mask(row['uniprot_seq'], row['pbd_id'])[0]\n",
        "#     except:\n",
        "#         print(\"jere\")"
      ]
    },
    {
      "cell_type": "code",
      "execution_count": 29,
      "metadata": {
        "id": "vVIXm2iLFO-A"
      },
      "outputs": [],
      "source": [
        "# df['label_mask'] = df.apply(lambda row: create_multi_class_mask(row['uniprot_seq'], row['pdb_sequence_sanitized'])[0], axis=1)"
      ]
    },
    {
      "cell_type": "code",
      "execution_count": 30,
      "metadata": {
        "colab": {
          "base_uri": "https://localhost:8080/",
          "height": 361,
          "referenced_widgets": [
            "ededdd420e634ea593ae31792190e4a6",
            "739a6730a52243e988a770425fad3aea",
            "973f4e5de5b74dc0ab4a2ddd15869365",
            "bec457a335804d068940368e5f0e0ff2",
            "a77eb63cb8ef41278eddcbc587b246b5",
            "bd8d62b755e64c8e8c6c10d02d522ce7",
            "48b22de41d994a96bba6cb141ea28b72",
            "c5d0b62a1b804b1d92f03a6b8b49d511",
            "dd267c0e247c4288b244fd937ec9a3cd",
            "b1818aee11d14daaad8a3f300284f49a",
            "a105915e8f67400cb1633cf8b1d94ca1"
          ]
        },
        "id": "m3VIgwXpGit2",
        "outputId": "c440c810-bdc3-495f-ec5f-e82f913573e8"
      },
      "outputs": [],
      "source": [
        "# df['label_mask'] = df.swifter.apply(lambda row: create_multi_class_mask(row['uniprot_seq'], row['pdb_sequence_sanitized'])[0], axis=1)"
      ]
    },
    {
      "cell_type": "code",
      "execution_count": null,
      "metadata": {
        "id": "BYFD-LXdQAS1"
      },
      "outputs": [
        {
          "name": "stderr",
          "output_type": "stream",
          "text": [
            "Pandas Apply:   0%|          | 104/70732 [00:01<21:43, 54.18it/s]Exception ignored in: <bound method IPythonKernel._clean_thread_parent_frames of <ipykernel.ipkernel.IPythonKernel object at 0x107261d90>>\n",
            "Traceback (most recent call last):\n",
            "  File \"/Users/haripat/Desktop/SF/protein/.venv/lib/python3.12/site-packages/ipykernel/ipkernel.py\", line 796, in _clean_thread_parent_frames\n",
            "    active_threads = {thread.ident for thread in threading.enumerate()}\n",
            "                                                 ^^^^^^^^^^^^^^^^^^^^^\n",
            "  File \"/Users/haripat/.local/share/uv/python/cpython-3.12.10-macos-aarch64-none/lib/python3.12/threading.py\", line 1543, in enumerate\n",
            "    with _active_limbo_lock:\n",
            "         ^^^^^^^^^^^^^^^^^^\n",
            "SystemError: <built-in method __enter__ of _thread.RLock object at 0x102d06380> returned a result with an exception set\n",
            "Pandas Apply:   0%|          | 312/70732 [00:05<20:13, 58.02it/s]Exception ignored in: <bound method IPythonKernel._clean_thread_parent_frames of <ipykernel.ipkernel.IPythonKernel object at 0x107261d90>>\n",
            "Traceback (most recent call last):\n",
            "  File \"/Users/haripat/Desktop/SF/protein/.venv/lib/python3.12/site-packages/ipykernel/ipkernel.py\", line 796, in _clean_thread_parent_frames\n",
            "    active_threads = {thread.ident for thread in threading.enumerate()}\n",
            "                                                 ^^^^^^^^^^^^^^^^^^^^^\n",
            "  File \"/Users/haripat/.local/share/uv/python/cpython-3.12.10-macos-aarch64-none/lib/python3.12/threading.py\", line 1543, in enumerate\n",
            "    with _active_limbo_lock:\n",
            "         ^^^^^^^^^^^^^^^^^^\n",
            "SystemError: <built-in method __enter__ of _thread.RLock object at 0x102d06380> returned a result with an exception set\n",
            "Pandas Apply:   7%|▋         | 5304/70732 [02:15<15:26, 70.64it/s]  Exception ignored in: <bound method IPythonKernel._clean_thread_parent_frames of <ipykernel.ipkernel.IPythonKernel object at 0x107261d90>>\n",
            "Traceback (most recent call last):\n",
            "  File \"/Users/haripat/Desktop/SF/protein/.venv/lib/python3.12/site-packages/ipykernel/ipkernel.py\", line 796, in _clean_thread_parent_frames\n",
            "    active_threads = {thread.ident for thread in threading.enumerate()}\n",
            "                                                 ^^^^^^^^^^^^^^^^^^^^^\n",
            "  File \"/Users/haripat/.local/share/uv/python/cpython-3.12.10-macos-aarch64-none/lib/python3.12/threading.py\", line 1543, in enumerate\n",
            "    with _active_limbo_lock:\n",
            "         ^^^^^^^^^^^^^^^^^^\n",
            "SystemError: <built-in method __enter__ of _thread.RLock object at 0x102d06380> returned a result with an exception set\n",
            "Exception ignored in: <bound method IPythonKernel._clean_thread_parent_frames of <ipykernel.ipkernel.IPythonKernel object at 0x107261d90>>\n",
            "Traceback (most recent call last):\n",
            "  File \"/Users/haripat/Desktop/SF/protein/.venv/lib/python3.12/site-packages/ipykernel/ipkernel.py\", line 796, in _clean_thread_parent_frames\n",
            "    active_threads = {thread.ident for thread in threading.enumerate()}\n",
            "                                                 ^^^^^^^^^^^^^^^^^^^^^\n",
            "  File \"/Users/haripat/.local/share/uv/python/cpython-3.12.10-macos-aarch64-none/lib/python3.12/threading.py\", line 1543, in enumerate\n",
            "    with _active_limbo_lock:\n",
            "         ^^^^^^^^^^^^^^^^^^\n",
            "SystemError: <built-in method __enter__ of _thread.RLock object at 0x102d06380> returned a result with an exception set\n",
            "Pandas Apply:   9%|▉         | 6516/70732 [02:44<20:12, 52.98it/s]  Exception ignored in: <bound method IPythonKernel._clean_thread_parent_frames of <ipykernel.ipkernel.IPythonKernel object at 0x107261d90>>\n",
            "Traceback (most recent call last):\n",
            "  File \"/Users/haripat/Desktop/SF/protein/.venv/lib/python3.12/site-packages/ipykernel/ipkernel.py\", line 796, in _clean_thread_parent_frames\n",
            "    active_threads = {thread.ident for thread in threading.enumerate()}\n",
            "                                                 ^^^^^^^^^^^^^^^^^^^^^\n",
            "  File \"/Users/haripat/.local/share/uv/python/cpython-3.12.10-macos-aarch64-none/lib/python3.12/threading.py\", line 1543, in enumerate\n",
            "    with _active_limbo_lock:\n",
            "         ^^^^^^^^^^^^^^^^^^\n",
            "SystemError: <built-in method __enter__ of _thread.RLock object at 0x102d06380> returned a result with an exception set\n",
            "Pandas Apply:  10%|█         | 7280/70732 [03:01<19:26, 54.38it/s]Exception ignored in: <bound method IPythonKernel._clean_thread_parent_frames of <ipykernel.ipkernel.IPythonKernel object at 0x107261d90>>\n",
            "Traceback (most recent call last):\n",
            "  File \"/Users/haripat/Desktop/SF/protein/.venv/lib/python3.12/site-packages/ipykernel/ipkernel.py\", line 796, in _clean_thread_parent_frames\n",
            "    active_threads = {thread.ident for thread in threading.enumerate()}\n",
            "                                                 ^^^^^^^^^^^^^^^^^^^^^\n",
            "  File \"/Users/haripat/.local/share/uv/python/cpython-3.12.10-macos-aarch64-none/lib/python3.12/threading.py\", line 1543, in enumerate\n",
            "    with _active_limbo_lock:\n",
            "         ^^^^^^^^^^^^^^^^^^\n",
            "SystemError: <built-in method __enter__ of _thread.RLock object at 0x102d06380> returned a result with an exception set\n",
            "Exception ignored in: <bound method IPythonKernel._clean_thread_parent_frames of <ipykernel.ipkernel.IPythonKernel object at 0x107261d90>>\n",
            "Traceback (most recent call last):\n",
            "  File \"/Users/haripat/Desktop/SF/protein/.venv/lib/python3.12/site-packages/ipykernel/ipkernel.py\", line 796, in _clean_thread_parent_frames\n",
            "    active_threads = {thread.ident for thread in threading.enumerate()}\n",
            "                                                 ^^^^^^^^^^^^^^^^^^^^^\n",
            "  File \"/Users/haripat/.local/share/uv/python/cpython-3.12.10-macos-aarch64-none/lib/python3.12/threading.py\", line 1543, in enumerate\n",
            "    with _active_limbo_lock:\n",
            "         ^^^^^^^^^^^^^^^^^^\n",
            "SystemError: <built-in method __enter__ of _thread.RLock object at 0x102d06380> returned a result with an exception set\n",
            "Exception ignored in: <bound method IPythonKernel._clean_thread_parent_frames of <ipykernel.ipkernel.IPythonKernel object at 0x107261d90>>\n",
            "Traceback (most recent call last):\n",
            "  File \"/Users/haripat/Desktop/SF/protein/.venv/lib/python3.12/site-packages/ipykernel/ipkernel.py\", line 796, in _clean_thread_parent_frames\n",
            "    active_threads = {thread.ident for thread in threading.enumerate()}\n",
            "                                                 ^^^^^^^^^^^^^^^^^^^^^\n",
            "  File \"/Users/haripat/.local/share/uv/python/cpython-3.12.10-macos-aarch64-none/lib/python3.12/threading.py\", line 1543, in enumerate\n",
            "    with _active_limbo_lock:\n",
            "         ^^^^^^^^^^^^^^^^^^\n",
            "SystemError: <built-in method __enter__ of _thread.RLock object at 0x102d06380> returned a result with an exception set\n",
            "Exception ignored in: <bound method IPythonKernel._clean_thread_parent_frames of <ipykernel.ipkernel.IPythonKernel object at 0x107261d90>>\n",
            "Traceback (most recent call last):\n",
            "  File \"/Users/haripat/Desktop/SF/protein/.venv/lib/python3.12/site-packages/ipykernel/ipkernel.py\", line 796, in _clean_thread_parent_frames\n",
            "    active_threads = {thread.ident for thread in threading.enumerate()}\n",
            "                                                 ^^^^^^^^^^^^^^^^^^^^^\n",
            "  File \"/Users/haripat/.local/share/uv/python/cpython-3.12.10-macos-aarch64-none/lib/python3.12/threading.py\", line 1543, in enumerate\n",
            "    with _active_limbo_lock:\n",
            "         ^^^^^^^^^^^^^^^^^^\n",
            "SystemError: <built-in method __enter__ of _thread.RLock object at 0x102d06380> returned a result with an exception set\n",
            "Pandas Apply:  12%|█▏        | 8528/70732 [03:36<35:05, 29.54it/s]  Exception ignored in: <bound method IPythonKernel._clean_thread_parent_frames of <ipykernel.ipkernel.IPythonKernel object at 0x107261d90>>\n",
            "Traceback (most recent call last):\n",
            "  File \"/Users/haripat/Desktop/SF/protein/.venv/lib/python3.12/site-packages/ipykernel/ipkernel.py\", line 796, in _clean_thread_parent_frames\n",
            "    active_threads = {thread.ident for thread in threading.enumerate()}\n",
            "                                                 ^^^^^^^^^^^^^^^^^^^^^\n",
            "  File \"/Users/haripat/.local/share/uv/python/cpython-3.12.10-macos-aarch64-none/lib/python3.12/threading.py\", line 1543, in enumerate\n",
            "    with _active_limbo_lock:\n",
            "         ^^^^^^^^^^^^^^^^^^\n",
            "SystemError: <built-in method __enter__ of _thread.RLock object at 0x102d06380> returned a result with an exception set\n",
            "Pandas Apply:  22%|██▏       | 15305/70732 [06:07<17:09, 53.85it/s]  Exception ignored in: <bound method IPythonKernel._clean_thread_parent_frames of <ipykernel.ipkernel.IPythonKernel object at 0x107261d90>>\n",
            "Traceback (most recent call last):\n",
            "  File \"/Users/haripat/Desktop/SF/protein/.venv/lib/python3.12/site-packages/ipykernel/ipkernel.py\", line 796, in _clean_thread_parent_frames\n",
            "    active_threads = {thread.ident for thread in threading.enumerate()}\n",
            "                                                 ^^^^^^^^^^^^^^^^^^^^^\n",
            "  File \"/Users/haripat/.local/share/uv/python/cpython-3.12.10-macos-aarch64-none/lib/python3.12/threading.py\", line 1543, in enumerate\n",
            "    with _active_limbo_lock:\n",
            "         ^^^^^^^^^^^^^^^^^^\n",
            "SystemError: <built-in method __enter__ of _thread.RLock object at 0x102d06380> returned a result with an exception set\n",
            "Pandas Apply:  24%|██▍       | 17133/70732 [06:53<14:52, 60.06it/s]  Exception ignored in: <bound method IPythonKernel._clean_thread_parent_frames of <ipykernel.ipkernel.IPythonKernel object at 0x107261d90>>\n",
            "Traceback (most recent call last):\n",
            "  File \"/Users/haripat/Desktop/SF/protein/.venv/lib/python3.12/site-packages/ipykernel/ipkernel.py\", line 796, in _clean_thread_parent_frames\n",
            "    active_threads = {thread.ident for thread in threading.enumerate()}\n",
            "                                                 ^^^^^^^^^^^^^^^^^^^^^\n",
            "  File \"/Users/haripat/.local/share/uv/python/cpython-3.12.10-macos-aarch64-none/lib/python3.12/threading.py\", line 1543, in enumerate\n",
            "    with _active_limbo_lock:\n",
            "         ^^^^^^^^^^^^^^^^^^\n",
            "SystemError: <built-in method __enter__ of _thread.RLock object at 0x102d06380> returned a result with an exception set\n",
            "Pandas Apply:  25%|██▌       | 17791/70732 [07:08<24:41, 35.73it/s]Exception ignored in: <bound method IPythonKernel._clean_thread_parent_frames of <ipykernel.ipkernel.IPythonKernel object at 0x107261d90>>\n",
            "Traceback (most recent call last):\n",
            "  File \"/Users/haripat/Desktop/SF/protein/.venv/lib/python3.12/site-packages/ipykernel/ipkernel.py\", line 796, in _clean_thread_parent_frames\n",
            "    active_threads = {thread.ident for thread in threading.enumerate()}\n",
            "                                                 ^^^^^^^^^^^^^^^^^^^^^\n",
            "  File \"/Users/haripat/.local/share/uv/python/cpython-3.12.10-macos-aarch64-none/lib/python3.12/threading.py\", line 1543, in enumerate\n",
            "    with _active_limbo_lock:\n",
            "         ^^^^^^^^^^^^^^^^^^\n",
            "SystemError: <built-in method __enter__ of _thread.RLock object at 0x102d06380> returned a result with an exception set\n",
            "Pandas Apply:  38%|███▊      | 26717/70732 [10:23<11:04, 66.21it/s]  Exception ignored in: <bound method IPythonKernel._clean_thread_parent_frames of <ipykernel.ipkernel.IPythonKernel object at 0x107261d90>>\n",
            "Traceback (most recent call last):\n",
            "  File \"/Users/haripat/Desktop/SF/protein/.venv/lib/python3.12/site-packages/ipykernel/ipkernel.py\", line 796, in _clean_thread_parent_frames\n",
            "    active_threads = {thread.ident for thread in threading.enumerate()}\n",
            "                                                 ^^^^^^^^^^^^^^^^^^^^^\n",
            "  File \"/Users/haripat/.local/share/uv/python/cpython-3.12.10-macos-aarch64-none/lib/python3.12/threading.py\", line 1543, in enumerate\n",
            "    with _active_limbo_lock:\n",
            "         ^^^^^^^^^^^^^^^^^^\n",
            "SystemError: <built-in method __enter__ of _thread.RLock object at 0x102d06380> returned a result with an exception set\n",
            "Pandas Apply:  38%|███▊      | 26727/70732 [10:23<10:00, 73.34it/s]Exception ignored in: <bound method IPythonKernel._clean_thread_parent_frames of <ipykernel.ipkernel.IPythonKernel object at 0x107261d90>>\n",
            "Traceback (most recent call last):\n",
            "  File \"/Users/haripat/Desktop/SF/protein/.venv/lib/python3.12/site-packages/ipykernel/ipkernel.py\", line 796, in _clean_thread_parent_frames\n",
            "    active_threads = {thread.ident for thread in threading.enumerate()}\n",
            "                                                 ^^^^^^^^^^^^^^^^^^^^^\n",
            "  File \"/Users/haripat/.local/share/uv/python/cpython-3.12.10-macos-aarch64-none/lib/python3.12/threading.py\", line 1543, in enumerate\n",
            "    with _active_limbo_lock:\n",
            "         ^^^^^^^^^^^^^^^^^^\n",
            "SystemError: <built-in method __enter__ of _thread.RLock object at 0x102d06380> returned a result with an exception set\n",
            "Pandas Apply:  48%|████▊     | 33870/70732 [13:22<14:33, 42.22it/s]  Exception ignored in: <bound method IPythonKernel._clean_thread_parent_frames of <ipykernel.ipkernel.IPythonKernel object at 0x107261d90>>\n",
            "Traceback (most recent call last):\n",
            "  File \"/Users/haripat/Desktop/SF/protein/.venv/lib/python3.12/site-packages/ipykernel/ipkernel.py\", line 796, in _clean_thread_parent_frames\n",
            "    active_threads = {thread.ident for thread in threading.enumerate()}\n",
            "                                                 ^^^^^^^^^^^^^^^^^^^^^\n",
            "  File \"/Users/haripat/.local/share/uv/python/cpython-3.12.10-macos-aarch64-none/lib/python3.12/threading.py\", line 1543, in enumerate\n",
            "    with _active_limbo_lock:\n",
            "         ^^^^^^^^^^^^^^^^^^\n",
            "SystemError: <built-in method __enter__ of _thread.RLock object at 0x102d06380> returned a result with an exception set\n",
            "Pandas Apply:  48%|████▊     | 33875/70732 [13:22<14:14, 43.11it/s]Exception ignored in: <bound method IPythonKernel._clean_thread_parent_frames of <ipykernel.ipkernel.IPythonKernel object at 0x107261d90>>\n",
            "Traceback (most recent call last):\n",
            "  File \"/Users/haripat/Desktop/SF/protein/.venv/lib/python3.12/site-packages/ipykernel/ipkernel.py\", line 796, in _clean_thread_parent_frames\n",
            "    active_threads = {thread.ident for thread in threading.enumerate()}\n",
            "                                                 ^^^^^^^^^^^^^^^^^^^^^\n",
            "  File \"/Users/haripat/.local/share/uv/python/cpython-3.12.10-macos-aarch64-none/lib/python3.12/threading.py\", line 1543, in enumerate\n",
            "    with _active_limbo_lock:\n",
            "         ^^^^^^^^^^^^^^^^^^\n",
            "SystemError: <built-in method __enter__ of _thread.RLock object at 0x102d06380> returned a result with an exception set\n",
            "Exception ignored in: <bound method IPythonKernel._clean_thread_parent_frames of <ipykernel.ipkernel.IPythonKernel object at 0x107261d90>>\n",
            "Traceback (most recent call last):\n",
            "  File \"/Users/haripat/Desktop/SF/protein/.venv/lib/python3.12/site-packages/ipykernel/ipkernel.py\", line 796, in _clean_thread_parent_frames\n",
            "    active_threads = {thread.ident for thread in threading.enumerate()}\n",
            "                                                 ^^^^^^^^^^^^^^^^^^^^^\n",
            "  File \"/Users/haripat/.local/share/uv/python/cpython-3.12.10-macos-aarch64-none/lib/python3.12/threading.py\", line 1543, in enumerate\n",
            "    with _active_limbo_lock:\n",
            "         ^^^^^^^^^^^^^^^^^^\n",
            "SystemError: <built-in method __enter__ of _thread.RLock object at 0x102d06380> returned a result with an exception set\n",
            "Exception ignored in: <bound method IPythonKernel._clean_thread_parent_frames of <ipykernel.ipkernel.IPythonKernel object at 0x107261d90>>\n",
            "Traceback (most recent call last):\n",
            "  File \"/Users/haripat/Desktop/SF/protein/.venv/lib/python3.12/site-packages/ipykernel/ipkernel.py\", line 796, in _clean_thread_parent_frames\n",
            "    active_threads = {thread.ident for thread in threading.enumerate()}\n",
            "                                                 ^^^^^^^^^^^^^^^^^^^^^\n",
            "  File \"/Users/haripat/.local/share/uv/python/cpython-3.12.10-macos-aarch64-none/lib/python3.12/threading.py\", line 1543, in enumerate\n",
            "    with _active_limbo_lock:\n",
            "         ^^^^^^^^^^^^^^^^^^\n",
            "SystemError: <built-in method __enter__ of _thread.RLock object at 0x102d06380> returned a result with an exception set\n",
            "Pandas Apply:  48%|████▊     | 33880/70732 [13:22<14:46, 41.58it/s]Exception ignored in: <bound method IPythonKernel._clean_thread_parent_frames of <ipykernel.ipkernel.IPythonKernel object at 0x107261d90>>\n",
            "Traceback (most recent call last):\n",
            "  File \"/Users/haripat/Desktop/SF/protein/.venv/lib/python3.12/site-packages/ipykernel/ipkernel.py\", line 796, in _clean_thread_parent_frames\n",
            "    active_threads = {thread.ident for thread in threading.enumerate()}\n",
            "                                                 ^^^^^^^^^^^^^^^^^^^^^\n",
            "  File \"/Users/haripat/.local/share/uv/python/cpython-3.12.10-macos-aarch64-none/lib/python3.12/threading.py\", line 1543, in enumerate\n",
            "    with _active_limbo_lock:\n",
            "         ^^^^^^^^^^^^^^^^^^\n",
            "SystemError: <built-in method __enter__ of _thread.RLock object at 0x102d06380> returned a result with an exception set\n",
            "Pandas Apply:  52%|█████▏    | 36639/70732 [14:44<08:54, 63.76it/s]  Exception ignored in: <bound method IPythonKernel._clean_thread_parent_frames of <ipykernel.ipkernel.IPythonKernel object at 0x107261d90>>\n",
            "Traceback (most recent call last):\n",
            "  File \"/Users/haripat/Desktop/SF/protein/.venv/lib/python3.12/site-packages/ipykernel/ipkernel.py\", line 796, in _clean_thread_parent_frames\n",
            "    active_threads = {thread.ident for thread in threading.enumerate()}\n",
            "                                                 ^^^^^^^^^^^^^^^^^^^^^\n",
            "  File \"/Users/haripat/.local/share/uv/python/cpython-3.12.10-macos-aarch64-none/lib/python3.12/threading.py\", line 1543, in enumerate\n",
            "    with _active_limbo_lock:\n",
            "         ^^^^^^^^^^^^^^^^^^\n",
            "SystemError: <built-in method __enter__ of _thread.RLock object at 0x102d06380> returned a result with an exception set\n",
            "Exception ignored in: <bound method IPythonKernel._clean_thread_parent_frames of <ipykernel.ipkernel.IPythonKernel object at 0x107261d90>>\n",
            "Traceback (most recent call last):\n",
            "  File \"/Users/haripat/Desktop/SF/protein/.venv/lib/python3.12/site-packages/ipykernel/ipkernel.py\", line 796, in _clean_thread_parent_frames\n",
            "    active_threads = {thread.ident for thread in threading.enumerate()}\n",
            "                                                 ^^^^^^^^^^^^^^^^^^^^^\n",
            "  File \"/Users/haripat/.local/share/uv/python/cpython-3.12.10-macos-aarch64-none/lib/python3.12/threading.py\", line 1543, in enumerate\n",
            "    with _active_limbo_lock:\n",
            "         ^^^^^^^^^^^^^^^^^^\n",
            "SystemError: <built-in method __enter__ of _thread.RLock object at 0x102d06380> returned a result with an exception set\n",
            "Pandas Apply:  52%|█████▏    | 36647/70732 [14:44<08:34, 66.29it/s]Exception ignored in: <bound method IPythonKernel._clean_thread_parent_frames of <ipykernel.ipkernel.IPythonKernel object at 0x107261d90>>\n",
            "Traceback (most recent call last):\n",
            "  File \"/Users/haripat/Desktop/SF/protein/.venv/lib/python3.12/site-packages/ipykernel/ipkernel.py\", line 796, in _clean_thread_parent_frames\n",
            "    active_threads = {thread.ident for thread in threading.enumerate()}\n",
            "                                                 ^^^^^^^^^^^^^^^^^^^^^\n",
            "  File \"/Users/haripat/.local/share/uv/python/cpython-3.12.10-macos-aarch64-none/lib/python3.12/threading.py\", line 1543, in enumerate\n",
            "    with _active_limbo_lock:\n",
            "         ^^^^^^^^^^^^^^^^^^\n",
            "SystemError: <built-in method __enter__ of _thread.RLock object at 0x102d06380> returned a result with an exception set\n",
            "Exception ignored in: <bound method IPythonKernel._clean_thread_parent_frames of <ipykernel.ipkernel.IPythonKernel object at 0x107261d90>>\n",
            "Traceback (most recent call last):\n",
            "  File \"/Users/haripat/Desktop/SF/protein/.venv/lib/python3.12/site-packages/ipykernel/ipkernel.py\", line 796, in _clean_thread_parent_frames\n",
            "    active_threads = {thread.ident for thread in threading.enumerate()}\n",
            "                                                 ^^^^^^^^^^^^^^^^^^^^^\n",
            "  File \"/Users/haripat/.local/share/uv/python/cpython-3.12.10-macos-aarch64-none/lib/python3.12/threading.py\", line 1543, in enumerate\n",
            "    with _active_limbo_lock:\n",
            "         ^^^^^^^^^^^^^^^^^^\n",
            "SystemError: <built-in method __enter__ of _thread.RLock object at 0x102d06380> returned a result with an exception set\n",
            "Exception ignored in: <bound method IPythonKernel._clean_thread_parent_frames of <ipykernel.ipkernel.IPythonKernel object at 0x107261d90>>\n",
            "Traceback (most recent call last):\n",
            "  File \"/Users/haripat/Desktop/SF/protein/.venv/lib/python3.12/site-packages/ipykernel/ipkernel.py\", line 796, in _clean_thread_parent_frames\n",
            "    active_threads = {thread.ident for thread in threading.enumerate()}\n",
            "                                                 ^^^^^^^^^^^^^^^^^^^^^\n",
            "  File \"/Users/haripat/.local/share/uv/python/cpython-3.12.10-macos-aarch64-none/lib/python3.12/threading.py\", line 1543, in enumerate\n",
            "    with _active_limbo_lock:\n",
            "         ^^^^^^^^^^^^^^^^^^\n",
            "SystemError: <built-in method __enter__ of _thread.RLock object at 0x102d06380> returned a result with an exception set\n",
            "Exception ignored in: <bound method IPythonKernel._clean_thread_parent_frames of <ipykernel.ipkernel.IPythonKernel object at 0x107261d90>>\n",
            "Traceback (most recent call last):\n",
            "  File \"/Users/haripat/Desktop/SF/protein/.venv/lib/python3.12/site-packages/ipykernel/ipkernel.py\", line 796, in _clean_thread_parent_frames\n",
            "    active_threads = {thread.ident for thread in threading.enumerate()}\n",
            "                                                 ^^^^^^^^^^^^^^^^^^^^^\n",
            "  File \"/Users/haripat/.local/share/uv/python/cpython-3.12.10-macos-aarch64-none/lib/python3.12/threading.py\", line 1543, in enumerate\n",
            "    with _active_limbo_lock:\n",
            "         ^^^^^^^^^^^^^^^^^^\n",
            "SystemError: <built-in method __enter__ of _thread.RLock object at 0x102d06380> returned a result with an exception set\n",
            "Pandas Apply:  73%|███████▎  | 51510/70732 [20:10<07:25, 43.16it/s]  "
          ]
        }
      ],
      "source": [
        "df['label_mask'] = df.swifter.apply(lambda row: create_multi_class_mask(row['uniprot_seq'], row['pdb_sequence_sanitized'])[0], axis=1)"
      ]
    },
    {
      "cell_type": "code",
      "execution_count": 13,
      "metadata": {},
      "outputs": [],
      "source": [
        "# 51510, 36647, 5304, 6516"
      ]
    },
    {
      "cell_type": "code",
      "execution_count": 16,
      "metadata": {},
      "outputs": [],
      "source": [
        "import dask.dataframe as dd\n",
        "\n",
        "ddf = dd.from_pandas(df[0:1000], npartitions=6)\n",
        "\n",
        "def apply_mask(partition):\n",
        "    return partition.apply(\n",
        "        lambda row: create_multi_class_mask(row['uniprot_seq'], row['pdb_sequence_sanitized'])[0], \n",
        "        axis=1\n",
        "    )\n",
        "\n",
        "# result = ddf.map_partitions(apply_mask, meta=('label_mask', 'object')).compute()\n",
        "# df['label_mask'] = result "
      ]
    },
    {
      "cell_type": "code",
      "execution_count": 17,
      "metadata": {},
      "outputs": [
        {
          "ename": "KeyboardInterrupt",
          "evalue": "",
          "output_type": "error",
          "traceback": [
            "\u001b[31m---------------------------------------------------------------------------\u001b[39m",
            "\u001b[31mKeyboardInterrupt\u001b[39m                         Traceback (most recent call last)",
            "\u001b[36mCell\u001b[39m\u001b[36m \u001b[39m\u001b[32mIn[17]\u001b[39m\u001b[32m, line 1\u001b[39m\n\u001b[32m----> \u001b[39m\u001b[32m1\u001b[39m result = \u001b[43mddf\u001b[49m\u001b[43m.\u001b[49m\u001b[43mmap_partitions\u001b[49m\u001b[43m(\u001b[49m\u001b[43mapply_mask\u001b[49m\u001b[43m,\u001b[49m\u001b[43m \u001b[49m\u001b[43mmeta\u001b[49m\u001b[43m=\u001b[49m\u001b[43m(\u001b[49m\u001b[33;43m'\u001b[39;49m\u001b[33;43mlabel_mask\u001b[39;49m\u001b[33;43m'\u001b[39;49m\u001b[43m,\u001b[49m\u001b[43m \u001b[49m\u001b[33;43m'\u001b[39;49m\u001b[33;43mobject\u001b[39;49m\u001b[33;43m'\u001b[39;49m\u001b[43m)\u001b[49m\u001b[43m)\u001b[49m\u001b[43m.\u001b[49m\u001b[43mcompute\u001b[49m\u001b[43m(\u001b[49m\u001b[43m)\u001b[49m\n",
            "\u001b[36mFile \u001b[39m\u001b[32m~/Desktop/SF/protein/.venv/lib/python3.12/site-packages/dask/base.py:373\u001b[39m, in \u001b[36mDaskMethodsMixin.compute\u001b[39m\u001b[34m(self, **kwargs)\u001b[39m\n\u001b[32m    349\u001b[39m \u001b[38;5;28;01mdef\u001b[39;00m\u001b[38;5;250m \u001b[39m\u001b[34mcompute\u001b[39m(\u001b[38;5;28mself\u001b[39m, **kwargs):\n\u001b[32m    350\u001b[39m \u001b[38;5;250m    \u001b[39m\u001b[33;03m\"\"\"Compute this dask collection\u001b[39;00m\n\u001b[32m    351\u001b[39m \n\u001b[32m    352\u001b[39m \u001b[33;03m    This turns a lazy Dask collection into its in-memory equivalent.\u001b[39;00m\n\u001b[32m   (...)\u001b[39m\u001b[32m    371\u001b[39m \u001b[33;03m    dask.compute\u001b[39;00m\n\u001b[32m    372\u001b[39m \u001b[33;03m    \"\"\"\u001b[39;00m\n\u001b[32m--> \u001b[39m\u001b[32m373\u001b[39m     (result,) = \u001b[43mcompute\u001b[49m\u001b[43m(\u001b[49m\u001b[38;5;28;43mself\u001b[39;49m\u001b[43m,\u001b[49m\u001b[43m \u001b[49m\u001b[43mtraverse\u001b[49m\u001b[43m=\u001b[49m\u001b[38;5;28;43;01mFalse\u001b[39;49;00m\u001b[43m,\u001b[49m\u001b[43m \u001b[49m\u001b[43m*\u001b[49m\u001b[43m*\u001b[49m\u001b[43mkwargs\u001b[49m\u001b[43m)\u001b[49m\n\u001b[32m    374\u001b[39m     \u001b[38;5;28;01mreturn\u001b[39;00m result\n",
            "\u001b[36mFile \u001b[39m\u001b[32m~/Desktop/SF/protein/.venv/lib/python3.12/site-packages/dask/base.py:681\u001b[39m, in \u001b[36mcompute\u001b[39m\u001b[34m(traverse, optimize_graph, scheduler, get, *args, **kwargs)\u001b[39m\n\u001b[32m    678\u001b[39m     expr = expr.optimize()\n\u001b[32m    679\u001b[39m     keys = \u001b[38;5;28mlist\u001b[39m(flatten(expr.__dask_keys__()))\n\u001b[32m--> \u001b[39m\u001b[32m681\u001b[39m     results = \u001b[43mschedule\u001b[49m\u001b[43m(\u001b[49m\u001b[43mexpr\u001b[49m\u001b[43m,\u001b[49m\u001b[43m \u001b[49m\u001b[43mkeys\u001b[49m\u001b[43m,\u001b[49m\u001b[43m \u001b[49m\u001b[43m*\u001b[49m\u001b[43m*\u001b[49m\u001b[43mkwargs\u001b[49m\u001b[43m)\u001b[49m\n\u001b[32m    683\u001b[39m \u001b[38;5;28;01mreturn\u001b[39;00m repack(results)\n",
            "\u001b[36mFile \u001b[39m\u001b[32m~/.local/share/uv/python/cpython-3.12.10-macos-aarch64-none/lib/python3.12/threading.py:991\u001b[39m, in \u001b[36mThread.start\u001b[39m\u001b[34m(self)\u001b[39m\n\u001b[32m    988\u001b[39m \u001b[38;5;28;01mif\u001b[39;00m \u001b[38;5;28mself\u001b[39m._started.is_set():\n\u001b[32m    989\u001b[39m     \u001b[38;5;28;01mraise\u001b[39;00m \u001b[38;5;167;01mRuntimeError\u001b[39;00m(\u001b[33m\"\u001b[39m\u001b[33mthreads can only be started once\u001b[39m\u001b[33m\"\u001b[39m)\n\u001b[32m--> \u001b[39m\u001b[32m991\u001b[39m \u001b[43m\u001b[49m\u001b[38;5;28;43;01mwith\u001b[39;49;00m\u001b[43m \u001b[49m\u001b[43m_active_limbo_lock\u001b[49m\u001b[43m:\u001b[49m\n\u001b[32m    992\u001b[39m \u001b[43m    \u001b[49m\u001b[43m_limbo\u001b[49m\u001b[43m[\u001b[49m\u001b[38;5;28;43mself\u001b[39;49m\u001b[43m]\u001b[49m\u001b[43m \u001b[49m\u001b[43m=\u001b[49m\u001b[43m \u001b[49m\u001b[38;5;28;43mself\u001b[39;49m\n\u001b[32m    993\u001b[39m \u001b[38;5;28;01mtry\u001b[39;00m:\n",
            "\u001b[31mKeyboardInterrupt\u001b[39m: "
          ]
        }
      ],
      "source": [
        "result = ddf.map_partitions(apply_mask, meta=('label_mask', 'object')).compute()"
      ]
    },
    {
      "cell_type": "code",
      "execution_count": null,
      "metadata": {},
      "outputs": [
        {
          "name": "stderr",
          "output_type": "stream",
          "text": [
            "Exception ignored in: <bound method IPythonKernel._clean_thread_parent_frames of <ipykernel.ipkernel.IPythonKernel object at 0x105a62840>>\n",
            "Traceback (most recent call last):\n",
            "  File \"/Users/haripat/Desktop/SF/protein/.venv/lib/python3.12/site-packages/ipykernel/ipkernel.py\", line 796, in _clean_thread_parent_frames\n",
            "    active_threads = {thread.ident for thread in threading.enumerate()}\n",
            "                                                 ^^^^^^^^^^^^^^^^^^^^^\n",
            "  File \"/Users/haripat/.local/share/uv/python/cpython-3.12.10-macos-aarch64-none/lib/python3.12/threading.py\", line 1543, in enumerate\n",
            "    with _active_limbo_lock:\n",
            "         ^^^^^^^^^^^^^^^^^^\n",
            "SystemError: <built-in method __enter__ of _thread.RLock object at 0x1029c6400> returned a result with an exception set\n",
            "Exception ignored in: <bound method IPythonKernel._clean_thread_parent_frames of <ipykernel.ipkernel.IPythonKernel object at 0x105a62840>>\n",
            "Traceback (most recent call last):\n",
            "  File \"/Users/haripat/Desktop/SF/protein/.venv/lib/python3.12/site-packages/ipykernel/ipkernel.py\", line 796, in _clean_thread_parent_frames\n",
            "    active_threads = {thread.ident for thread in threading.enumerate()}\n",
            "                                                 ^^^^^^^^^^^^^^^^^^^^^\n",
            "  File \"/Users/haripat/.local/share/uv/python/cpython-3.12.10-macos-aarch64-none/lib/python3.12/threading.py\", line 1543, in enumerate\n",
            "    with _active_limbo_lock:\n",
            "         ^^^^^^^^^^^^^^^^^^\n",
            "SystemError: <built-in method __enter__ of _thread.RLock object at 0x1029c6400> returned a result with an exception set\n",
            "Exception ignored in: <bound method IPythonKernel._clean_thread_parent_frames of <ipykernel.ipkernel.IPythonKernel object at 0x105a62840>>\n",
            "Traceback (most recent call last):\n",
            "  File \"/Users/haripat/Desktop/SF/protein/.venv/lib/python3.12/site-packages/ipykernel/ipkernel.py\", line 796, in _clean_thread_parent_frames\n",
            "    active_threads = {thread.ident for thread in threading.enumerate()}\n",
            "                                                 ^^^^^^^^^^^^^^^^^^^^^\n",
            "  File \"/Users/haripat/.local/share/uv/python/cpython-3.12.10-macos-aarch64-none/lib/python3.12/threading.py\", line 1543, in enumerate\n",
            "    with _active_limbo_lock:\n",
            "         ^^^^^^^^^^^^^^^^^^\n",
            "SystemError: <built-in method __enter__ of _thread.RLock object at 0x1029c6400> returned a result with an exception set\n"
          ]
        }
      ],
      "source": [
        "results = []\n",
        "for index, row in df.iterrows():\n",
        "    try:\n",
        "        mask = create_multi_class_mask(row['uniprot_seq'], row['pdb_sequence_sanitized'])[0]\n",
        "        results.append(mask)\n",
        "    except:\n",
        "        print(f\"Error processing row {index}\")\n",
        "        results.append(None) "
      ]
    },
    {
      "cell_type": "code",
      "execution_count": 12,
      "metadata": {},
      "outputs": [],
      "source": [
        "# results[0]"
      ]
    },
    {
      "cell_type": "code",
      "execution_count": null,
      "metadata": {},
      "outputs": [],
      "source": []
    }
  ],
  "metadata": {
    "colab": {
      "provenance": []
    },
    "kernelspec": {
      "display_name": "protein",
      "language": "python",
      "name": "python3"
    },
    "language_info": {
      "codemirror_mode": {
        "name": "ipython",
        "version": 3
      },
      "file_extension": ".py",
      "mimetype": "text/x-python",
      "name": "python",
      "nbconvert_exporter": "python",
      "pygments_lexer": "ipython3",
      "version": "3.12.10"
    },
    "widgets": {
      "application/vnd.jupyter.widget-state+json": {
        "48b22de41d994a96bba6cb141ea28b72": {
          "model_module": "@jupyter-widgets/controls",
          "model_module_version": "1.5.0",
          "model_name": "DescriptionStyleModel",
          "state": {
            "_model_module": "@jupyter-widgets/controls",
            "_model_module_version": "1.5.0",
            "_model_name": "DescriptionStyleModel",
            "_view_count": null,
            "_view_module": "@jupyter-widgets/base",
            "_view_module_version": "1.2.0",
            "_view_name": "StyleView",
            "description_width": ""
          }
        },
        "739a6730a52243e988a770425fad3aea": {
          "model_module": "@jupyter-widgets/controls",
          "model_module_version": "1.5.0",
          "model_name": "HTMLModel",
          "state": {
            "_dom_classes": [],
            "_model_module": "@jupyter-widgets/controls",
            "_model_module_version": "1.5.0",
            "_model_name": "HTMLModel",
            "_view_count": null,
            "_view_module": "@jupyter-widgets/controls",
            "_view_module_version": "1.5.0",
            "_view_name": "HTMLView",
            "description": "",
            "description_tooltip": null,
            "layout": "IPY_MODEL_bd8d62b755e64c8e8c6c10d02d522ce7",
            "placeholder": "​",
            "style": "IPY_MODEL_48b22de41d994a96bba6cb141ea28b72",
            "value": "Pandas Apply:   3%"
          }
        },
        "973f4e5de5b74dc0ab4a2ddd15869365": {
          "model_module": "@jupyter-widgets/controls",
          "model_module_version": "1.5.0",
          "model_name": "FloatProgressModel",
          "state": {
            "_dom_classes": [],
            "_model_module": "@jupyter-widgets/controls",
            "_model_module_version": "1.5.0",
            "_model_name": "FloatProgressModel",
            "_view_count": null,
            "_view_module": "@jupyter-widgets/controls",
            "_view_module_version": "1.5.0",
            "_view_name": "ProgressView",
            "bar_style": "",
            "description": "",
            "description_tooltip": null,
            "layout": "IPY_MODEL_c5d0b62a1b804b1d92f03a6b8b49d511",
            "max": 70732,
            "min": 0,
            "orientation": "horizontal",
            "style": "IPY_MODEL_dd267c0e247c4288b244fd937ec9a3cd",
            "value": 1862
          }
        },
        "a105915e8f67400cb1633cf8b1d94ca1": {
          "model_module": "@jupyter-widgets/controls",
          "model_module_version": "1.5.0",
          "model_name": "DescriptionStyleModel",
          "state": {
            "_model_module": "@jupyter-widgets/controls",
            "_model_module_version": "1.5.0",
            "_model_name": "DescriptionStyleModel",
            "_view_count": null,
            "_view_module": "@jupyter-widgets/base",
            "_view_module_version": "1.2.0",
            "_view_name": "StyleView",
            "description_width": ""
          }
        },
        "a77eb63cb8ef41278eddcbc587b246b5": {
          "model_module": "@jupyter-widgets/base",
          "model_module_version": "1.2.0",
          "model_name": "LayoutModel",
          "state": {
            "_model_module": "@jupyter-widgets/base",
            "_model_module_version": "1.2.0",
            "_model_name": "LayoutModel",
            "_view_count": null,
            "_view_module": "@jupyter-widgets/base",
            "_view_module_version": "1.2.0",
            "_view_name": "LayoutView",
            "align_content": null,
            "align_items": null,
            "align_self": null,
            "border": null,
            "bottom": null,
            "display": null,
            "flex": null,
            "flex_flow": null,
            "grid_area": null,
            "grid_auto_columns": null,
            "grid_auto_flow": null,
            "grid_auto_rows": null,
            "grid_column": null,
            "grid_gap": null,
            "grid_row": null,
            "grid_template_areas": null,
            "grid_template_columns": null,
            "grid_template_rows": null,
            "height": null,
            "justify_content": null,
            "justify_items": null,
            "left": null,
            "margin": null,
            "max_height": null,
            "max_width": null,
            "min_height": null,
            "min_width": null,
            "object_fit": null,
            "object_position": null,
            "order": null,
            "overflow": null,
            "overflow_x": null,
            "overflow_y": null,
            "padding": null,
            "right": null,
            "top": null,
            "visibility": null,
            "width": null
          }
        },
        "b1818aee11d14daaad8a3f300284f49a": {
          "model_module": "@jupyter-widgets/base",
          "model_module_version": "1.2.0",
          "model_name": "LayoutModel",
          "state": {
            "_model_module": "@jupyter-widgets/base",
            "_model_module_version": "1.2.0",
            "_model_name": "LayoutModel",
            "_view_count": null,
            "_view_module": "@jupyter-widgets/base",
            "_view_module_version": "1.2.0",
            "_view_name": "LayoutView",
            "align_content": null,
            "align_items": null,
            "align_self": null,
            "border": null,
            "bottom": null,
            "display": null,
            "flex": null,
            "flex_flow": null,
            "grid_area": null,
            "grid_auto_columns": null,
            "grid_auto_flow": null,
            "grid_auto_rows": null,
            "grid_column": null,
            "grid_gap": null,
            "grid_row": null,
            "grid_template_areas": null,
            "grid_template_columns": null,
            "grid_template_rows": null,
            "height": null,
            "justify_content": null,
            "justify_items": null,
            "left": null,
            "margin": null,
            "max_height": null,
            "max_width": null,
            "min_height": null,
            "min_width": null,
            "object_fit": null,
            "object_position": null,
            "order": null,
            "overflow": null,
            "overflow_x": null,
            "overflow_y": null,
            "padding": null,
            "right": null,
            "top": null,
            "visibility": null,
            "width": null
          }
        },
        "bd8d62b755e64c8e8c6c10d02d522ce7": {
          "model_module": "@jupyter-widgets/base",
          "model_module_version": "1.2.0",
          "model_name": "LayoutModel",
          "state": {
            "_model_module": "@jupyter-widgets/base",
            "_model_module_version": "1.2.0",
            "_model_name": "LayoutModel",
            "_view_count": null,
            "_view_module": "@jupyter-widgets/base",
            "_view_module_version": "1.2.0",
            "_view_name": "LayoutView",
            "align_content": null,
            "align_items": null,
            "align_self": null,
            "border": null,
            "bottom": null,
            "display": null,
            "flex": null,
            "flex_flow": null,
            "grid_area": null,
            "grid_auto_columns": null,
            "grid_auto_flow": null,
            "grid_auto_rows": null,
            "grid_column": null,
            "grid_gap": null,
            "grid_row": null,
            "grid_template_areas": null,
            "grid_template_columns": null,
            "grid_template_rows": null,
            "height": null,
            "justify_content": null,
            "justify_items": null,
            "left": null,
            "margin": null,
            "max_height": null,
            "max_width": null,
            "min_height": null,
            "min_width": null,
            "object_fit": null,
            "object_position": null,
            "order": null,
            "overflow": null,
            "overflow_x": null,
            "overflow_y": null,
            "padding": null,
            "right": null,
            "top": null,
            "visibility": null,
            "width": null
          }
        },
        "bec457a335804d068940368e5f0e0ff2": {
          "model_module": "@jupyter-widgets/controls",
          "model_module_version": "1.5.0",
          "model_name": "HTMLModel",
          "state": {
            "_dom_classes": [],
            "_model_module": "@jupyter-widgets/controls",
            "_model_module_version": "1.5.0",
            "_model_name": "HTMLModel",
            "_view_count": null,
            "_view_module": "@jupyter-widgets/controls",
            "_view_module_version": "1.5.0",
            "_view_name": "HTMLView",
            "description": "",
            "description_tooltip": null,
            "layout": "IPY_MODEL_b1818aee11d14daaad8a3f300284f49a",
            "placeholder": "​",
            "style": "IPY_MODEL_a105915e8f67400cb1633cf8b1d94ca1",
            "value": " 1862/70732 [02:42&lt;2:51:48,  6.68it/s]"
          }
        },
        "c5d0b62a1b804b1d92f03a6b8b49d511": {
          "model_module": "@jupyter-widgets/base",
          "model_module_version": "1.2.0",
          "model_name": "LayoutModel",
          "state": {
            "_model_module": "@jupyter-widgets/base",
            "_model_module_version": "1.2.0",
            "_model_name": "LayoutModel",
            "_view_count": null,
            "_view_module": "@jupyter-widgets/base",
            "_view_module_version": "1.2.0",
            "_view_name": "LayoutView",
            "align_content": null,
            "align_items": null,
            "align_self": null,
            "border": null,
            "bottom": null,
            "display": null,
            "flex": null,
            "flex_flow": null,
            "grid_area": null,
            "grid_auto_columns": null,
            "grid_auto_flow": null,
            "grid_auto_rows": null,
            "grid_column": null,
            "grid_gap": null,
            "grid_row": null,
            "grid_template_areas": null,
            "grid_template_columns": null,
            "grid_template_rows": null,
            "height": null,
            "justify_content": null,
            "justify_items": null,
            "left": null,
            "margin": null,
            "max_height": null,
            "max_width": null,
            "min_height": null,
            "min_width": null,
            "object_fit": null,
            "object_position": null,
            "order": null,
            "overflow": null,
            "overflow_x": null,
            "overflow_y": null,
            "padding": null,
            "right": null,
            "top": null,
            "visibility": null,
            "width": null
          }
        },
        "dd267c0e247c4288b244fd937ec9a3cd": {
          "model_module": "@jupyter-widgets/controls",
          "model_module_version": "1.5.0",
          "model_name": "ProgressStyleModel",
          "state": {
            "_model_module": "@jupyter-widgets/controls",
            "_model_module_version": "1.5.0",
            "_model_name": "ProgressStyleModel",
            "_view_count": null,
            "_view_module": "@jupyter-widgets/base",
            "_view_module_version": "1.2.0",
            "_view_name": "StyleView",
            "bar_color": null,
            "description_width": ""
          }
        },
        "ededdd420e634ea593ae31792190e4a6": {
          "model_module": "@jupyter-widgets/controls",
          "model_module_version": "1.5.0",
          "model_name": "HBoxModel",
          "state": {
            "_dom_classes": [],
            "_model_module": "@jupyter-widgets/controls",
            "_model_module_version": "1.5.0",
            "_model_name": "HBoxModel",
            "_view_count": null,
            "_view_module": "@jupyter-widgets/controls",
            "_view_module_version": "1.5.0",
            "_view_name": "HBoxView",
            "box_style": "",
            "children": [
              "IPY_MODEL_739a6730a52243e988a770425fad3aea",
              "IPY_MODEL_973f4e5de5b74dc0ab4a2ddd15869365",
              "IPY_MODEL_bec457a335804d068940368e5f0e0ff2"
            ],
            "layout": "IPY_MODEL_a77eb63cb8ef41278eddcbc587b246b5"
          }
        }
      }
    }
  },
  "nbformat": 4,
  "nbformat_minor": 0
}
