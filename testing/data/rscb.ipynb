{
 "cells": [
  {
   "cell_type": "code",
   "execution_count": 3,
   "id": "0bfaf0a3",
   "metadata": {},
   "outputs": [],
   "source": [
    "import pandas as pd\n",
    "from rcsbapi.data import DataQuery as Query"
   ]
  },
  {
   "cell_type": "code",
   "execution_count": 53,
   "id": "726b0b82",
   "metadata": {},
   "outputs": [
    {
     "ename": "ValueError",
     "evalue": "Unknown item in return_data_list: ['cellular_location']",
     "output_type": "error",
     "traceback": [
      "\u001b[31m---------------------------------------------------------------------------\u001b[39m",
      "\u001b[31mValueError\u001b[39m                                Traceback (most recent call last)",
      "\u001b[36mCell\u001b[39m\u001b[36m \u001b[39m\u001b[32mIn[53]\u001b[39m\u001b[32m, line 1\u001b[39m\n\u001b[32m----> \u001b[39m\u001b[32m1\u001b[39m query = \u001b[43mQuery\u001b[49m\u001b[43m(\u001b[49m\n\u001b[32m      2\u001b[39m \u001b[43m    \u001b[49m\u001b[43minput_type\u001b[49m\u001b[43m=\u001b[49m\u001b[33;43m\"\u001b[39;49m\u001b[33;43mentries\u001b[39;49m\u001b[33;43m\"\u001b[39;49m\u001b[43m,\u001b[49m\u001b[43m  \u001b[49m\n\u001b[32m      3\u001b[39m \u001b[43m    \u001b[49m\u001b[43minput_ids\u001b[49m\u001b[43m=\u001b[49m\u001b[43m[\u001b[49m\u001b[33;43m\"\u001b[39;49m\u001b[33;43m4HHB\u001b[39;49m\u001b[33;43m\"\u001b[39;49m\u001b[43m]\u001b[49m\u001b[43m,\u001b[49m\u001b[43m    \u001b[49m\n\u001b[32m      4\u001b[39m \u001b[43m    \u001b[49m\u001b[43mreturn_data_list\u001b[49m\u001b[43m=\u001b[49m\u001b[43m[\u001b[49m\n\u001b[32m      5\u001b[39m \u001b[43m            \u001b[49m\u001b[33;43m\"\u001b[39;49m\u001b[33;43mrcsb_id\u001b[39;49m\u001b[33;43m\"\u001b[39;49m\u001b[43m,\u001b[49m\n\u001b[32m      6\u001b[39m \u001b[43m            \u001b[49m\u001b[33;43m\"\u001b[39;49m\u001b[33;43mstruct.title\u001b[39;49m\u001b[33;43m\"\u001b[39;49m\u001b[43m,\u001b[49m\n\u001b[32m      7\u001b[39m \u001b[43m            \u001b[49m\u001b[33;43m\"\u001b[39;49m\u001b[33;43mpolymer_entities.uniprots.rcsb_uniprot_protein.function.details\u001b[39;49m\u001b[33;43m\"\u001b[39;49m\u001b[43m,\u001b[49m\n\u001b[32m      8\u001b[39m \u001b[43m            \u001b[49m\u001b[33;43m\"\u001b[39;49m\u001b[33;43mpolymer_entities.uniprots.rcsb_uniprot_protein.source_organism.scientific_name\u001b[39;49m\u001b[33;43m\"\u001b[39;49m\u001b[43m,\u001b[49m\n\u001b[32m      9\u001b[39m \u001b[43m            \u001b[49m\u001b[33;43m\"\u001b[39;49m\u001b[33;43mpolymer_entities.rcsb_polymer_entity_annotation.name\u001b[39;49m\u001b[33;43m\"\u001b[39;49m\u001b[43m,\u001b[49m\n\u001b[32m     10\u001b[39m \u001b[43m            \u001b[49m\u001b[33;43m\"\u001b[39;49m\u001b[33;43mpolymer_entities.uniprots.rcsb_uniprot_protein.cellular_location\u001b[39;49m\u001b[33;43m\"\u001b[39;49m\n\u001b[32m     11\u001b[39m \u001b[43m        \u001b[49m\u001b[43m]\u001b[49m\n\u001b[32m     12\u001b[39m \u001b[43m)\u001b[49m\n\u001b[32m     14\u001b[39m result_dict = query.exec()\n\u001b[32m     15\u001b[39m result_dict\n",
      "\u001b[36mFile \u001b[39m\u001b[32m~/Desktop/SF/protein/.venv/lib/python3.12/site-packages/rcsbapi/data/data_query.py:65\u001b[39m, in \u001b[36mDataQuery.__init__\u001b[39m\u001b[34m(self, input_type, input_ids, return_data_list, add_rcsb_id, suppress_autocomplete_warning)\u001b[39m\n\u001b[32m     62\u001b[39m \u001b[38;5;28mself\u001b[39m._return_data_list = return_data_list\n\u001b[32m     63\u001b[39m \u001b[38;5;66;03m#\u001b[39;00m\n\u001b[32m     64\u001b[39m \u001b[38;5;66;03m# GraphQL query as a string\u001b[39;00m\n\u001b[32m---> \u001b[39m\u001b[32m65\u001b[39m \u001b[38;5;28mself\u001b[39m._query: Dict[\u001b[38;5;28mstr\u001b[39m, Any] = \u001b[43mDATA_SCHEMA\u001b[49m\u001b[43m.\u001b[49m\u001b[43mconstruct_query\u001b[49m\u001b[43m(\u001b[49m\n\u001b[32m     66\u001b[39m \u001b[43m    \u001b[49m\u001b[43minput_type\u001b[49m\u001b[43m=\u001b[49m\u001b[38;5;28;43mself\u001b[39;49m\u001b[43m.\u001b[49m\u001b[43m_input_type\u001b[49m\u001b[43m,\u001b[49m\n\u001b[32m     67\u001b[39m \u001b[43m    \u001b[49m\u001b[43minput_ids\u001b[49m\u001b[43m=\u001b[49m\u001b[38;5;28;43mself\u001b[39;49m\u001b[43m.\u001b[49m\u001b[43m_input_ids\u001b[49m\u001b[43m,\u001b[49m\n\u001b[32m     68\u001b[39m \u001b[43m    \u001b[49m\u001b[43mreturn_data_list\u001b[49m\u001b[43m=\u001b[49m\u001b[43mreturn_data_list\u001b[49m\u001b[43m,\u001b[49m\n\u001b[32m     69\u001b[39m \u001b[43m    \u001b[49m\u001b[43madd_rcsb_id\u001b[49m\u001b[43m=\u001b[49m\u001b[43madd_rcsb_id\u001b[49m\u001b[43m,\u001b[49m\n\u001b[32m     70\u001b[39m \u001b[43m    \u001b[49m\u001b[43msuppress_autocomplete_warning\u001b[49m\u001b[43m=\u001b[49m\u001b[43msuppress_autocomplete_warning\u001b[49m\n\u001b[32m     71\u001b[39m \u001b[43m\u001b[49m\u001b[43m)\u001b[49m\n\u001b[32m     72\u001b[39m \u001b[38;5;66;03m#\u001b[39;00m\n\u001b[32m     73\u001b[39m \u001b[38;5;66;03m# JSON response to query, will be assigned after executing\u001b[39;00m\n\u001b[32m     74\u001b[39m \u001b[38;5;28mself\u001b[39m._response: Optional[Dict[\u001b[38;5;28mstr\u001b[39m, Any]] = \u001b[38;5;28;01mNone\u001b[39;00m\n",
      "\u001b[36mFile \u001b[39m\u001b[32m~/Desktop/SF/protein/.venv/lib/python3.12/site-packages/rcsbapi/data/data_schema.py:63\u001b[39m, in \u001b[36mDataSchema.construct_query\u001b[39m\u001b[34m(self, input_type, input_ids, return_data_list, add_rcsb_id, suppress_autocomplete_warning)\u001b[39m\n\u001b[32m     60\u001b[39m     \u001b[38;5;28;01mraise\u001b[39;00m \u001b[38;5;167;01mValueError\u001b[39;00m(\u001b[33mf\u001b[39m\u001b[33m\"\u001b[39m\u001b[33mUnknown input type: \u001b[39m\u001b[38;5;132;01m{\u001b[39;00minput_type\u001b[38;5;132;01m}\u001b[39;00m\u001b[33m\"\u001b[39m)\n\u001b[32m     62\u001b[39m \u001b[38;5;66;03m# Check for invalid fields in `return_data_list`\u001b[39;00m\n\u001b[32m---> \u001b[39m\u001b[32m63\u001b[39m \u001b[38;5;28;43mself\u001b[39;49m\u001b[43m.\u001b[49m\u001b[43m_check_return_list\u001b[49m\u001b[43m(\u001b[49m\u001b[43mreturn_data_list\u001b[49m\u001b[43m)\u001b[49m\n\u001b[32m     65\u001b[39m query_args = \u001b[38;5;28mself\u001b[39m._construct_query_args(input_ids=input_ids, input_type=input_type)\n\u001b[32m     67\u001b[39m \u001b[38;5;66;03m# Validate query_args, throw ValueError if there's a problem\u001b[39;00m\n",
      "\u001b[36mFile \u001b[39m\u001b[32m~/Desktop/SF/protein/.venv/lib/python3.12/site-packages/rcsbapi/graphql_schema.py:905\u001b[39m, in \u001b[36mGQLSchema._check_return_list\u001b[39m\u001b[34m(self, return_data_list)\u001b[39m\n\u001b[32m    903\u001b[39m \u001b[38;5;28;01mif\u001b[39;00m unknown_return_list:\n\u001b[32m    904\u001b[39m     error_msg = \u001b[33mf\u001b[39m\u001b[33m\"\u001b[39m\u001b[33mUnknown item in return_data_list: \u001b[39m\u001b[38;5;132;01m{\u001b[39;00munknown_return_list\u001b[38;5;132;01m}\u001b[39;00m\u001b[33m\"\u001b[39m\n\u001b[32m--> \u001b[39m\u001b[32m905\u001b[39m     \u001b[38;5;28;01mraise\u001b[39;00m \u001b[38;5;167;01mValueError\u001b[39;00m(error_msg)\n",
      "\u001b[31mValueError\u001b[39m: Unknown item in return_data_list: ['cellular_location']"
     ]
    }
   ],
   "source": [
    "query = Query(\n",
    "    input_type=\"entries\",  \n",
    "    input_ids=[\"4HHB\"],    \n",
    "    return_data_list=[\n",
    "            \"rcsb_id\",\n",
    "            \"struct.title\",\n",
    "            \"polymer_entities.uniprots.rcsb_uniprot_protein.function.details\",\n",
    "            \"polymer_entities.uniprots.rcsb_uniprot_protein.source_organism.scientific_name\",\n",
    "            \"polymer_entities.rcsb_polymer_entity_annotation.name\",\n",
    "            \"polymer_entities.uniprots.rcsb_uniprot_protein.cellular_location\"\n",
    "        ]\n",
    ")\n",
    "\n",
    "result_dict = query.exec()\n",
    "result_dict"
   ]
  },
  {
   "cell_type": "code",
   "execution_count": 49,
   "id": "128612e9",
   "metadata": {},
   "outputs": [
    {
     "data": {
      "text/plain": [
       "[{'uniprots': [{'rcsb_uniprot_protein': {'function': {'details': 'Involved in oxygen transport from the lung to the various peripheral tissues.'},\n",
       "     'source_organism': {'scientific_name': 'Homo sapiens'}}}]},\n",
       " {'uniprots': [{'rcsb_uniprot_protein': {'function': {'details': 'Involved in oxygen transport from the lung to the various peripheral tissues.'},\n",
       "     'source_organism': {'scientific_name': 'Homo sapiens'}}}]}]"
      ]
     },
     "execution_count": 49,
     "metadata": {},
     "output_type": "execute_result"
    }
   ],
   "source": [
    "result_dict['data']['entries'][0]['polymer_entities']"
   ]
  },
  {
   "cell_type": "code",
   "execution_count": null,
   "id": "e809ecff",
   "metadata": {},
   "outputs": [],
   "source": []
  }
 ],
 "metadata": {
  "kernelspec": {
   "display_name": "protein",
   "language": "python",
   "name": "python3"
  },
  "language_info": {
   "codemirror_mode": {
    "name": "ipython",
    "version": 3
   },
   "file_extension": ".py",
   "mimetype": "text/x-python",
   "name": "python",
   "nbconvert_exporter": "python",
   "pygments_lexer": "ipython3",
   "version": "3.12.10"
  }
 },
 "nbformat": 4,
 "nbformat_minor": 5
}
